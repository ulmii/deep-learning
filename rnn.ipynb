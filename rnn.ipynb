{
 "cells": [
  {
   "cell_type": "code",
   "execution_count": 101,
   "id": "express-equilibrium",
   "metadata": {},
   "outputs": [],
   "source": [
    "import re\n",
    "import numpy as np\n",
    "import pandas as pd\n",
    "import seaborn as sns\n",
    "import nltk\n",
    "from bs4 import BeautifulSoup\n",
    "from sklearn.feature_extraction.text import TfidfVectorizer\n",
    "from gensim.models import Word2Vec, Phrases\n",
    "%matplotlib inline\n",
    "import matplotlib.pyplot as plt"
   ]
  },
  {
   "cell_type": "markdown",
   "id": "steady-perth",
   "metadata": {},
   "source": [
    "# Vanilla RNN"
   ]
  },
  {
   "cell_type": "markdown",
   "id": "suitable-north",
   "metadata": {},
   "source": [
    "![rnn](https://i.imgur.com/tsul5TY.png)"
   ]
  },
  {
   "cell_type": "markdown",
   "id": "stopped-attraction",
   "metadata": {},
   "source": [
    "* Conventional RNN\n",
    "* Usually with sigmoid activation\n",
    "* is trained upon unfonding k-times using the BPTTalgorithm\n",
    "\n",
    "Disadvantages\n",
    "* upon multiple nestings sigmoid(-like) functions lead to exponential decay of error information\n",
    "* vanishing gradient problem\n",
    "* exploding gradient problem\n",
    "* too simple architecture\n",
    "* not flexible enoughfor both short and long-term dependencies\n",
    "* too simplistic however still computationallyexpensive"
   ]
  },
  {
   "cell_type": "markdown",
   "id": "increased-albany",
   "metadata": {},
   "source": [
    "# Natural Language Processing"
   ]
  },
  {
   "cell_type": "markdown",
   "id": "sacred-episode",
   "metadata": {},
   "source": [
    "Dataset \\\n",
    "https://www.kaggle.com/lakshmi25npathi/imdb-dataset-of-50k-movie-reviews"
   ]
  },
  {
   "cell_type": "code",
   "execution_count": 114,
   "id": "gentle-visiting",
   "metadata": {},
   "outputs": [
    {
     "data": {
      "text/html": [
       "<div>\n",
       "<style scoped>\n",
       "    .dataframe tbody tr th:only-of-type {\n",
       "        vertical-align: middle;\n",
       "    }\n",
       "\n",
       "    .dataframe tbody tr th {\n",
       "        vertical-align: top;\n",
       "    }\n",
       "\n",
       "    .dataframe thead th {\n",
       "        text-align: right;\n",
       "    }\n",
       "</style>\n",
       "<table border=\"1\" class=\"dataframe\">\n",
       "  <thead>\n",
       "    <tr style=\"text-align: right;\">\n",
       "      <th></th>\n",
       "      <th>review</th>\n",
       "      <th>sentiment</th>\n",
       "    </tr>\n",
       "  </thead>\n",
       "  <tbody>\n",
       "    <tr>\n",
       "      <th>0</th>\n",
       "      <td>One of the other reviewers has mentioned that ...</td>\n",
       "      <td>positive</td>\n",
       "    </tr>\n",
       "    <tr>\n",
       "      <th>1</th>\n",
       "      <td>A wonderful little production. &lt;br /&gt;&lt;br /&gt;The...</td>\n",
       "      <td>positive</td>\n",
       "    </tr>\n",
       "    <tr>\n",
       "      <th>2</th>\n",
       "      <td>I thought this was a wonderful way to spend ti...</td>\n",
       "      <td>positive</td>\n",
       "    </tr>\n",
       "    <tr>\n",
       "      <th>3</th>\n",
       "      <td>Basically there's a family where a little boy ...</td>\n",
       "      <td>negative</td>\n",
       "    </tr>\n",
       "    <tr>\n",
       "      <th>4</th>\n",
       "      <td>Petter Mattei's \"Love in the Time of Money\" is...</td>\n",
       "      <td>positive</td>\n",
       "    </tr>\n",
       "  </tbody>\n",
       "</table>\n",
       "</div>"
      ],
      "text/plain": [
       "                                              review sentiment\n",
       "0  One of the other reviewers has mentioned that ...  positive\n",
       "1  A wonderful little production. <br /><br />The...  positive\n",
       "2  I thought this was a wonderful way to spend ti...  positive\n",
       "3  Basically there's a family where a little boy ...  negative\n",
       "4  Petter Mattei's \"Love in the Time of Money\" is...  positive"
      ]
     },
     "execution_count": 114,
     "metadata": {},
     "output_type": "execute_result"
    }
   ],
   "source": [
    "df = pd.read_csv('./datasets./IMDB Dataset.csv')\n",
    "df.head()"
   ]
  },
  {
   "cell_type": "code",
   "execution_count": null,
   "id": "secure-biodiversity",
   "metadata": {},
   "outputs": [],
   "source": []
  },
  {
   "cell_type": "code",
   "execution_count": 115,
   "id": "optical-matter",
   "metadata": {},
   "outputs": [
    {
     "name": "stdout",
     "output_type": "stream",
     "text": [
      "I thought this was a wonderful way to spend time on a too hot summer weekend, sitting in the air conditioned theater and watching a light-hearted comedy. The plot is simplistic, but the dialogue is witty and the characters are likable (even the well bread suspected serial killer). While some may be disappointed when they realize this is not Match Point 2: Risk Addiction, I thought it was proof that Woody Allen is still fully in control of the style many of us have grown to love.<br /><br />This was the most I'd laughed at one of Woody's comedies in years (dare I say a decade?). While I've never been impressed with Scarlet Johanson, in this she managed to tone down her \"sexy\" image and jumped right into a average, but spirited young woman.<br /><br />This may not be the crown jewel of his career, but it was wittier than \"Devil Wears Prada\" and more interesting than \"Superman\" a great comedy to go see with friends.\n"
     ]
    }
   ],
   "source": [
    "print(df.review[2])"
   ]
  },
  {
   "cell_type": "markdown",
   "id": "smoking-butter",
   "metadata": {},
   "source": [
    "## Text normalization"
   ]
  },
  {
   "cell_type": "markdown",
   "id": "greek-punch",
   "metadata": {},
   "source": [
    "Reduction of randomness in text. Bringing it closer to a predefined standard. Words can be written in multiple ways or mispelled, especially in social media."
   ]
  },
  {
   "cell_type": "markdown",
   "id": "coordinate-hamilton",
   "metadata": {},
   "source": [
    "### Cleaning"
   ]
  },
  {
   "cell_type": "markdown",
   "id": "spatial-florence",
   "metadata": {},
   "source": [
    "**Lowercasing all the words**"
   ]
  },
  {
   "cell_type": "code",
   "execution_count": 116,
   "id": "static-specific",
   "metadata": {},
   "outputs": [
    {
     "name": "stdout",
     "output_type": "stream",
     "text": [
      "i thought this was a wonderful way to spend time on a too hot summer weekend, sitting in the air conditioned theater and watching a light-hearted comedy. the plot is simplistic, but the dialogue is witty and the characters are likable (even the well bread suspected serial killer). while some may be disappointed when they realize this is not match point 2: risk addiction, i thought it was proof that woody allen is still fully in control of the style many of us have grown to love.<br /><br />this was the most i'd laughed at one of woody's comedies in years (dare i say a decade?). while i've never been impressed with scarlet johanson, in this she managed to tone down her \"sexy\" image and jumped right into a average, but spirited young woman.<br /><br />this may not be the crown jewel of his career, but it was wittier than \"devil wears prada\" and more interesting than \"superman\" a great comedy to go see with friends.\n"
     ]
    }
   ],
   "source": [
    "df.review = df.review.apply(lambda s: s.lower())\n",
    "print(df.review[2])"
   ]
  },
  {
   "cell_type": "markdown",
   "id": "eleven-formation",
   "metadata": {},
   "source": [
    "**Cleaning noise like html tags and punctuation**"
   ]
  },
  {
   "cell_type": "code",
   "execution_count": 117,
   "id": "strong-polyester",
   "metadata": {},
   "outputs": [
    {
     "name": "stdout",
     "output_type": "stream",
     "text": [
      "i thought this was a wonderful way to spend time on a too hot summer weekend, sitting in the air conditioned theater and watching a light-hearted comedy. the plot is simplistic, but the dialogue is witty and the characters are likable (even the well bread suspected serial killer). while some may be disappointed when they realize this is not match point 2: risk addiction, i thought it was proof that woody allen is still fully in control of the style many of us have grown to love.this was the most i'd laughed at one of woody's comedies in years (dare i say a decade?). while i've never been impressed with scarlet johanson, in this she managed to tone down her \"sexy\" image and jumped right into a average, but spirited young woman.this may not be the crown jewel of his career, but it was wittier than \"devil wears prada\" and more interesting than \"superman\" a great comedy to go see with friends.\n"
     ]
    }
   ],
   "source": [
    "df.review = df.review.apply(lambda s: BeautifulSoup(s).get_text())\n",
    "print(df.review[2])"
   ]
  },
  {
   "cell_type": "code",
   "execution_count": 118,
   "id": "destroyed-delivery",
   "metadata": {},
   "outputs": [
    {
     "name": "stdout",
     "output_type": "stream",
     "text": [
      "i thought this was a wonderful way to spend time on a too hot summer weekend sitting in the air conditioned theater and watching a lighthearted comedy the plot is simplistic but the dialogue is witty and the characters are likable even the well bread suspected serial killer while some may be disappointed when they realize this is not match point 2 risk addiction i thought it was proof that woody allen is still fully in control of the style many of us have grown to lovethis was the most id laughed at one of woodys comedies in years dare i say a decade while ive never been impressed with scarlet johanson in this she managed to tone down her sexy image and jumped right into a average but spirited young womanthis may not be the crown jewel of his career but it was wittier than devil wears prada and more interesting than superman a great comedy to go see with friends\n"
     ]
    }
   ],
   "source": [
    "pattern = r'[^a-zA-z0-9\\s]'\n",
    "\n",
    "df.review = df.review.apply(lambda s: re.sub(pattern, '', s))\n",
    "print(df.review[2])"
   ]
  },
  {
   "cell_type": "markdown",
   "id": "still-father",
   "metadata": {},
   "source": [
    "### Tokenize"
   ]
  },
  {
   "cell_type": "code",
   "execution_count": 119,
   "id": "supreme-collect",
   "metadata": {
    "scrolled": true
   },
   "outputs": [
    {
     "name": "stderr",
     "output_type": "stream",
     "text": [
      "[nltk_data] Downloading package punkt to C:\\Users\\Konrad\n",
      "[nltk_data]     Ulman\\AppData\\Roaming\\nltk_data...\n",
      "[nltk_data]   Package punkt is already up-to-date!\n"
     ]
    },
    {
     "name": "stdout",
     "output_type": "stream",
     "text": [
      "['i', 'thought', 'this', 'was', 'a', 'wonderful', 'way', 'to', 'spend', 'time', 'on', 'a', 'too', 'hot', 'summer', 'weekend', 'sitting', 'in', 'the', 'air', 'conditioned', 'theater', 'and', 'watching', 'a', 'lighthearted', 'comedy', 'the', 'plot', 'is', 'simplistic', 'but', 'the', 'dialogue', 'is', 'witty', 'and', 'the', 'characters', 'are', 'likable', 'even', 'the', 'well', 'bread', 'suspected', 'serial', 'killer', 'while', 'some', 'may', 'be', 'disappointed', 'when', 'they', 'realize', 'this', 'is', 'not', 'match', 'point', '2', 'risk', 'addiction', 'i', 'thought', 'it', 'was', 'proof', 'that', 'woody', 'allen', 'is', 'still', 'fully', 'in', 'control', 'of', 'the', 'style', 'many', 'of', 'us', 'have', 'grown', 'to', 'lovethis', 'was', 'the', 'most', 'id', 'laughed', 'at', 'one', 'of', 'woodys', 'comedies', 'in', 'years', 'dare', 'i', 'say', 'a', 'decade', 'while', 'ive', 'never', 'been', 'impressed', 'with', 'scarlet', 'johanson', 'in', 'this', 'she', 'managed', 'to', 'tone', 'down', 'her', 'sexy', 'image', 'and', 'jumped', 'right', 'into', 'a', 'average', 'but', 'spirited', 'young', 'womanthis', 'may', 'not', 'be', 'the', 'crown', 'jewel', 'of', 'his', 'career', 'but', 'it', 'was', 'wittier', 'than', 'devil', 'wears', 'prada', 'and', 'more', 'interesting', 'than', 'superman', 'a', 'great', 'comedy', 'to', 'go', 'see', 'with', 'friends']\n"
     ]
    }
   ],
   "source": [
    "nltk.download('punkt')\n",
    "\n",
    "df[\"review_tokens\"] = df.review.apply(lambda s: nltk.word_tokenize(s))\n",
    "print(df.review_tokens[2])"
   ]
  },
  {
   "cell_type": "markdown",
   "id": "popular-chassis",
   "metadata": {},
   "source": [
    "### Stop word removal"
   ]
  },
  {
   "cell_type": "markdown",
   "id": "invalid-lafayette",
   "metadata": {},
   "source": [
    "Stop words in english are low information words like \"a, is, are\" etc."
   ]
  },
  {
   "cell_type": "code",
   "execution_count": 120,
   "id": "maritime-closer",
   "metadata": {},
   "outputs": [
    {
     "name": "stdout",
     "output_type": "stream",
     "text": [
      "['i', 'me', 'my', 'myself', 'we', 'our', 'ours', 'ourselves', 'you', \"you're\", \"you've\", \"you'll\", \"you'd\", 'your', 'yours', 'yourself', 'yourselves', 'he', 'him', 'his', 'himself', 'she', \"she's\", 'her', 'hers', 'herself', 'it', \"it's\", 'its', 'itself', 'they', 'them', 'their', 'theirs', 'themselves', 'what', 'which', 'who', 'whom', 'this', 'that', \"that'll\", 'these', 'those', 'am', 'is', 'are', 'was', 'were', 'be', 'been', 'being', 'have', 'has', 'had', 'having', 'do', 'does', 'did', 'doing', 'a', 'an', 'the', 'and', 'but', 'if', 'or', 'because', 'as', 'until', 'while', 'of', 'at', 'by', 'for', 'with', 'about', 'against', 'between', 'into', 'through', 'during', 'before', 'after', 'above', 'below', 'to', 'from', 'up', 'down', 'in', 'out', 'on', 'off', 'over', 'under', 'again', 'further', 'then', 'once', 'here', 'there', 'when', 'where', 'why', 'how', 'all', 'any', 'both', 'each', 'few', 'more', 'most', 'other', 'some', 'such', 'no', 'nor', 'not', 'only', 'own', 'same', 'so', 'than', 'too', 'very', 's', 't', 'can', 'will', 'just', 'don', \"don't\", 'should', \"should've\", 'now', 'd', 'll', 'm', 'o', 're', 've', 'y', 'ain', 'aren', \"aren't\", 'couldn', \"couldn't\", 'didn', \"didn't\", 'doesn', \"doesn't\", 'hadn', \"hadn't\", 'hasn', \"hasn't\", 'haven', \"haven't\", 'isn', \"isn't\", 'ma', 'mightn', \"mightn't\", 'mustn', \"mustn't\", 'needn', \"needn't\", 'shan', \"shan't\", 'shouldn', \"shouldn't\", 'wasn', \"wasn't\", 'weren', \"weren't\", 'won', \"won't\", 'wouldn', \"wouldn't\"]\n"
     ]
    },
    {
     "name": "stderr",
     "output_type": "stream",
     "text": [
      "[nltk_data] Downloading package stopwords to C:\\Users\\Konrad\n",
      "[nltk_data]     Ulman\\AppData\\Roaming\\nltk_data...\n",
      "[nltk_data]   Package stopwords is already up-to-date!\n"
     ]
    }
   ],
   "source": [
    "nltk.download('stopwords')\n",
    "\n",
    "stopwords = nltk.corpus.stopwords.words('english')\n",
    "print(stopwords)"
   ]
  },
  {
   "cell_type": "code",
   "execution_count": 121,
   "id": "prescribed-clearing",
   "metadata": {},
   "outputs": [
    {
     "name": "stdout",
     "output_type": "stream",
     "text": [
      "['thought', 'wonderful', 'way', 'spend', 'time', 'hot', 'summer', 'weekend', 'sitting', 'air', 'conditioned', 'theater', 'watching', 'lighthearted', 'comedy', 'plot', 'simplistic', 'dialogue', 'witty', 'characters', 'likable', 'even', 'well', 'bread', 'suspected', 'serial', 'killer', 'may', 'disappointed', 'realize', 'match', 'point', '2', 'risk', 'addiction', 'thought', 'proof', 'woody', 'allen', 'still', 'fully', 'control', 'style', 'many', 'us', 'grown', 'lovethis', 'id', 'laughed', 'one', 'woodys', 'comedies', 'years', 'dare', 'say', 'decade', 'ive', 'never', 'impressed', 'scarlet', 'johanson', 'managed', 'tone', 'sexy', 'image', 'jumped', 'right', 'average', 'spirited', 'young', 'womanthis', 'may', 'crown', 'jewel', 'career', 'wittier', 'devil', 'wears', 'prada', 'interesting', 'superman', 'great', 'comedy', 'go', 'see', 'friends']\n"
     ]
    }
   ],
   "source": [
    "df.review_tokens = df.review_tokens.apply(lambda s: [w for w in s if w not in stopwords])\n",
    "print(df.review_tokens[2])"
   ]
  },
  {
   "cell_type": "markdown",
   "id": "catholic-soviet",
   "metadata": {},
   "source": [
    "### Stemming"
   ]
  },
  {
   "cell_type": "markdown",
   "id": "verified-bronze",
   "metadata": {},
   "source": [
    "Reducing words to their root or stem \\\n",
    "\n",
    "Example:\n",
    "* connect -> connect\n",
    "* connected -> connect\n",
    "* connects -> connect\n",
    "\n",
    "\n",
    "* trouble -> troubl\n",
    "* troubles -> troubl"
   ]
  },
  {
   "cell_type": "code",
   "execution_count": 122,
   "id": "pacific-connecticut",
   "metadata": {},
   "outputs": [
    {
     "name": "stdout",
     "output_type": "stream",
     "text": [
      "['thought', 'wonder', 'way', 'spend', 'time', 'hot', 'summer', 'weekend', 'sit', 'air', 'condit', 'theater', 'watch', 'lightheart', 'comedi', 'plot', 'simplist', 'dialogu', 'witti', 'charact', 'likabl', 'even', 'well', 'bread', 'suspect', 'serial', 'killer', 'may', 'disappoint', 'realiz', 'match', 'point', '2', 'risk', 'addict', 'thought', 'proof', 'woodi', 'allen', 'still', 'fulli', 'control', 'style', 'mani', 'us', 'grown', 'lovethi', 'id', 'laugh', 'one', 'woodi', 'comedi', 'year', 'dare', 'say', 'decad', 'ive', 'never', 'impress', 'scarlet', 'johanson', 'manag', 'tone', 'sexi', 'imag', 'jump', 'right', 'averag', 'spirit', 'young', 'womanthi', 'may', 'crown', 'jewel', 'career', 'wittier', 'devil', 'wear', 'prada', 'interest', 'superman', 'great', 'comedi', 'go', 'see', 'friend']\n"
     ]
    }
   ],
   "source": [
    "stemmer = nltk.stem.SnowballStemmer('english')\n",
    "\n",
    "df['review_stem'] = df.review_tokens.apply(lambda s: [stemmer.stem(w) for w in s])\n",
    "print(df.review_stem[2])"
   ]
  },
  {
   "cell_type": "markdown",
   "id": "driven-shift",
   "metadata": {},
   "source": [
    "### Lemmatization"
   ]
  },
  {
   "cell_type": "markdown",
   "id": "restricted-hypothesis",
   "metadata": {},
   "source": [
    "Transform words to their root form\n",
    "\n",
    "Example:\n",
    "* connect -> connect\n",
    "* connected -> connect\n",
    "* connects -> connect\n",
    "\n",
    "\n",
    "* trouble -> trouble\n",
    "* troubles -> trouble"
   ]
  },
  {
   "cell_type": "code",
   "execution_count": 123,
   "id": "breathing-gender",
   "metadata": {},
   "outputs": [
    {
     "name": "stderr",
     "output_type": "stream",
     "text": [
      "[nltk_data] Downloading package wordnet to C:\\Users\\Konrad\n",
      "[nltk_data]     Ulman\\AppData\\Roaming\\nltk_data...\n",
      "[nltk_data]   Package wordnet is already up-to-date!\n",
      "[nltk_data] Downloading package omw-1.4 to C:\\Users\\Konrad\n",
      "[nltk_data]     Ulman\\AppData\\Roaming\\nltk_data...\n",
      "[nltk_data]   Package omw-1.4 is already up-to-date!\n"
     ]
    },
    {
     "name": "stdout",
     "output_type": "stream",
     "text": [
      "['thought', 'wonderful', 'way', 'spend', 'time', 'hot', 'summer', 'weekend', 'sitting', 'air', 'conditioned', 'theater', 'watching', 'lighthearted', 'comedy', 'plot', 'simplistic', 'dialogue', 'witty', 'character', 'likable', 'even', 'well', 'bread', 'suspected', 'serial', 'killer', 'may', 'disappointed', 'realize', 'match', 'point', '2', 'risk', 'addiction', 'thought', 'proof', 'woody', 'allen', 'still', 'fully', 'control', 'style', 'many', 'u', 'grown', 'lovethis', 'id', 'laughed', 'one', 'woodys', 'comedy', 'year', 'dare', 'say', 'decade', 'ive', 'never', 'impressed', 'scarlet', 'johanson', 'managed', 'tone', 'sexy', 'image', 'jumped', 'right', 'average', 'spirited', 'young', 'womanthis', 'may', 'crown', 'jewel', 'career', 'wittier', 'devil', 'wear', 'prada', 'interesting', 'superman', 'great', 'comedy', 'go', 'see', 'friend']\n"
     ]
    }
   ],
   "source": [
    "nltk.download('wordnet')\n",
    "nltk.download('omw-1.4')\n",
    "lemmatizer = nltk.stem.WordNetLemmatizer()\n",
    "\n",
    "df['review_lemm'] = df.review_tokens.apply(lambda s: [lemmatizer.lemmatize(w) for w in s])\n",
    "print(df.review_lemm[2])"
   ]
  },
  {
   "cell_type": "markdown",
   "id": "sublime-myrtle",
   "metadata": {},
   "source": [
    "### Tagging"
   ]
  },
  {
   "cell_type": "markdown",
   "id": "specialized-outdoors",
   "metadata": {},
   "source": [
    "Enriching data with information about words, like tagging words with the part of speech. Example whether book is a verb or a noun."
   ]
  },
  {
   "cell_type": "code",
   "execution_count": 124,
   "id": "proved-daniel",
   "metadata": {
    "scrolled": false
   },
   "outputs": [
    {
     "name": "stdout",
     "output_type": "stream",
     "text": [
      "$: dollar\n",
      "    $ -$ --$ A$ C$ HK$ M$ NZ$ S$ U.S.$ US$\n",
      "'': closing quotation mark\n",
      "    ' ''\n",
      "(: opening parenthesis\n",
      "    ( [ {\n",
      "): closing parenthesis\n",
      "    ) ] }\n",
      ",: comma\n",
      "    ,\n",
      "--: dash\n",
      "    --\n",
      ".: sentence terminator\n",
      "    . ! ?\n",
      ":: colon or ellipsis\n",
      "    : ; ...\n",
      "CC: conjunction, coordinating\n",
      "    & 'n and both but either et for less minus neither nor or plus so\n",
      "    therefore times v. versus vs. whether yet\n",
      "CD: numeral, cardinal\n",
      "    mid-1890 nine-thirty forty-two one-tenth ten million 0.5 one forty-\n",
      "    seven 1987 twenty '79 zero two 78-degrees eighty-four IX '60s .025\n",
      "    fifteen 271,124 dozen quintillion DM2,000 ...\n",
      "DT: determiner\n",
      "    all an another any both del each either every half la many much nary\n",
      "    neither no some such that the them these this those\n",
      "EX: existential there\n",
      "    there\n",
      "FW: foreign word\n",
      "    gemeinschaft hund ich jeux habeas Haementeria Herr K'ang-si vous\n",
      "    lutihaw alai je jour objets salutaris fille quibusdam pas trop Monte\n",
      "    terram fiche oui corporis ...\n",
      "IN: preposition or conjunction, subordinating\n",
      "    astride among uppon whether out inside pro despite on by throughout\n",
      "    below within for towards near behind atop around if like until below\n",
      "    next into if beside ...\n",
      "JJ: adjective or numeral, ordinal\n",
      "    third ill-mannered pre-war regrettable oiled calamitous first separable\n",
      "    ectoplasmic battery-powered participatory fourth still-to-be-named\n",
      "    multilingual multi-disciplinary ...\n",
      "JJR: adjective, comparative\n",
      "    bleaker braver breezier briefer brighter brisker broader bumper busier\n",
      "    calmer cheaper choosier cleaner clearer closer colder commoner costlier\n",
      "    cozier creamier crunchier cuter ...\n",
      "JJS: adjective, superlative\n",
      "    calmest cheapest choicest classiest cleanest clearest closest commonest\n",
      "    corniest costliest crassest creepiest crudest cutest darkest deadliest\n",
      "    dearest deepest densest dinkiest ...\n",
      "LS: list item marker\n",
      "    A A. B B. C C. D E F First G H I J K One SP-44001 SP-44002 SP-44005\n",
      "    SP-44007 Second Third Three Two * a b c d first five four one six three\n",
      "    two\n",
      "MD: modal auxiliary\n",
      "    can cannot could couldn't dare may might must need ought shall should\n",
      "    shouldn't will would\n",
      "NN: noun, common, singular or mass\n",
      "    common-carrier cabbage knuckle-duster Casino afghan shed thermostat\n",
      "    investment slide humour falloff slick wind hyena override subhumanity\n",
      "    machinist ...\n",
      "NNP: noun, proper, singular\n",
      "    Motown Venneboerger Czestochwa Ranzer Conchita Trumplane Christos\n",
      "    Oceanside Escobar Kreisler Sawyer Cougar Yvette Ervin ODI Darryl CTCA\n",
      "    Shannon A.K.C. Meltex Liverpool ...\n",
      "NNPS: noun, proper, plural\n",
      "    Americans Americas Amharas Amityvilles Amusements Anarcho-Syndicalists\n",
      "    Andalusians Andes Andruses Angels Animals Anthony Antilles Antiques\n",
      "    Apache Apaches Apocrypha ...\n",
      "NNS: noun, common, plural\n",
      "    undergraduates scotches bric-a-brac products bodyguards facets coasts\n",
      "    divestitures storehouses designs clubs fragrances averages\n",
      "    subjectivists apprehensions muses factory-jobs ...\n",
      "PDT: pre-determiner\n",
      "    all both half many quite such sure this\n",
      "POS: genitive marker\n",
      "    ' 's\n",
      "PRP: pronoun, personal\n",
      "    hers herself him himself hisself it itself me myself one oneself ours\n",
      "    ourselves ownself self she thee theirs them themselves they thou thy us\n",
      "PRP$: pronoun, possessive\n",
      "    her his mine my our ours their thy your\n",
      "RB: adverb\n",
      "    occasionally unabatingly maddeningly adventurously professedly\n",
      "    stirringly prominently technologically magisterially predominately\n",
      "    swiftly fiscally pitilessly ...\n",
      "RBR: adverb, comparative\n",
      "    further gloomier grander graver greater grimmer harder harsher\n",
      "    healthier heavier higher however larger later leaner lengthier less-\n",
      "    perfectly lesser lonelier longer louder lower more ...\n",
      "RBS: adverb, superlative\n",
      "    best biggest bluntest earliest farthest first furthest hardest\n",
      "    heartiest highest largest least less most nearest second tightest worst\n",
      "RP: particle\n",
      "    aboard about across along apart around aside at away back before behind\n",
      "    by crop down ever fast for forth from go high i.e. in into just later\n",
      "    low more off on open out over per pie raising start teeth that through\n",
      "    under unto up up-pp upon whole with you\n",
      "SYM: symbol\n",
      "    % & ' '' ''. ) ). * + ,. < = > @ A[fj] U.S U.S.S.R * ** ***\n",
      "TO: \"to\" as preposition or infinitive marker\n",
      "    to\n",
      "UH: interjection\n",
      "    Goodbye Goody Gosh Wow Jeepers Jee-sus Hubba Hey Kee-reist Oops amen\n",
      "    huh howdy uh dammit whammo shucks heck anyways whodunnit honey golly\n",
      "    man baby diddle hush sonuvabitch ...\n",
      "VB: verb, base form\n",
      "    ask assemble assess assign assume atone attention avoid bake balkanize\n",
      "    bank begin behold believe bend benefit bevel beware bless boil bomb\n",
      "    boost brace break bring broil brush build ...\n",
      "VBD: verb, past tense\n",
      "    dipped pleaded swiped regummed soaked tidied convened halted registered\n",
      "    cushioned exacted snubbed strode aimed adopted belied figgered\n",
      "    speculated wore appreciated contemplated ...\n",
      "VBG: verb, present participle or gerund\n",
      "    telegraphing stirring focusing angering judging stalling lactating\n",
      "    hankerin' alleging veering capping approaching traveling besieging\n",
      "    encrypting interrupting erasing wincing ...\n",
      "VBN: verb, past participle\n",
      "    multihulled dilapidated aerosolized chaired languished panelized used\n",
      "    experimented flourished imitated reunifed factored condensed sheared\n",
      "    unsettled primed dubbed desired ...\n",
      "VBP: verb, present tense, not 3rd person singular\n",
      "    predominate wrap resort sue twist spill cure lengthen brush terminate\n",
      "    appear tend stray glisten obtain comprise detest tease attract\n",
      "    emphasize mold postpone sever return wag ...\n",
      "VBZ: verb, present tense, 3rd person singular\n",
      "    bases reconstructs marks mixes displeases seals carps weaves snatches\n",
      "    slumps stretches authorizes smolders pictures emerges stockpiles\n",
      "    seduces fizzes uses bolsters slaps speaks pleads ...\n",
      "WDT: WH-determiner\n",
      "    that what whatever which whichever\n",
      "WP: WH-pronoun\n",
      "    that what whatever whatsoever which who whom whosoever\n",
      "WP$: WH-pronoun, possessive\n",
      "    whose\n",
      "WRB: Wh-adverb\n",
      "    how however whence whenever where whereby whereever wherein whereof why\n",
      "``: opening quotation mark\n",
      "    ` ``\n",
      "None\n"
     ]
    },
    {
     "name": "stderr",
     "output_type": "stream",
     "text": [
      "[nltk_data] Downloading package tagsets to C:\\Users\\Konrad\n",
      "[nltk_data]     Ulman\\AppData\\Roaming\\nltk_data...\n",
      "[nltk_data]   Package tagsets is already up-to-date!\n"
     ]
    }
   ],
   "source": [
    "nltk.download('tagsets')\n",
    "print(nltk.help.upenn_tagset())"
   ]
  },
  {
   "cell_type": "code",
   "execution_count": 125,
   "id": "likely-virgin",
   "metadata": {},
   "outputs": [
    {
     "name": "stderr",
     "output_type": "stream",
     "text": [
      "[nltk_data] Downloading package averaged_perceptron_tagger to\n",
      "[nltk_data]     C:\\Users\\Konrad Ulman\\AppData\\Roaming\\nltk_data...\n",
      "[nltk_data]   Package averaged_perceptron_tagger is already up-to-\n",
      "[nltk_data]       date!\n"
     ]
    },
    {
     "data": {
      "text/html": [
       "<div>\n",
       "<style scoped>\n",
       "    .dataframe tbody tr th:only-of-type {\n",
       "        vertical-align: middle;\n",
       "    }\n",
       "\n",
       "    .dataframe tbody tr th {\n",
       "        vertical-align: top;\n",
       "    }\n",
       "\n",
       "    .dataframe thead th {\n",
       "        text-align: right;\n",
       "    }\n",
       "</style>\n",
       "<table border=\"1\" class=\"dataframe\">\n",
       "  <thead>\n",
       "    <tr style=\"text-align: right;\">\n",
       "      <th></th>\n",
       "      <th>review</th>\n",
       "      <th>sentiment</th>\n",
       "      <th>review_tokens</th>\n",
       "      <th>review_stem</th>\n",
       "      <th>review_lemm</th>\n",
       "      <th>tags</th>\n",
       "    </tr>\n",
       "  </thead>\n",
       "  <tbody>\n",
       "    <tr>\n",
       "      <th>0</th>\n",
       "      <td>one of the other reviewers has mentioned that ...</td>\n",
       "      <td>positive</td>\n",
       "      <td>[one, reviewers, mentioned, watching, 1, oz, e...</td>\n",
       "      <td>[one, review, mention, watch, 1, oz, episod, y...</td>\n",
       "      <td>[one, reviewer, mentioned, watching, 1, oz, ep...</td>\n",
       "      <td>[(one, CD), (reviewers, NNS), (mentioned, VBD)...</td>\n",
       "    </tr>\n",
       "    <tr>\n",
       "      <th>1</th>\n",
       "      <td>a wonderful little production the filming tech...</td>\n",
       "      <td>positive</td>\n",
       "      <td>[wonderful, little, production, filming, techn...</td>\n",
       "      <td>[wonder, littl, product, film, techniqu, unass...</td>\n",
       "      <td>[wonderful, little, production, filming, techn...</td>\n",
       "      <td>[(wonderful, JJ), (little, JJ), (production, N...</td>\n",
       "    </tr>\n",
       "    <tr>\n",
       "      <th>2</th>\n",
       "      <td>i thought this was a wonderful way to spend ti...</td>\n",
       "      <td>positive</td>\n",
       "      <td>[thought, wonderful, way, spend, time, hot, su...</td>\n",
       "      <td>[thought, wonder, way, spend, time, hot, summe...</td>\n",
       "      <td>[thought, wonderful, way, spend, time, hot, su...</td>\n",
       "      <td>[(thought, VBN), (wonderful, JJ), (way, NN), (...</td>\n",
       "    </tr>\n",
       "    <tr>\n",
       "      <th>3</th>\n",
       "      <td>basically theres a family where a little boy j...</td>\n",
       "      <td>negative</td>\n",
       "      <td>[basically, theres, family, little, boy, jake,...</td>\n",
       "      <td>[basic, there, famili, littl, boy, jake, think...</td>\n",
       "      <td>[basically, there, family, little, boy, jake, ...</td>\n",
       "      <td>[(basically, RB), (theres, NNS), (family, NN),...</td>\n",
       "    </tr>\n",
       "    <tr>\n",
       "      <th>4</th>\n",
       "      <td>petter matteis love in the time of money is a ...</td>\n",
       "      <td>positive</td>\n",
       "      <td>[petter, matteis, love, time, money, visually,...</td>\n",
       "      <td>[petter, mattei, love, time, money, visual, st...</td>\n",
       "      <td>[petter, matteis, love, time, money, visually,...</td>\n",
       "      <td>[(petter, NN), (matteis, RBS), (love, JJ), (ti...</td>\n",
       "    </tr>\n",
       "  </tbody>\n",
       "</table>\n",
       "</div>"
      ],
      "text/plain": [
       "                                              review sentiment  \\\n",
       "0  one of the other reviewers has mentioned that ...  positive   \n",
       "1  a wonderful little production the filming tech...  positive   \n",
       "2  i thought this was a wonderful way to spend ti...  positive   \n",
       "3  basically theres a family where a little boy j...  negative   \n",
       "4  petter matteis love in the time of money is a ...  positive   \n",
       "\n",
       "                                       review_tokens  \\\n",
       "0  [one, reviewers, mentioned, watching, 1, oz, e...   \n",
       "1  [wonderful, little, production, filming, techn...   \n",
       "2  [thought, wonderful, way, spend, time, hot, su...   \n",
       "3  [basically, theres, family, little, boy, jake,...   \n",
       "4  [petter, matteis, love, time, money, visually,...   \n",
       "\n",
       "                                         review_stem  \\\n",
       "0  [one, review, mention, watch, 1, oz, episod, y...   \n",
       "1  [wonder, littl, product, film, techniqu, unass...   \n",
       "2  [thought, wonder, way, spend, time, hot, summe...   \n",
       "3  [basic, there, famili, littl, boy, jake, think...   \n",
       "4  [petter, mattei, love, time, money, visual, st...   \n",
       "\n",
       "                                         review_lemm  \\\n",
       "0  [one, reviewer, mentioned, watching, 1, oz, ep...   \n",
       "1  [wonderful, little, production, filming, techn...   \n",
       "2  [thought, wonderful, way, spend, time, hot, su...   \n",
       "3  [basically, there, family, little, boy, jake, ...   \n",
       "4  [petter, matteis, love, time, money, visually,...   \n",
       "\n",
       "                                                tags  \n",
       "0  [(one, CD), (reviewers, NNS), (mentioned, VBD)...  \n",
       "1  [(wonderful, JJ), (little, JJ), (production, N...  \n",
       "2  [(thought, VBN), (wonderful, JJ), (way, NN), (...  \n",
       "3  [(basically, RB), (theres, NNS), (family, NN),...  \n",
       "4  [(petter, NN), (matteis, RBS), (love, JJ), (ti...  "
      ]
     },
     "execution_count": 125,
     "metadata": {},
     "output_type": "execute_result"
    }
   ],
   "source": [
    "nltk.download('averaged_perceptron_tagger')\n",
    "\n",
    "df['tags'] = df.review_tokens.apply(lambda s: nltk.pos_tag(s))\n",
    "df.head()"
   ]
  },
  {
   "cell_type": "markdown",
   "id": "regulation-reunion",
   "metadata": {},
   "source": [
    "### N-Grams"
   ]
  },
  {
   "cell_type": "markdown",
   "id": "homeless-retailer",
   "metadata": {},
   "source": [
    "Combination of N-Words or characters together"
   ]
  },
  {
   "cell_type": "markdown",
   "id": "sufficient-hurricane",
   "metadata": {},
   "source": [
    "![Ngrams](https://cdn.analyticsvidhya.com/wp-content/uploads/2021/03/Screenshot-from-2021-03-23-11-42-12.png)"
   ]
  },
  {
   "cell_type": "code",
   "execution_count": 126,
   "id": "wanted-riding",
   "metadata": {},
   "outputs": [
    {
     "data": {
      "text/html": [
       "<div>\n",
       "<style scoped>\n",
       "    .dataframe tbody tr th:only-of-type {\n",
       "        vertical-align: middle;\n",
       "    }\n",
       "\n",
       "    .dataframe tbody tr th {\n",
       "        vertical-align: top;\n",
       "    }\n",
       "\n",
       "    .dataframe thead th {\n",
       "        text-align: right;\n",
       "    }\n",
       "</style>\n",
       "<table border=\"1\" class=\"dataframe\">\n",
       "  <thead>\n",
       "    <tr style=\"text-align: right;\">\n",
       "      <th></th>\n",
       "      <th>review</th>\n",
       "      <th>sentiment</th>\n",
       "      <th>review_tokens</th>\n",
       "      <th>review_stem</th>\n",
       "      <th>review_lemm</th>\n",
       "      <th>tags</th>\n",
       "      <th>review_bigrams</th>\n",
       "      <th>review_trigrams</th>\n",
       "    </tr>\n",
       "  </thead>\n",
       "  <tbody>\n",
       "    <tr>\n",
       "      <th>0</th>\n",
       "      <td>one of the other reviewers has mentioned that ...</td>\n",
       "      <td>positive</td>\n",
       "      <td>[one, reviewers, mentioned, watching, 1, oz, e...</td>\n",
       "      <td>[one, review, mention, watch, 1, oz, episod, y...</td>\n",
       "      <td>[one, reviewer, mentioned, watching, 1, oz, ep...</td>\n",
       "      <td>[(one, CD), (reviewers, NNS), (mentioned, VBD)...</td>\n",
       "      <td>[(one, reviewers), (reviewers, mentioned), (me...</td>\n",
       "      <td>[(one, reviewers, mentioned), (reviewers, ment...</td>\n",
       "    </tr>\n",
       "    <tr>\n",
       "      <th>1</th>\n",
       "      <td>a wonderful little production the filming tech...</td>\n",
       "      <td>positive</td>\n",
       "      <td>[wonderful, little, production, filming, techn...</td>\n",
       "      <td>[wonder, littl, product, film, techniqu, unass...</td>\n",
       "      <td>[wonderful, little, production, filming, techn...</td>\n",
       "      <td>[(wonderful, JJ), (little, JJ), (production, N...</td>\n",
       "      <td>[(wonderful, little), (little, production), (p...</td>\n",
       "      <td>[(wonderful, little, production), (little, pro...</td>\n",
       "    </tr>\n",
       "    <tr>\n",
       "      <th>2</th>\n",
       "      <td>i thought this was a wonderful way to spend ti...</td>\n",
       "      <td>positive</td>\n",
       "      <td>[thought, wonderful, way, spend, time, hot, su...</td>\n",
       "      <td>[thought, wonder, way, spend, time, hot, summe...</td>\n",
       "      <td>[thought, wonderful, way, spend, time, hot, su...</td>\n",
       "      <td>[(thought, VBN), (wonderful, JJ), (way, NN), (...</td>\n",
       "      <td>[(thought, wonderful), (wonderful, way), (way,...</td>\n",
       "      <td>[(thought, wonderful, way), (wonderful, way, s...</td>\n",
       "    </tr>\n",
       "    <tr>\n",
       "      <th>3</th>\n",
       "      <td>basically theres a family where a little boy j...</td>\n",
       "      <td>negative</td>\n",
       "      <td>[basically, theres, family, little, boy, jake,...</td>\n",
       "      <td>[basic, there, famili, littl, boy, jake, think...</td>\n",
       "      <td>[basically, there, family, little, boy, jake, ...</td>\n",
       "      <td>[(basically, RB), (theres, NNS), (family, NN),...</td>\n",
       "      <td>[(basically, theres), (theres, family), (famil...</td>\n",
       "      <td>[(basically, theres, family), (theres, family,...</td>\n",
       "    </tr>\n",
       "    <tr>\n",
       "      <th>4</th>\n",
       "      <td>petter matteis love in the time of money is a ...</td>\n",
       "      <td>positive</td>\n",
       "      <td>[petter, matteis, love, time, money, visually,...</td>\n",
       "      <td>[petter, mattei, love, time, money, visual, st...</td>\n",
       "      <td>[petter, matteis, love, time, money, visually,...</td>\n",
       "      <td>[(petter, NN), (matteis, RBS), (love, JJ), (ti...</td>\n",
       "      <td>[(petter, matteis), (matteis, love), (love, ti...</td>\n",
       "      <td>[(petter, matteis, love), (matteis, love, time...</td>\n",
       "    </tr>\n",
       "  </tbody>\n",
       "</table>\n",
       "</div>"
      ],
      "text/plain": [
       "                                              review sentiment  \\\n",
       "0  one of the other reviewers has mentioned that ...  positive   \n",
       "1  a wonderful little production the filming tech...  positive   \n",
       "2  i thought this was a wonderful way to spend ti...  positive   \n",
       "3  basically theres a family where a little boy j...  negative   \n",
       "4  petter matteis love in the time of money is a ...  positive   \n",
       "\n",
       "                                       review_tokens  \\\n",
       "0  [one, reviewers, mentioned, watching, 1, oz, e...   \n",
       "1  [wonderful, little, production, filming, techn...   \n",
       "2  [thought, wonderful, way, spend, time, hot, su...   \n",
       "3  [basically, theres, family, little, boy, jake,...   \n",
       "4  [petter, matteis, love, time, money, visually,...   \n",
       "\n",
       "                                         review_stem  \\\n",
       "0  [one, review, mention, watch, 1, oz, episod, y...   \n",
       "1  [wonder, littl, product, film, techniqu, unass...   \n",
       "2  [thought, wonder, way, spend, time, hot, summe...   \n",
       "3  [basic, there, famili, littl, boy, jake, think...   \n",
       "4  [petter, mattei, love, time, money, visual, st...   \n",
       "\n",
       "                                         review_lemm  \\\n",
       "0  [one, reviewer, mentioned, watching, 1, oz, ep...   \n",
       "1  [wonderful, little, production, filming, techn...   \n",
       "2  [thought, wonderful, way, spend, time, hot, su...   \n",
       "3  [basically, there, family, little, boy, jake, ...   \n",
       "4  [petter, matteis, love, time, money, visually,...   \n",
       "\n",
       "                                                tags  \\\n",
       "0  [(one, CD), (reviewers, NNS), (mentioned, VBD)...   \n",
       "1  [(wonderful, JJ), (little, JJ), (production, N...   \n",
       "2  [(thought, VBN), (wonderful, JJ), (way, NN), (...   \n",
       "3  [(basically, RB), (theres, NNS), (family, NN),...   \n",
       "4  [(petter, NN), (matteis, RBS), (love, JJ), (ti...   \n",
       "\n",
       "                                      review_bigrams  \\\n",
       "0  [(one, reviewers), (reviewers, mentioned), (me...   \n",
       "1  [(wonderful, little), (little, production), (p...   \n",
       "2  [(thought, wonderful), (wonderful, way), (way,...   \n",
       "3  [(basically, theres), (theres, family), (famil...   \n",
       "4  [(petter, matteis), (matteis, love), (love, ti...   \n",
       "\n",
       "                                     review_trigrams  \n",
       "0  [(one, reviewers, mentioned), (reviewers, ment...  \n",
       "1  [(wonderful, little, production), (little, pro...  \n",
       "2  [(thought, wonderful, way), (wonderful, way, s...  \n",
       "3  [(basically, theres, family), (theres, family,...  \n",
       "4  [(petter, matteis, love), (matteis, love, time...  "
      ]
     },
     "execution_count": 126,
     "metadata": {},
     "output_type": "execute_result"
    }
   ],
   "source": [
    "df['review_bigrams'] = df.review_tokens.apply(lambda s: list(nltk.bigrams(s)))\n",
    "df['review_trigrams'] = df.review_tokens.apply(lambda s: list(nltk.ngrams(s, 3)))\n",
    "\n",
    "df.head()"
   ]
  },
  {
   "cell_type": "markdown",
   "id": "persistent-transcription",
   "metadata": {},
   "source": [
    "## Text encoding"
   ]
  },
  {
   "cell_type": "markdown",
   "id": "rough-device",
   "metadata": {},
   "source": [
    "Converting text into number/vectors for machines, with preserving the context and relationship between words and sentences"
   ]
  },
  {
   "cell_type": "markdown",
   "id": "differential-partnership",
   "metadata": {},
   "source": [
    "### One-hot encoding"
   ]
  },
  {
   "cell_type": "markdown",
   "id": "blond-intermediate",
   "metadata": {},
   "source": [
    "We create a set of all the words in the document collection, and the determine the presence or absence of a given word in particular document."
   ]
  },
  {
   "cell_type": "markdown",
   "id": "integrated-wholesale",
   "metadata": {},
   "source": [
    "![onehot](https://miro.medium.com/max/2400/1*vmGi5tdY4fVKVBTtynaw7A.png)"
   ]
  },
  {
   "cell_type": "code",
   "execution_count": 127,
   "id": "quality-stomach",
   "metadata": {},
   "outputs": [
    {
     "ename": "ValueError",
     "evalue": "invalid literal for int() with base 10: 'i thought this was a wonderful way to spend time on a too hot summer weekend sitting in the air conditioned theater and watching a lighthearted comedy the plot is simplistic but the dialogue is witty",
     "output_type": "error",
     "traceback": [
      "\u001b[1;31m---------------------------------------------------------------------------\u001b[0m",
      "\u001b[1;31mValueError\u001b[0m                                Traceback (most recent call last)",
      "\u001b[1;32m<ipython-input-127-b9bf8cf2151d>\u001b[0m in \u001b[0;36m<module>\u001b[1;34m\u001b[0m\n\u001b[0;32m      1\u001b[0m \u001b[1;32mfrom\u001b[0m \u001b[0mtensorflow\u001b[0m\u001b[1;33m.\u001b[0m\u001b[0mkeras\u001b[0m\u001b[1;33m.\u001b[0m\u001b[0mutils\u001b[0m \u001b[1;32mimport\u001b[0m \u001b[0mto_categorical\u001b[0m\u001b[1;33m\u001b[0m\u001b[1;33m\u001b[0m\u001b[0m\n\u001b[0;32m      2\u001b[0m \u001b[1;33m\u001b[0m\u001b[0m\n\u001b[1;32m----> 3\u001b[1;33m \u001b[0mencoded\u001b[0m \u001b[1;33m=\u001b[0m \u001b[0mto_categorical\u001b[0m\u001b[1;33m(\u001b[0m\u001b[0mdf\u001b[0m\u001b[1;33m.\u001b[0m\u001b[0mreview\u001b[0m\u001b[1;33m[\u001b[0m\u001b[1;36m2\u001b[0m\u001b[1;33m]\u001b[0m\u001b[1;33m)\u001b[0m\u001b[1;33m\u001b[0m\u001b[1;33m\u001b[0m\u001b[0m\n\u001b[0m",
      "\u001b[1;32m~\\AppData\\Roaming\\Python\\Python38\\site-packages\\tensorflow\\python\\keras\\utils\\np_utils.py\u001b[0m in \u001b[0;36mto_categorical\u001b[1;34m(y, num_classes, dtype)\u001b[0m\n\u001b[0;32m     67\u001b[0m \u001b[1;33m\u001b[0m\u001b[0m\n\u001b[0;32m     68\u001b[0m   \"\"\"\n\u001b[1;32m---> 69\u001b[1;33m   \u001b[0my\u001b[0m \u001b[1;33m=\u001b[0m \u001b[0mnp\u001b[0m\u001b[1;33m.\u001b[0m\u001b[0marray\u001b[0m\u001b[1;33m(\u001b[0m\u001b[0my\u001b[0m\u001b[1;33m,\u001b[0m \u001b[0mdtype\u001b[0m\u001b[1;33m=\u001b[0m\u001b[1;34m'int'\u001b[0m\u001b[1;33m)\u001b[0m\u001b[1;33m\u001b[0m\u001b[1;33m\u001b[0m\u001b[0m\n\u001b[0m\u001b[0;32m     70\u001b[0m   \u001b[0minput_shape\u001b[0m \u001b[1;33m=\u001b[0m \u001b[0my\u001b[0m\u001b[1;33m.\u001b[0m\u001b[0mshape\u001b[0m\u001b[1;33m\u001b[0m\u001b[1;33m\u001b[0m\u001b[0m\n\u001b[0;32m     71\u001b[0m   \u001b[1;32mif\u001b[0m \u001b[0minput_shape\u001b[0m \u001b[1;32mand\u001b[0m \u001b[0minput_shape\u001b[0m\u001b[1;33m[\u001b[0m\u001b[1;33m-\u001b[0m\u001b[1;36m1\u001b[0m\u001b[1;33m]\u001b[0m \u001b[1;33m==\u001b[0m \u001b[1;36m1\u001b[0m \u001b[1;32mand\u001b[0m \u001b[0mlen\u001b[0m\u001b[1;33m(\u001b[0m\u001b[0minput_shape\u001b[0m\u001b[1;33m)\u001b[0m \u001b[1;33m>\u001b[0m \u001b[1;36m1\u001b[0m\u001b[1;33m:\u001b[0m\u001b[1;33m\u001b[0m\u001b[1;33m\u001b[0m\u001b[0m\n",
      "\u001b[1;31mValueError\u001b[0m: invalid literal for int() with base 10: 'i thought this was a wonderful way to spend time on a too hot summer weekend sitting in the air conditioned theater and watching a lighthearted comedy the plot is simplistic but the dialogue is witty"
     ]
    }
   ],
   "source": [
    "from tensorflow.keras.utils import to_categorical\n",
    "\n",
    "encoded = to_categorical(df.review[2])"
   ]
  },
  {
   "cell_type": "markdown",
   "id": "substantial-disney",
   "metadata": {},
   "source": [
    "### Frequency encoding"
   ]
  },
  {
   "cell_type": "markdown",
   "id": "exposed-luxembourg",
   "metadata": {},
   "source": [
    "Similar to one-hot, with added count of how many particular word appeared in one document."
   ]
  },
  {
   "cell_type": "markdown",
   "id": "adequate-public",
   "metadata": {},
   "source": [
    "![frequency](https://miro.medium.com/max/2400/1*iLaVNRfJZYCGmOKdyUzp8w.png)"
   ]
  },
  {
   "cell_type": "code",
   "execution_count": 128,
   "id": "urban-senior",
   "metadata": {},
   "outputs": [
    {
     "name": "stdout",
     "output_type": "stream",
     "text": [
      "['thought', 'wonderful', 'way', 'spend', 'time', 'hot', 'summer', 'weekend', 'sitting', 'air', 'conditioned', 'theater', 'watching', 'lighthearted', 'comedy', 'plot', 'simplistic', 'dialogue', 'witty', 'characters', 'likable', 'even', 'well', 'bread', 'suspected', 'serial', 'killer', 'may', 'disappointed', 'realize', 'match', 'point', '2', 'risk', 'addiction', 'thought', 'proof', 'woody', 'allen', 'still', 'fully', 'control', 'style', 'many', 'us', 'grown', 'lovethis', 'id', 'laughed', 'one', 'woodys', 'comedies', 'years', 'dare', 'say', 'decade', 'ive', 'never', 'impressed', 'scarlet', 'johanson', 'managed', 'tone', 'sexy', 'image', 'jumped', 'right', 'average', 'spirited', 'young', 'womanthis', 'may', 'crown', 'jewel', 'career', 'wittier', 'devil', 'wears', 'prada', 'interesting', 'superman', 'great', 'comedy', 'go', 'see', 'friends']\n"
     ]
    },
    {
     "data": {
      "text/html": [
       "<div>\n",
       "<style scoped>\n",
       "    .dataframe tbody tr th:only-of-type {\n",
       "        vertical-align: middle;\n",
       "    }\n",
       "\n",
       "    .dataframe tbody tr th {\n",
       "        vertical-align: top;\n",
       "    }\n",
       "\n",
       "    .dataframe thead th {\n",
       "        text-align: right;\n",
       "    }\n",
       "</style>\n",
       "<table border=\"1\" class=\"dataframe\">\n",
       "  <thead>\n",
       "    <tr style=\"text-align: right;\">\n",
       "      <th></th>\n",
       "      <th>Word</th>\n",
       "      <th>Frequency</th>\n",
       "    </tr>\n",
       "  </thead>\n",
       "  <tbody>\n",
       "    <tr>\n",
       "      <th>0</th>\n",
       "      <td>thought</td>\n",
       "      <td>2</td>\n",
       "    </tr>\n",
       "    <tr>\n",
       "      <th>1</th>\n",
       "      <td>wonderful</td>\n",
       "      <td>1</td>\n",
       "    </tr>\n",
       "    <tr>\n",
       "      <th>2</th>\n",
       "      <td>way</td>\n",
       "      <td>1</td>\n",
       "    </tr>\n",
       "    <tr>\n",
       "      <th>3</th>\n",
       "      <td>spend</td>\n",
       "      <td>1</td>\n",
       "    </tr>\n",
       "    <tr>\n",
       "      <th>4</th>\n",
       "      <td>time</td>\n",
       "      <td>1</td>\n",
       "    </tr>\n",
       "    <tr>\n",
       "      <th>...</th>\n",
       "      <td>...</td>\n",
       "      <td>...</td>\n",
       "    </tr>\n",
       "    <tr>\n",
       "      <th>78</th>\n",
       "      <td>superman</td>\n",
       "      <td>1</td>\n",
       "    </tr>\n",
       "    <tr>\n",
       "      <th>79</th>\n",
       "      <td>great</td>\n",
       "      <td>1</td>\n",
       "    </tr>\n",
       "    <tr>\n",
       "      <th>80</th>\n",
       "      <td>go</td>\n",
       "      <td>1</td>\n",
       "    </tr>\n",
       "    <tr>\n",
       "      <th>81</th>\n",
       "      <td>see</td>\n",
       "      <td>1</td>\n",
       "    </tr>\n",
       "    <tr>\n",
       "      <th>82</th>\n",
       "      <td>friends</td>\n",
       "      <td>1</td>\n",
       "    </tr>\n",
       "  </tbody>\n",
       "</table>\n",
       "<p>83 rows × 2 columns</p>\n",
       "</div>"
      ],
      "text/plain": [
       "         Word  Frequency\n",
       "0     thought          2\n",
       "1   wonderful          1\n",
       "2         way          1\n",
       "3       spend          1\n",
       "4        time          1\n",
       "..        ...        ...\n",
       "78   superman          1\n",
       "79      great          1\n",
       "80         go          1\n",
       "81        see          1\n",
       "82    friends          1\n",
       "\n",
       "[83 rows x 2 columns]"
      ]
     },
     "execution_count": 128,
     "metadata": {},
     "output_type": "execute_result"
    }
   ],
   "source": [
    "print(df.review_tokens[2])\n",
    "\n",
    "freq = nltk.FreqDist(df.review_tokens[2])\n",
    "\n",
    "pd.DataFrame(list(freq.items()), columns = [\"Word\",\"Frequency\"]) "
   ]
  },
  {
   "cell_type": "markdown",
   "id": "broken-closure",
   "metadata": {},
   "source": [
    "### TF-IDF - Term Frequency — Inverse Document Frequency"
   ]
  },
  {
   "cell_type": "markdown",
   "id": "cooperative-first",
   "metadata": {},
   "source": [
    "Defines how important a word is for a single document, while taking into account relation of all documents"
   ]
  },
  {
   "cell_type": "code",
   "execution_count": 129,
   "id": "distant-lender",
   "metadata": {},
   "outputs": [
    {
     "data": {
      "text/html": [
       "<div>\n",
       "<style scoped>\n",
       "    .dataframe tbody tr th:only-of-type {\n",
       "        vertical-align: middle;\n",
       "    }\n",
       "\n",
       "    .dataframe tbody tr th {\n",
       "        vertical-align: top;\n",
       "    }\n",
       "\n",
       "    .dataframe thead th {\n",
       "        text-align: right;\n",
       "    }\n",
       "</style>\n",
       "<table border=\"1\" class=\"dataframe\">\n",
       "  <thead>\n",
       "    <tr style=\"text-align: right;\">\n",
       "      <th></th>\n",
       "      <th>review</th>\n",
       "      <th>sentiment</th>\n",
       "      <th>review_tokens</th>\n",
       "      <th>review_stem</th>\n",
       "      <th>review_lemm</th>\n",
       "      <th>tags</th>\n",
       "      <th>review_bigrams</th>\n",
       "      <th>review_trigrams</th>\n",
       "    </tr>\n",
       "  </thead>\n",
       "  <tbody>\n",
       "    <tr>\n",
       "      <th>0</th>\n",
       "      <td>one of the other reviewers has mentioned that ...</td>\n",
       "      <td>positive</td>\n",
       "      <td>[one, reviewers, mentioned, watching, 1, oz, e...</td>\n",
       "      <td>[one, review, mention, watch, 1, oz, episod, y...</td>\n",
       "      <td>[one, reviewer, mentioned, watching, 1, oz, ep...</td>\n",
       "      <td>[(one, CD), (reviewers, NNS), (mentioned, VBD)...</td>\n",
       "      <td>[(one, reviewers), (reviewers, mentioned), (me...</td>\n",
       "      <td>[(one, reviewers, mentioned), (reviewers, ment...</td>\n",
       "    </tr>\n",
       "    <tr>\n",
       "      <th>1</th>\n",
       "      <td>a wonderful little production the filming tech...</td>\n",
       "      <td>positive</td>\n",
       "      <td>[wonderful, little, production, filming, techn...</td>\n",
       "      <td>[wonder, littl, product, film, techniqu, unass...</td>\n",
       "      <td>[wonderful, little, production, filming, techn...</td>\n",
       "      <td>[(wonderful, JJ), (little, JJ), (production, N...</td>\n",
       "      <td>[(wonderful, little), (little, production), (p...</td>\n",
       "      <td>[(wonderful, little, production), (little, pro...</td>\n",
       "    </tr>\n",
       "    <tr>\n",
       "      <th>2</th>\n",
       "      <td>i thought this was a wonderful way to spend ti...</td>\n",
       "      <td>positive</td>\n",
       "      <td>[thought, wonderful, way, spend, time, hot, su...</td>\n",
       "      <td>[thought, wonder, way, spend, time, hot, summe...</td>\n",
       "      <td>[thought, wonderful, way, spend, time, hot, su...</td>\n",
       "      <td>[(thought, VBN), (wonderful, JJ), (way, NN), (...</td>\n",
       "      <td>[(thought, wonderful), (wonderful, way), (way,...</td>\n",
       "      <td>[(thought, wonderful, way), (wonderful, way, s...</td>\n",
       "    </tr>\n",
       "    <tr>\n",
       "      <th>3</th>\n",
       "      <td>basically theres a family where a little boy j...</td>\n",
       "      <td>negative</td>\n",
       "      <td>[basically, theres, family, little, boy, jake,...</td>\n",
       "      <td>[basic, there, famili, littl, boy, jake, think...</td>\n",
       "      <td>[basically, there, family, little, boy, jake, ...</td>\n",
       "      <td>[(basically, RB), (theres, NNS), (family, NN),...</td>\n",
       "      <td>[(basically, theres), (theres, family), (famil...</td>\n",
       "      <td>[(basically, theres, family), (theres, family,...</td>\n",
       "    </tr>\n",
       "    <tr>\n",
       "      <th>4</th>\n",
       "      <td>petter matteis love in the time of money is a ...</td>\n",
       "      <td>positive</td>\n",
       "      <td>[petter, matteis, love, time, money, visually,...</td>\n",
       "      <td>[petter, mattei, love, time, money, visual, st...</td>\n",
       "      <td>[petter, matteis, love, time, money, visually,...</td>\n",
       "      <td>[(petter, NN), (matteis, RBS), (love, JJ), (ti...</td>\n",
       "      <td>[(petter, matteis), (matteis, love), (love, ti...</td>\n",
       "      <td>[(petter, matteis, love), (matteis, love, time...</td>\n",
       "    </tr>\n",
       "  </tbody>\n",
       "</table>\n",
       "</div>"
      ],
      "text/plain": [
       "                                              review sentiment  \\\n",
       "0  one of the other reviewers has mentioned that ...  positive   \n",
       "1  a wonderful little production the filming tech...  positive   \n",
       "2  i thought this was a wonderful way to spend ti...  positive   \n",
       "3  basically theres a family where a little boy j...  negative   \n",
       "4  petter matteis love in the time of money is a ...  positive   \n",
       "\n",
       "                                       review_tokens  \\\n",
       "0  [one, reviewers, mentioned, watching, 1, oz, e...   \n",
       "1  [wonderful, little, production, filming, techn...   \n",
       "2  [thought, wonderful, way, spend, time, hot, su...   \n",
       "3  [basically, theres, family, little, boy, jake,...   \n",
       "4  [petter, matteis, love, time, money, visually,...   \n",
       "\n",
       "                                         review_stem  \\\n",
       "0  [one, review, mention, watch, 1, oz, episod, y...   \n",
       "1  [wonder, littl, product, film, techniqu, unass...   \n",
       "2  [thought, wonder, way, spend, time, hot, summe...   \n",
       "3  [basic, there, famili, littl, boy, jake, think...   \n",
       "4  [petter, mattei, love, time, money, visual, st...   \n",
       "\n",
       "                                         review_lemm  \\\n",
       "0  [one, reviewer, mentioned, watching, 1, oz, ep...   \n",
       "1  [wonderful, little, production, filming, techn...   \n",
       "2  [thought, wonderful, way, spend, time, hot, su...   \n",
       "3  [basically, there, family, little, boy, jake, ...   \n",
       "4  [petter, matteis, love, time, money, visually,...   \n",
       "\n",
       "                                                tags  \\\n",
       "0  [(one, CD), (reviewers, NNS), (mentioned, VBD)...   \n",
       "1  [(wonderful, JJ), (little, JJ), (production, N...   \n",
       "2  [(thought, VBN), (wonderful, JJ), (way, NN), (...   \n",
       "3  [(basically, RB), (theres, NNS), (family, NN),...   \n",
       "4  [(petter, NN), (matteis, RBS), (love, JJ), (ti...   \n",
       "\n",
       "                                      review_bigrams  \\\n",
       "0  [(one, reviewers), (reviewers, mentioned), (me...   \n",
       "1  [(wonderful, little), (little, production), (p...   \n",
       "2  [(thought, wonderful), (wonderful, way), (way,...   \n",
       "3  [(basically, theres), (theres, family), (famil...   \n",
       "4  [(petter, matteis), (matteis, love), (love, ti...   \n",
       "\n",
       "                                     review_trigrams  \n",
       "0  [(one, reviewers, mentioned), (reviewers, ment...  \n",
       "1  [(wonderful, little, production), (little, pro...  \n",
       "2  [(thought, wonderful, way), (wonderful, way, s...  \n",
       "3  [(basically, theres, family), (theres, family,...  \n",
       "4  [(petter, matteis, love), (matteis, love, time...  "
      ]
     },
     "execution_count": 129,
     "metadata": {},
     "output_type": "execute_result"
    }
   ],
   "source": [
    "df.head()"
   ]
  },
  {
   "cell_type": "code",
   "execution_count": 150,
   "id": "backed-reverse",
   "metadata": {},
   "outputs": [
    {
     "name": "stdout",
     "output_type": "stream",
     "text": [
      "['one', 'reviewer', 'mentioned', 'watching', '1', 'oz', 'episode', 'youll', 'hooked', 'right', 'exactly', 'happened', 'methe', 'first', 'thing', 'struck', 'oz', 'brutality', 'unflinching', 'scene', 'violence', 'set', 'right', 'word', 'go', 'trust', 'show', 'faint', 'hearted', 'timid', 'show', 'pull', 'punch', 'regard', 'drug', 'sex', 'violence', 'hardcore', 'classic', 'use', 'wordit', 'called', 'oz', 'nickname', 'given', 'oswald', 'maximum', 'security', 'state', 'penitentary', 'focus', 'mainly', 'emerald', 'city', 'experimental', 'section', 'prison', 'cell', 'glass', 'front', 'face', 'inwards', 'privacy', 'high', 'agenda', 'em', 'city', 'home', 'manyaryans', 'muslim', 'gangsta', 'latino', 'christian', 'italian', 'irish', 'moreso', 'scuffle', 'death', 'stare', 'dodgy', 'dealing', 'shady', 'agreement', 'never', 'far', 'awayi', 'would', 'say', 'main', 'appeal', 'show', 'due', 'fact', 'go', 'show', 'wouldnt', 'dare', 'forget', 'pretty', 'picture', 'painted', 'mainstream', 'audience', 'forget', 'charm', 'forget', 'romanceoz', 'doesnt', 'mess', 'around', 'first', 'episode', 'ever', 'saw', 'struck', 'nasty', 'surreal', 'couldnt', 'say', 'ready', 'watched', 'developed', 'taste', 'oz', 'got', 'accustomed', 'high', 'level', 'graphic', 'violence', 'violence', 'injustice', 'crooked', 'guard', 'wholl', 'sold', 'nickel', 'inmate', 'wholl', 'kill', 'order', 'get', 'away', 'well', 'mannered', 'middle', 'class', 'inmate', 'turned', 'prison', 'bitch', 'due', 'lack', 'street', 'skill', 'prison', 'experience', 'watching', 'oz', 'may', 'become', 'comfortable', 'uncomfortable', 'viewingthats', 'get', 'touch', 'darker', 'side']\n"
     ]
    }
   ],
   "source": [
    "print(df.review_lemm[0])"
   ]
  },
  {
   "cell_type": "code",
   "execution_count": 131,
   "id": "contemporary-complaint",
   "metadata": {},
   "outputs": [],
   "source": [
    "v = TfidfVectorizer()\n",
    "x = v.fit_transform(df['review'])"
   ]
  },
  {
   "cell_type": "code",
   "execution_count": 132,
   "id": "sharing-edinburgh",
   "metadata": {},
   "outputs": [
    {
     "data": {
      "text/html": [
       "<div>\n",
       "<style scoped>\n",
       "    .dataframe tbody tr th:only-of-type {\n",
       "        vertical-align: middle;\n",
       "    }\n",
       "\n",
       "    .dataframe tbody tr th {\n",
       "        vertical-align: top;\n",
       "    }\n",
       "\n",
       "    .dataframe thead th {\n",
       "        text-align: right;\n",
       "    }\n",
       "</style>\n",
       "<table border=\"1\" class=\"dataframe\">\n",
       "  <thead>\n",
       "    <tr style=\"text-align: right;\">\n",
       "      <th></th>\n",
       "      <th>TF-IDF</th>\n",
       "    </tr>\n",
       "  </thead>\n",
       "  <tbody>\n",
       "    <tr>\n",
       "      <th>oz</th>\n",
       "      <td>0.351949</td>\n",
       "    </tr>\n",
       "    <tr>\n",
       "      <th>violence</th>\n",
       "      <td>0.186586</td>\n",
       "    </tr>\n",
       "    <tr>\n",
       "      <th>wholl</th>\n",
       "      <td>0.174524</td>\n",
       "    </tr>\n",
       "    <tr>\n",
       "      <th>prison</th>\n",
       "      <td>0.171228</td>\n",
       "    </tr>\n",
       "    <tr>\n",
       "      <th>the</th>\n",
       "      <td>0.159295</td>\n",
       "    </tr>\n",
       "    <tr>\n",
       "      <th>inmates</th>\n",
       "      <td>0.157322</td>\n",
       "    </tr>\n",
       "    <tr>\n",
       "      <th>forget</th>\n",
       "      <td>0.146599</td>\n",
       "    </tr>\n",
       "    <tr>\n",
       "      <th>struck</th>\n",
       "      <td>0.131714</td>\n",
       "    </tr>\n",
       "    <tr>\n",
       "      <th>manyaryans</th>\n",
       "      <td>0.117072</td>\n",
       "    </tr>\n",
       "    <tr>\n",
       "      <th>romanceoz</th>\n",
       "      <td>0.117072</td>\n",
       "    </tr>\n",
       "    <tr>\n",
       "      <th>viewingthats</th>\n",
       "      <td>0.117072</td>\n",
       "    </tr>\n",
       "    <tr>\n",
       "      <th>scuffles</th>\n",
       "      <td>0.112806</td>\n",
       "    </tr>\n",
       "    <tr>\n",
       "      <th>inwards</th>\n",
       "      <td>0.112806</td>\n",
       "    </tr>\n",
       "    <tr>\n",
       "      <th>penitentary</th>\n",
       "      <td>0.112806</td>\n",
       "    </tr>\n",
       "    <tr>\n",
       "      <th>wordit</th>\n",
       "      <td>0.112806</td>\n",
       "    </tr>\n",
       "    <tr>\n",
       "      <th>gangstas</th>\n",
       "      <td>0.105513</td>\n",
       "    </tr>\n",
       "    <tr>\n",
       "      <th>is</th>\n",
       "      <td>0.105345</td>\n",
       "    </tr>\n",
       "    <tr>\n",
       "      <th>agreements</th>\n",
       "      <td>0.102486</td>\n",
       "    </tr>\n",
       "    <tr>\n",
       "      <th>nickel</th>\n",
       "      <td>0.101247</td>\n",
       "    </tr>\n",
       "    <tr>\n",
       "      <th>emerald</th>\n",
       "      <td>0.097378</td>\n",
       "    </tr>\n",
       "    <tr>\n",
       "      <th>show</th>\n",
       "      <td>0.095991</td>\n",
       "    </tr>\n",
       "    <tr>\n",
       "      <th>awayi</th>\n",
       "      <td>0.093954</td>\n",
       "    </tr>\n",
       "    <tr>\n",
       "      <th>bitches</th>\n",
       "      <td>0.093385</td>\n",
       "    </tr>\n",
       "    <tr>\n",
       "      <th>due</th>\n",
       "      <td>0.093163</td>\n",
       "    </tr>\n",
       "    <tr>\n",
       "      <th>city</th>\n",
       "      <td>0.092803</td>\n",
       "    </tr>\n",
       "  </tbody>\n",
       "</table>\n",
       "</div>"
      ],
      "text/plain": [
       "                TF-IDF\n",
       "oz            0.351949\n",
       "violence      0.186586\n",
       "wholl         0.174524\n",
       "prison        0.171228\n",
       "the           0.159295\n",
       "inmates       0.157322\n",
       "forget        0.146599\n",
       "struck        0.131714\n",
       "manyaryans    0.117072\n",
       "romanceoz     0.117072\n",
       "viewingthats  0.117072\n",
       "scuffles      0.112806\n",
       "inwards       0.112806\n",
       "penitentary   0.112806\n",
       "wordit        0.112806\n",
       "gangstas      0.105513\n",
       "is            0.105345\n",
       "agreements    0.102486\n",
       "nickel        0.101247\n",
       "emerald       0.097378\n",
       "show          0.095991\n",
       "awayi         0.093954\n",
       "bitches       0.093385\n",
       "due           0.093163\n",
       "city          0.092803"
      ]
     },
     "execution_count": 132,
     "metadata": {},
     "output_type": "execute_result"
    }
   ],
   "source": [
    "d = pd.DataFrame(x[0].T.todense(), index=v.get_feature_names(), columns=[\"TF-IDF\"])\n",
    "d = d.sort_values('TF-IDF', ascending=False)\n",
    "d.head(25)"
   ]
  },
  {
   "cell_type": "markdown",
   "id": "twenty-royalty",
   "metadata": {},
   "source": [
    "### Continous word representation"
   ]
  },
  {
   "cell_type": "code",
   "execution_count": null,
   "id": "gothic-nitrogen",
   "metadata": {},
   "outputs": [],
   "source": []
  },
  {
   "cell_type": "markdown",
   "id": "approximate-amplifier",
   "metadata": {},
   "source": [
    "## Word embeddings"
   ]
  },
  {
   "cell_type": "markdown",
   "id": "killing-darwin",
   "metadata": {},
   "source": [
    "### Word2Vec"
   ]
  },
  {
   "cell_type": "markdown",
   "id": "stunning-reynolds",
   "metadata": {},
   "source": [
    "Transforms documents into numeric form while capturing their meaning"
   ]
  },
  {
   "cell_type": "code",
   "execution_count": 144,
   "id": "respected-institution",
   "metadata": {},
   "outputs": [],
   "source": [
    "bigrams = Phrases(sentences=df.review_lemm)\n",
    "trigrams = Phrases(sentences=bigrams[df.review_lemm])"
   ]
  },
  {
   "cell_type": "code",
   "execution_count": 153,
   "id": "fifth-saturday",
   "metadata": {},
   "outputs": [
    {
     "name": "stdout",
     "output_type": "stream",
     "text": [
      "Wall time: 3min 6s\n"
     ]
    }
   ],
   "source": [
    "%%time\n",
    "\n",
    "embedding_vector_size = 256\n",
    "\n",
    "model = Word2Vec(\n",
    "    sentences = trigrams[bigrams[df.review_lemm]],\n",
    "    vector_size = embedding_vector_size,\n",
    "    min_count=3, window=5, workers=4)\n",
    "\n",
    "model.save(\"word2vec.model\")"
   ]
  },
  {
   "cell_type": "code",
   "execution_count": 154,
   "id": "adjacent-panel",
   "metadata": {},
   "outputs": [
    {
     "name": "stdout",
     "output_type": "stream",
     "text": [
      "Vocabulary size: 80483\n"
     ]
    }
   ],
   "source": [
    "print(\"Vocabulary size:\", len(model.wv.key_to_index))"
   ]
  },
  {
   "cell_type": "code",
   "execution_count": 156,
   "id": "english-contributor",
   "metadata": {},
   "outputs": [
    {
     "data": {
      "text/plain": [
       "[('ridiculous', 0.9112924933433533),\n",
       " ('inane', 0.903282880783081),\n",
       " ('ludicrous', 0.8931213617324829),\n",
       " ('pathetic', 0.8929582238197327),\n",
       " ('unbelievable', 0.8838752508163452),\n",
       " ('useless', 0.883184015750885),\n",
       " ('lame', 0.8814249634742737),\n",
       " ('illogical', 0.880366325378418),\n",
       " ('laughable', 0.8795918822288513),\n",
       " ('moronic', 0.8705844879150391)]"
      ]
     },
     "execution_count": 156,
     "metadata": {},
     "output_type": "execute_result"
    }
   ],
   "source": [
    "model.wv.most_similar('idiotic')"
   ]
  },
  {
   "cell_type": "markdown",
   "id": "controlling-nursing",
   "metadata": {},
   "source": [
    "# Text classification"
   ]
  },
  {
   "cell_type": "markdown",
   "id": "intended-filling",
   "metadata": {},
   "source": [
    "# Time function"
   ]
  },
  {
   "cell_type": "markdown",
   "id": "vanilla-synthesis",
   "metadata": {},
   "source": [
    "# Generating text"
   ]
  },
  {
   "cell_type": "markdown",
   "id": "immune-mozambique",
   "metadata": {},
   "source": [
    "# Translating text"
   ]
  },
  {
   "cell_type": "code",
   "execution_count": null,
   "id": "peaceful-montana",
   "metadata": {},
   "outputs": [],
   "source": []
  }
 ],
 "metadata": {
  "kernelspec": {
   "display_name": "Python 3",
   "language": "python",
   "name": "python3"
  },
  "language_info": {
   "codemirror_mode": {
    "name": "ipython",
    "version": 3
   },
   "file_extension": ".py",
   "mimetype": "text/x-python",
   "name": "python",
   "nbconvert_exporter": "python",
   "pygments_lexer": "ipython3",
   "version": "3.8.8"
  }
 },
 "nbformat": 4,
 "nbformat_minor": 5
}
