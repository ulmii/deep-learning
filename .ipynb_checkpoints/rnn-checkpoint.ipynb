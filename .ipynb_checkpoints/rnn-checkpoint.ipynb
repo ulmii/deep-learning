{
 "cells": [
  {
   "cell_type": "code",
   "execution_count": 98,
   "id": "express-equilibrium",
   "metadata": {},
   "outputs": [],
   "source": [
    "import re\n",
    "import numpy as np\n",
    "import pandas as pd\n",
    "import seaborn as sns\n",
    "import nltk\n",
    "from bs4 import BeautifulSoup\n",
    "from sklearn.model_selection import train_test_split\n",
    "from sklearn.feature_extraction.text import TfidfVectorizer\n",
    "from sklearn.preprocessing import LabelBinarizer\n",
    "from tensorflow.keras.preprocessing.sequence import pad_sequences\n",
    "from tensorflow.keras.models import Sequential\n",
    "from tensorflow.keras.layers import Dense, LSTM, Dropout, Bidirectional, Conv1D\n",
    "from tensorflow.keras import layers\n",
    "from tensorflow.keras.callbacks import EarlyStopping\n",
    "from gensim.models import Word2Vec, Phrases\n",
    "%matplotlib inline\n",
    "import matplotlib.pyplot as plt"
   ]
  },
  {
   "cell_type": "markdown",
   "id": "steady-perth",
   "metadata": {},
   "source": [
    "# Vanilla RNN"
   ]
  },
  {
   "cell_type": "markdown",
   "id": "suitable-north",
   "metadata": {},
   "source": [
    "![rnn](https://i.imgur.com/tsul5TY.png)"
   ]
  },
  {
   "cell_type": "markdown",
   "id": "stopped-attraction",
   "metadata": {},
   "source": [
    "* Conventional RNN\n",
    "* Usually with sigmoid activation\n",
    "* is trained upon unfonding k-times using the BPTTalgorithm\n",
    "\n",
    "Disadvantages\n",
    "* upon multiple nestings sigmoid(-like) functions lead to exponential decay of error information\n",
    "* vanishing gradient problem\n",
    "* exploding gradient problem\n",
    "* too simple architecture\n",
    "* not flexible enoughfor both short and long-term dependencies\n",
    "* too simplistic however still computationallyexpensive"
   ]
  },
  {
   "cell_type": "markdown",
   "id": "increased-albany",
   "metadata": {},
   "source": [
    "# Natural Language Processing"
   ]
  },
  {
   "cell_type": "markdown",
   "id": "sacred-episode",
   "metadata": {},
   "source": [
    "Dataset \\\n",
    "https://www.kaggle.com/lakshmi25npathi/imdb-dataset-of-50k-movie-reviews"
   ]
  },
  {
   "cell_type": "code",
   "execution_count": 3,
   "id": "gentle-visiting",
   "metadata": {},
   "outputs": [
    {
     "data": {
      "text/html": [
       "<div>\n",
       "<style scoped>\n",
       "    .dataframe tbody tr th:only-of-type {\n",
       "        vertical-align: middle;\n",
       "    }\n",
       "\n",
       "    .dataframe tbody tr th {\n",
       "        vertical-align: top;\n",
       "    }\n",
       "\n",
       "    .dataframe thead th {\n",
       "        text-align: right;\n",
       "    }\n",
       "</style>\n",
       "<table border=\"1\" class=\"dataframe\">\n",
       "  <thead>\n",
       "    <tr style=\"text-align: right;\">\n",
       "      <th></th>\n",
       "      <th>review</th>\n",
       "      <th>sentiment</th>\n",
       "    </tr>\n",
       "  </thead>\n",
       "  <tbody>\n",
       "    <tr>\n",
       "      <th>0</th>\n",
       "      <td>One of the other reviewers has mentioned that ...</td>\n",
       "      <td>positive</td>\n",
       "    </tr>\n",
       "    <tr>\n",
       "      <th>1</th>\n",
       "      <td>A wonderful little production. &lt;br /&gt;&lt;br /&gt;The...</td>\n",
       "      <td>positive</td>\n",
       "    </tr>\n",
       "    <tr>\n",
       "      <th>2</th>\n",
       "      <td>I thought this was a wonderful way to spend ti...</td>\n",
       "      <td>positive</td>\n",
       "    </tr>\n",
       "    <tr>\n",
       "      <th>3</th>\n",
       "      <td>Basically there's a family where a little boy ...</td>\n",
       "      <td>negative</td>\n",
       "    </tr>\n",
       "    <tr>\n",
       "      <th>4</th>\n",
       "      <td>Petter Mattei's \"Love in the Time of Money\" is...</td>\n",
       "      <td>positive</td>\n",
       "    </tr>\n",
       "  </tbody>\n",
       "</table>\n",
       "</div>"
      ],
      "text/plain": [
       "                                              review sentiment\n",
       "0  One of the other reviewers has mentioned that ...  positive\n",
       "1  A wonderful little production. <br /><br />The...  positive\n",
       "2  I thought this was a wonderful way to spend ti...  positive\n",
       "3  Basically there's a family where a little boy ...  negative\n",
       "4  Petter Mattei's \"Love in the Time of Money\" is...  positive"
      ]
     },
     "execution_count": 3,
     "metadata": {},
     "output_type": "execute_result"
    }
   ],
   "source": [
    "df = pd.read_csv('./datasets./IMDB Dataset.csv')\n",
    "df.head()"
   ]
  },
  {
   "cell_type": "code",
   "execution_count": 4,
   "id": "optical-matter",
   "metadata": {},
   "outputs": [
    {
     "name": "stdout",
     "output_type": "stream",
     "text": [
      "I thought this was a wonderful way to spend time on a too hot summer weekend, sitting in the air conditioned theater and watching a light-hearted comedy. The plot is simplistic, but the dialogue is witty and the characters are likable (even the well bread suspected serial killer). While some may be disappointed when they realize this is not Match Point 2: Risk Addiction, I thought it was proof that Woody Allen is still fully in control of the style many of us have grown to love.<br /><br />This was the most I'd laughed at one of Woody's comedies in years (dare I say a decade?). While I've never been impressed with Scarlet Johanson, in this she managed to tone down her \"sexy\" image and jumped right into a average, but spirited young woman.<br /><br />This may not be the crown jewel of his career, but it was wittier than \"Devil Wears Prada\" and more interesting than \"Superman\" a great comedy to go see with friends.\n"
     ]
    }
   ],
   "source": [
    "print(df.review[2])"
   ]
  },
  {
   "cell_type": "markdown",
   "id": "smoking-butter",
   "metadata": {},
   "source": [
    "## Text normalization"
   ]
  },
  {
   "cell_type": "markdown",
   "id": "greek-punch",
   "metadata": {},
   "source": [
    "Reduction of randomness in text. Bringing it closer to a predefined standard. Words can be written in multiple ways or mispelled, especially in social media."
   ]
  },
  {
   "cell_type": "markdown",
   "id": "coordinate-hamilton",
   "metadata": {},
   "source": [
    "### Cleaning"
   ]
  },
  {
   "cell_type": "markdown",
   "id": "spatial-florence",
   "metadata": {},
   "source": [
    "**Lowercasing all the words**"
   ]
  },
  {
   "cell_type": "code",
   "execution_count": 5,
   "id": "static-specific",
   "metadata": {},
   "outputs": [
    {
     "name": "stdout",
     "output_type": "stream",
     "text": [
      "i thought this was a wonderful way to spend time on a too hot summer weekend, sitting in the air conditioned theater and watching a light-hearted comedy. the plot is simplistic, but the dialogue is witty and the characters are likable (even the well bread suspected serial killer). while some may be disappointed when they realize this is not match point 2: risk addiction, i thought it was proof that woody allen is still fully in control of the style many of us have grown to love.<br /><br />this was the most i'd laughed at one of woody's comedies in years (dare i say a decade?). while i've never been impressed with scarlet johanson, in this she managed to tone down her \"sexy\" image and jumped right into a average, but spirited young woman.<br /><br />this may not be the crown jewel of his career, but it was wittier than \"devil wears prada\" and more interesting than \"superman\" a great comedy to go see with friends.\n"
     ]
    }
   ],
   "source": [
    "df.review = df.review.apply(lambda s: s.lower())\n",
    "print(df.review[2])"
   ]
  },
  {
   "cell_type": "markdown",
   "id": "eleven-formation",
   "metadata": {},
   "source": [
    "**Cleaning noise like html tags and punctuation**"
   ]
  },
  {
   "cell_type": "code",
   "execution_count": 6,
   "id": "strong-polyester",
   "metadata": {},
   "outputs": [
    {
     "name": "stdout",
     "output_type": "stream",
     "text": [
      "i thought this was a wonderful way to spend time on a too hot summer weekend, sitting in the air conditioned theater and watching a light-hearted comedy. the plot is simplistic, but the dialogue is witty and the characters are likable (even the well bread suspected serial killer). while some may be disappointed when they realize this is not match point 2: risk addiction, i thought it was proof that woody allen is still fully in control of the style many of us have grown to love.this was the most i'd laughed at one of woody's comedies in years (dare i say a decade?). while i've never been impressed with scarlet johanson, in this she managed to tone down her \"sexy\" image and jumped right into a average, but spirited young woman.this may not be the crown jewel of his career, but it was wittier than \"devil wears prada\" and more interesting than \"superman\" a great comedy to go see with friends.\n"
     ]
    }
   ],
   "source": [
    "df.review = df.review.apply(lambda s: BeautifulSoup(s).get_text())\n",
    "print(df.review[2])"
   ]
  },
  {
   "cell_type": "code",
   "execution_count": 7,
   "id": "destroyed-delivery",
   "metadata": {},
   "outputs": [
    {
     "name": "stdout",
     "output_type": "stream",
     "text": [
      "i thought this was a wonderful way to spend time on a too hot summer weekend sitting in the air conditioned theater and watching a lighthearted comedy the plot is simplistic but the dialogue is witty and the characters are likable even the well bread suspected serial killer while some may be disappointed when they realize this is not match point 2 risk addiction i thought it was proof that woody allen is still fully in control of the style many of us have grown to lovethis was the most id laughed at one of woodys comedies in years dare i say a decade while ive never been impressed with scarlet johanson in this she managed to tone down her sexy image and jumped right into a average but spirited young womanthis may not be the crown jewel of his career but it was wittier than devil wears prada and more interesting than superman a great comedy to go see with friends\n"
     ]
    }
   ],
   "source": [
    "pattern = r'[^a-zA-z0-9\\s]'\n",
    "\n",
    "df.review = df.review.apply(lambda s: re.sub(pattern, '', s))\n",
    "print(df.review[2])"
   ]
  },
  {
   "cell_type": "markdown",
   "id": "still-father",
   "metadata": {},
   "source": [
    "### Tokenize"
   ]
  },
  {
   "cell_type": "code",
   "execution_count": 8,
   "id": "supreme-collect",
   "metadata": {
    "scrolled": true
   },
   "outputs": [
    {
     "name": "stderr",
     "output_type": "stream",
     "text": [
      "[nltk_data] Downloading package punkt to C:\\Users\\Konrad\n",
      "[nltk_data]     Ulman\\AppData\\Roaming\\nltk_data...\n",
      "[nltk_data]   Package punkt is already up-to-date!\n"
     ]
    },
    {
     "name": "stdout",
     "output_type": "stream",
     "text": [
      "['i', 'thought', 'this', 'was', 'a', 'wonderful', 'way', 'to', 'spend', 'time', 'on', 'a', 'too', 'hot', 'summer', 'weekend', 'sitting', 'in', 'the', 'air', 'conditioned', 'theater', 'and', 'watching', 'a', 'lighthearted', 'comedy', 'the', 'plot', 'is', 'simplistic', 'but', 'the', 'dialogue', 'is', 'witty', 'and', 'the', 'characters', 'are', 'likable', 'even', 'the', 'well', 'bread', 'suspected', 'serial', 'killer', 'while', 'some', 'may', 'be', 'disappointed', 'when', 'they', 'realize', 'this', 'is', 'not', 'match', 'point', '2', 'risk', 'addiction', 'i', 'thought', 'it', 'was', 'proof', 'that', 'woody', 'allen', 'is', 'still', 'fully', 'in', 'control', 'of', 'the', 'style', 'many', 'of', 'us', 'have', 'grown', 'to', 'lovethis', 'was', 'the', 'most', 'id', 'laughed', 'at', 'one', 'of', 'woodys', 'comedies', 'in', 'years', 'dare', 'i', 'say', 'a', 'decade', 'while', 'ive', 'never', 'been', 'impressed', 'with', 'scarlet', 'johanson', 'in', 'this', 'she', 'managed', 'to', 'tone', 'down', 'her', 'sexy', 'image', 'and', 'jumped', 'right', 'into', 'a', 'average', 'but', 'spirited', 'young', 'womanthis', 'may', 'not', 'be', 'the', 'crown', 'jewel', 'of', 'his', 'career', 'but', 'it', 'was', 'wittier', 'than', 'devil', 'wears', 'prada', 'and', 'more', 'interesting', 'than', 'superman', 'a', 'great', 'comedy', 'to', 'go', 'see', 'with', 'friends']\n"
     ]
    }
   ],
   "source": [
    "nltk.download('punkt')\n",
    "\n",
    "df[\"review_tokens\"] = df.review.apply(lambda s: nltk.word_tokenize(s))\n",
    "print(df.review_tokens[2])"
   ]
  },
  {
   "cell_type": "markdown",
   "id": "popular-chassis",
   "metadata": {},
   "source": [
    "### Stop word removal"
   ]
  },
  {
   "cell_type": "markdown",
   "id": "invalid-lafayette",
   "metadata": {},
   "source": [
    "Stop words in english are low information words like \"a, is, are\" etc."
   ]
  },
  {
   "cell_type": "code",
   "execution_count": 9,
   "id": "maritime-closer",
   "metadata": {},
   "outputs": [
    {
     "name": "stdout",
     "output_type": "stream",
     "text": [
      "['i', 'me', 'my', 'myself', 'we', 'our', 'ours', 'ourselves', 'you', \"you're\", \"you've\", \"you'll\", \"you'd\", 'your', 'yours', 'yourself', 'yourselves', 'he', 'him', 'his', 'himself', 'she', \"she's\", 'her', 'hers', 'herself', 'it', \"it's\", 'its', 'itself', 'they', 'them', 'their', 'theirs', 'themselves', 'what', 'which', 'who', 'whom', 'this', 'that', \"that'll\", 'these', 'those', 'am', 'is', 'are', 'was', 'were', 'be', 'been', 'being', 'have', 'has', 'had', 'having', 'do', 'does', 'did', 'doing', 'a', 'an', 'the', 'and', 'but', 'if', 'or', 'because', 'as', 'until', 'while', 'of', 'at', 'by', 'for', 'with', 'about', 'against', 'between', 'into', 'through', 'during', 'before', 'after', 'above', 'below', 'to', 'from', 'up', 'down', 'in', 'out', 'on', 'off', 'over', 'under', 'again', 'further', 'then', 'once', 'here', 'there', 'when', 'where', 'why', 'how', 'all', 'any', 'both', 'each', 'few', 'more', 'most', 'other', 'some', 'such', 'no', 'nor', 'not', 'only', 'own', 'same', 'so', 'than', 'too', 'very', 's', 't', 'can', 'will', 'just', 'don', \"don't\", 'should', \"should've\", 'now', 'd', 'll', 'm', 'o', 're', 've', 'y', 'ain', 'aren', \"aren't\", 'couldn', \"couldn't\", 'didn', \"didn't\", 'doesn', \"doesn't\", 'hadn', \"hadn't\", 'hasn', \"hasn't\", 'haven', \"haven't\", 'isn', \"isn't\", 'ma', 'mightn', \"mightn't\", 'mustn', \"mustn't\", 'needn', \"needn't\", 'shan', \"shan't\", 'shouldn', \"shouldn't\", 'wasn', \"wasn't\", 'weren', \"weren't\", 'won', \"won't\", 'wouldn', \"wouldn't\"]\n"
     ]
    },
    {
     "name": "stderr",
     "output_type": "stream",
     "text": [
      "[nltk_data] Downloading package stopwords to C:\\Users\\Konrad\n",
      "[nltk_data]     Ulman\\AppData\\Roaming\\nltk_data...\n",
      "[nltk_data]   Package stopwords is already up-to-date!\n"
     ]
    }
   ],
   "source": [
    "nltk.download('stopwords')\n",
    "\n",
    "stopwords = nltk.corpus.stopwords.words('english')\n",
    "print(stopwords)"
   ]
  },
  {
   "cell_type": "code",
   "execution_count": 10,
   "id": "prescribed-clearing",
   "metadata": {},
   "outputs": [
    {
     "name": "stdout",
     "output_type": "stream",
     "text": [
      "['thought', 'wonderful', 'way', 'spend', 'time', 'hot', 'summer', 'weekend', 'sitting', 'air', 'conditioned', 'theater', 'watching', 'lighthearted', 'comedy', 'plot', 'simplistic', 'dialogue', 'witty', 'characters', 'likable', 'even', 'well', 'bread', 'suspected', 'serial', 'killer', 'may', 'disappointed', 'realize', 'match', 'point', '2', 'risk', 'addiction', 'thought', 'proof', 'woody', 'allen', 'still', 'fully', 'control', 'style', 'many', 'us', 'grown', 'lovethis', 'id', 'laughed', 'one', 'woodys', 'comedies', 'years', 'dare', 'say', 'decade', 'ive', 'never', 'impressed', 'scarlet', 'johanson', 'managed', 'tone', 'sexy', 'image', 'jumped', 'right', 'average', 'spirited', 'young', 'womanthis', 'may', 'crown', 'jewel', 'career', 'wittier', 'devil', 'wears', 'prada', 'interesting', 'superman', 'great', 'comedy', 'go', 'see', 'friends']\n"
     ]
    }
   ],
   "source": [
    "df.review_tokens = df.review_tokens.apply(lambda s: [w for w in s if w not in stopwords])\n",
    "print(df.review_tokens[2])"
   ]
  },
  {
   "cell_type": "markdown",
   "id": "catholic-soviet",
   "metadata": {},
   "source": [
    "### Stemming"
   ]
  },
  {
   "cell_type": "markdown",
   "id": "verified-bronze",
   "metadata": {},
   "source": [
    "Reducing words to their root or stem \\\n",
    "\n",
    "Example:\n",
    "* connect -> connect\n",
    "* connected -> connect\n",
    "* connects -> connect\n",
    "\n",
    "\n",
    "* trouble -> troubl\n",
    "* troubles -> troubl"
   ]
  },
  {
   "cell_type": "code",
   "execution_count": 11,
   "id": "pacific-connecticut",
   "metadata": {},
   "outputs": [
    {
     "name": "stdout",
     "output_type": "stream",
     "text": [
      "['thought', 'wonder', 'way', 'spend', 'time', 'hot', 'summer', 'weekend', 'sit', 'air', 'condit', 'theater', 'watch', 'lightheart', 'comedi', 'plot', 'simplist', 'dialogu', 'witti', 'charact', 'likabl', 'even', 'well', 'bread', 'suspect', 'serial', 'killer', 'may', 'disappoint', 'realiz', 'match', 'point', '2', 'risk', 'addict', 'thought', 'proof', 'woodi', 'allen', 'still', 'fulli', 'control', 'style', 'mani', 'us', 'grown', 'lovethi', 'id', 'laugh', 'one', 'woodi', 'comedi', 'year', 'dare', 'say', 'decad', 'ive', 'never', 'impress', 'scarlet', 'johanson', 'manag', 'tone', 'sexi', 'imag', 'jump', 'right', 'averag', 'spirit', 'young', 'womanthi', 'may', 'crown', 'jewel', 'career', 'wittier', 'devil', 'wear', 'prada', 'interest', 'superman', 'great', 'comedi', 'go', 'see', 'friend']\n"
     ]
    }
   ],
   "source": [
    "stemmer = nltk.stem.SnowballStemmer('english')\n",
    "\n",
    "df['review_stem'] = df.review_tokens.apply(lambda s: [stemmer.stem(w) for w in s])\n",
    "print(df.review_stem[2])"
   ]
  },
  {
   "cell_type": "markdown",
   "id": "driven-shift",
   "metadata": {},
   "source": [
    "### Lemmatization"
   ]
  },
  {
   "cell_type": "markdown",
   "id": "restricted-hypothesis",
   "metadata": {},
   "source": [
    "Transform words to their root form\n",
    "\n",
    "Example:\n",
    "* connect -> connect\n",
    "* connected -> connect\n",
    "* connects -> connect\n",
    "\n",
    "\n",
    "* trouble -> trouble\n",
    "* troubles -> trouble"
   ]
  },
  {
   "cell_type": "code",
   "execution_count": 12,
   "id": "breathing-gender",
   "metadata": {},
   "outputs": [
    {
     "name": "stderr",
     "output_type": "stream",
     "text": [
      "[nltk_data] Downloading package wordnet to C:\\Users\\Konrad\n",
      "[nltk_data]     Ulman\\AppData\\Roaming\\nltk_data...\n",
      "[nltk_data]   Package wordnet is already up-to-date!\n",
      "[nltk_data] Downloading package omw-1.4 to C:\\Users\\Konrad\n",
      "[nltk_data]     Ulman\\AppData\\Roaming\\nltk_data...\n",
      "[nltk_data]   Package omw-1.4 is already up-to-date!\n"
     ]
    },
    {
     "name": "stdout",
     "output_type": "stream",
     "text": [
      "['thought', 'wonderful', 'way', 'spend', 'time', 'hot', 'summer', 'weekend', 'sitting', 'air', 'conditioned', 'theater', 'watching', 'lighthearted', 'comedy', 'plot', 'simplistic', 'dialogue', 'witty', 'character', 'likable', 'even', 'well', 'bread', 'suspected', 'serial', 'killer', 'may', 'disappointed', 'realize', 'match', 'point', '2', 'risk', 'addiction', 'thought', 'proof', 'woody', 'allen', 'still', 'fully', 'control', 'style', 'many', 'u', 'grown', 'lovethis', 'id', 'laughed', 'one', 'woodys', 'comedy', 'year', 'dare', 'say', 'decade', 'ive', 'never', 'impressed', 'scarlet', 'johanson', 'managed', 'tone', 'sexy', 'image', 'jumped', 'right', 'average', 'spirited', 'young', 'womanthis', 'may', 'crown', 'jewel', 'career', 'wittier', 'devil', 'wear', 'prada', 'interesting', 'superman', 'great', 'comedy', 'go', 'see', 'friend']\n"
     ]
    }
   ],
   "source": [
    "nltk.download('wordnet')\n",
    "nltk.download('omw-1.4')\n",
    "lemmatizer = nltk.stem.WordNetLemmatizer()\n",
    "\n",
    "df['review_lemm'] = df.review_tokens.apply(lambda s: [lemmatizer.lemmatize(w) for w in s])\n",
    "print(df.review_lemm[2])"
   ]
  },
  {
   "cell_type": "markdown",
   "id": "sublime-myrtle",
   "metadata": {},
   "source": [
    "### Tagging"
   ]
  },
  {
   "cell_type": "markdown",
   "id": "specialized-outdoors",
   "metadata": {},
   "source": [
    "Enriching data with information about words, like tagging words with the part of speech. Example whether book is a verb or a noun."
   ]
  },
  {
   "cell_type": "code",
   "execution_count": 13,
   "id": "proved-daniel",
   "metadata": {
    "scrolled": false
   },
   "outputs": [
    {
     "name": "stdout",
     "output_type": "stream",
     "text": [
      "$: dollar\n",
      "    $ -$ --$ A$ C$ HK$ M$ NZ$ S$ U.S.$ US$\n",
      "'': closing quotation mark\n",
      "    ' ''\n",
      "(: opening parenthesis\n",
      "    ( [ {\n",
      "): closing parenthesis\n",
      "    ) ] }\n",
      ",: comma\n",
      "    ,\n",
      "--: dash\n",
      "    --\n",
      ".: sentence terminator\n",
      "    . ! ?\n",
      ":: colon or ellipsis\n",
      "    : ; ...\n",
      "CC: conjunction, coordinating\n",
      "    & 'n and both but either et for less minus neither nor or plus so\n",
      "    therefore times v. versus vs. whether yet\n",
      "CD: numeral, cardinal\n",
      "    mid-1890 nine-thirty forty-two one-tenth ten million 0.5 one forty-\n",
      "    seven 1987 twenty '79 zero two 78-degrees eighty-four IX '60s .025\n",
      "    fifteen 271,124 dozen quintillion DM2,000 ...\n",
      "DT: determiner\n",
      "    all an another any both del each either every half la many much nary\n",
      "    neither no some such that the them these this those\n",
      "EX: existential there\n",
      "    there\n",
      "FW: foreign word\n",
      "    gemeinschaft hund ich jeux habeas Haementeria Herr K'ang-si vous\n",
      "    lutihaw alai je jour objets salutaris fille quibusdam pas trop Monte\n",
      "    terram fiche oui corporis ...\n",
      "IN: preposition or conjunction, subordinating\n",
      "    astride among uppon whether out inside pro despite on by throughout\n",
      "    below within for towards near behind atop around if like until below\n",
      "    next into if beside ...\n",
      "JJ: adjective or numeral, ordinal\n",
      "    third ill-mannered pre-war regrettable oiled calamitous first separable\n",
      "    ectoplasmic battery-powered participatory fourth still-to-be-named\n",
      "    multilingual multi-disciplinary ...\n",
      "JJR: adjective, comparative\n",
      "    bleaker braver breezier briefer brighter brisker broader bumper busier\n",
      "    calmer cheaper choosier cleaner clearer closer colder commoner costlier\n",
      "    cozier creamier crunchier cuter ...\n",
      "JJS: adjective, superlative\n",
      "    calmest cheapest choicest classiest cleanest clearest closest commonest\n",
      "    corniest costliest crassest creepiest crudest cutest darkest deadliest\n",
      "    dearest deepest densest dinkiest ...\n",
      "LS: list item marker\n",
      "    A A. B B. C C. D E F First G H I J K One SP-44001 SP-44002 SP-44005\n",
      "    SP-44007 Second Third Three Two * a b c d first five four one six three\n",
      "    two\n",
      "MD: modal auxiliary\n",
      "    can cannot could couldn't dare may might must need ought shall should\n",
      "    shouldn't will would\n",
      "NN: noun, common, singular or mass\n",
      "    common-carrier cabbage knuckle-duster Casino afghan shed thermostat\n",
      "    investment slide humour falloff slick wind hyena override subhumanity\n",
      "    machinist ...\n",
      "NNP: noun, proper, singular\n",
      "    Motown Venneboerger Czestochwa Ranzer Conchita Trumplane Christos\n",
      "    Oceanside Escobar Kreisler Sawyer Cougar Yvette Ervin ODI Darryl CTCA\n",
      "    Shannon A.K.C. Meltex Liverpool ...\n",
      "NNPS: noun, proper, plural\n",
      "    Americans Americas Amharas Amityvilles Amusements Anarcho-Syndicalists\n",
      "    Andalusians Andes Andruses Angels Animals Anthony Antilles Antiques\n",
      "    Apache Apaches Apocrypha ...\n",
      "NNS: noun, common, plural\n",
      "    undergraduates scotches bric-a-brac products bodyguards facets coasts\n",
      "    divestitures storehouses designs clubs fragrances averages\n",
      "    subjectivists apprehensions muses factory-jobs ...\n",
      "PDT: pre-determiner\n",
      "    all both half many quite such sure this\n",
      "POS: genitive marker\n",
      "    ' 's\n",
      "PRP: pronoun, personal\n",
      "    hers herself him himself hisself it itself me myself one oneself ours\n",
      "    ourselves ownself self she thee theirs them themselves they thou thy us\n",
      "PRP$: pronoun, possessive\n",
      "    her his mine my our ours their thy your\n",
      "RB: adverb\n",
      "    occasionally unabatingly maddeningly adventurously professedly\n",
      "    stirringly prominently technologically magisterially predominately\n",
      "    swiftly fiscally pitilessly ...\n",
      "RBR: adverb, comparative\n",
      "    further gloomier grander graver greater grimmer harder harsher\n",
      "    healthier heavier higher however larger later leaner lengthier less-\n",
      "    perfectly lesser lonelier longer louder lower more ...\n",
      "RBS: adverb, superlative\n",
      "    best biggest bluntest earliest farthest first furthest hardest\n",
      "    heartiest highest largest least less most nearest second tightest worst\n",
      "RP: particle\n",
      "    aboard about across along apart around aside at away back before behind\n",
      "    by crop down ever fast for forth from go high i.e. in into just later\n",
      "    low more off on open out over per pie raising start teeth that through\n",
      "    under unto up up-pp upon whole with you\n",
      "SYM: symbol\n",
      "    % & ' '' ''. ) ). * + ,. < = > @ A[fj] U.S U.S.S.R * ** ***\n",
      "TO: \"to\" as preposition or infinitive marker\n",
      "    to\n",
      "UH: interjection\n",
      "    Goodbye Goody Gosh Wow Jeepers Jee-sus Hubba Hey Kee-reist Oops amen\n",
      "    huh howdy uh dammit whammo shucks heck anyways whodunnit honey golly\n",
      "    man baby diddle hush sonuvabitch ...\n",
      "VB: verb, base form\n",
      "    ask assemble assess assign assume atone attention avoid bake balkanize\n",
      "    bank begin behold believe bend benefit bevel beware bless boil bomb\n",
      "    boost brace break bring broil brush build ...\n",
      "VBD: verb, past tense\n",
      "    dipped pleaded swiped regummed soaked tidied convened halted registered\n",
      "    cushioned exacted snubbed strode aimed adopted belied figgered\n",
      "    speculated wore appreciated contemplated ...\n",
      "VBG: verb, present participle or gerund\n",
      "    telegraphing stirring focusing angering judging stalling lactating\n",
      "    hankerin' alleging veering capping approaching traveling besieging\n",
      "    encrypting interrupting erasing wincing ...\n",
      "VBN: verb, past participle\n",
      "    multihulled dilapidated aerosolized chaired languished panelized used\n",
      "    experimented flourished imitated reunifed factored condensed sheared\n",
      "    unsettled primed dubbed desired ...\n",
      "VBP: verb, present tense, not 3rd person singular\n",
      "    predominate wrap resort sue twist spill cure lengthen brush terminate\n",
      "    appear tend stray glisten obtain comprise detest tease attract\n",
      "    emphasize mold postpone sever return wag ...\n",
      "VBZ: verb, present tense, 3rd person singular\n",
      "    bases reconstructs marks mixes displeases seals carps weaves snatches\n",
      "    slumps stretches authorizes smolders pictures emerges stockpiles\n",
      "    seduces fizzes uses bolsters slaps speaks pleads ...\n",
      "WDT: WH-determiner\n",
      "    that what whatever which whichever\n",
      "WP: WH-pronoun\n",
      "    that what whatever whatsoever which who whom whosoever\n",
      "WP$: WH-pronoun, possessive\n",
      "    whose\n",
      "WRB: Wh-adverb\n",
      "    how however whence whenever where whereby whereever wherein whereof why\n",
      "``: opening quotation mark\n",
      "    ` ``\n",
      "None\n"
     ]
    },
    {
     "name": "stderr",
     "output_type": "stream",
     "text": [
      "[nltk_data] Downloading package tagsets to C:\\Users\\Konrad\n",
      "[nltk_data]     Ulman\\AppData\\Roaming\\nltk_data...\n",
      "[nltk_data]   Package tagsets is already up-to-date!\n"
     ]
    }
   ],
   "source": [
    "nltk.download('tagsets')\n",
    "print(nltk.help.upenn_tagset())"
   ]
  },
  {
   "cell_type": "code",
   "execution_count": 14,
   "id": "likely-virgin",
   "metadata": {},
   "outputs": [
    {
     "name": "stderr",
     "output_type": "stream",
     "text": [
      "[nltk_data] Downloading package averaged_perceptron_tagger to\n",
      "[nltk_data]     C:\\Users\\Konrad Ulman\\AppData\\Roaming\\nltk_data...\n",
      "[nltk_data]   Package averaged_perceptron_tagger is already up-to-\n",
      "[nltk_data]       date!\n"
     ]
    },
    {
     "data": {
      "text/html": [
       "<div>\n",
       "<style scoped>\n",
       "    .dataframe tbody tr th:only-of-type {\n",
       "        vertical-align: middle;\n",
       "    }\n",
       "\n",
       "    .dataframe tbody tr th {\n",
       "        vertical-align: top;\n",
       "    }\n",
       "\n",
       "    .dataframe thead th {\n",
       "        text-align: right;\n",
       "    }\n",
       "</style>\n",
       "<table border=\"1\" class=\"dataframe\">\n",
       "  <thead>\n",
       "    <tr style=\"text-align: right;\">\n",
       "      <th></th>\n",
       "      <th>review</th>\n",
       "      <th>sentiment</th>\n",
       "      <th>review_tokens</th>\n",
       "      <th>review_stem</th>\n",
       "      <th>review_lemm</th>\n",
       "      <th>tags</th>\n",
       "    </tr>\n",
       "  </thead>\n",
       "  <tbody>\n",
       "    <tr>\n",
       "      <th>0</th>\n",
       "      <td>one of the other reviewers has mentioned that ...</td>\n",
       "      <td>positive</td>\n",
       "      <td>[one, reviewers, mentioned, watching, 1, oz, e...</td>\n",
       "      <td>[one, review, mention, watch, 1, oz, episod, y...</td>\n",
       "      <td>[one, reviewer, mentioned, watching, 1, oz, ep...</td>\n",
       "      <td>[(one, CD), (reviewers, NNS), (mentioned, VBD)...</td>\n",
       "    </tr>\n",
       "    <tr>\n",
       "      <th>1</th>\n",
       "      <td>a wonderful little production the filming tech...</td>\n",
       "      <td>positive</td>\n",
       "      <td>[wonderful, little, production, filming, techn...</td>\n",
       "      <td>[wonder, littl, product, film, techniqu, unass...</td>\n",
       "      <td>[wonderful, little, production, filming, techn...</td>\n",
       "      <td>[(wonderful, JJ), (little, JJ), (production, N...</td>\n",
       "    </tr>\n",
       "    <tr>\n",
       "      <th>2</th>\n",
       "      <td>i thought this was a wonderful way to spend ti...</td>\n",
       "      <td>positive</td>\n",
       "      <td>[thought, wonderful, way, spend, time, hot, su...</td>\n",
       "      <td>[thought, wonder, way, spend, time, hot, summe...</td>\n",
       "      <td>[thought, wonderful, way, spend, time, hot, su...</td>\n",
       "      <td>[(thought, VBN), (wonderful, JJ), (way, NN), (...</td>\n",
       "    </tr>\n",
       "    <tr>\n",
       "      <th>3</th>\n",
       "      <td>basically theres a family where a little boy j...</td>\n",
       "      <td>negative</td>\n",
       "      <td>[basically, theres, family, little, boy, jake,...</td>\n",
       "      <td>[basic, there, famili, littl, boy, jake, think...</td>\n",
       "      <td>[basically, there, family, little, boy, jake, ...</td>\n",
       "      <td>[(basically, RB), (theres, NNS), (family, NN),...</td>\n",
       "    </tr>\n",
       "    <tr>\n",
       "      <th>4</th>\n",
       "      <td>petter matteis love in the time of money is a ...</td>\n",
       "      <td>positive</td>\n",
       "      <td>[petter, matteis, love, time, money, visually,...</td>\n",
       "      <td>[petter, mattei, love, time, money, visual, st...</td>\n",
       "      <td>[petter, matteis, love, time, money, visually,...</td>\n",
       "      <td>[(petter, NN), (matteis, RBS), (love, JJ), (ti...</td>\n",
       "    </tr>\n",
       "  </tbody>\n",
       "</table>\n",
       "</div>"
      ],
      "text/plain": [
       "                                              review sentiment  \\\n",
       "0  one of the other reviewers has mentioned that ...  positive   \n",
       "1  a wonderful little production the filming tech...  positive   \n",
       "2  i thought this was a wonderful way to spend ti...  positive   \n",
       "3  basically theres a family where a little boy j...  negative   \n",
       "4  petter matteis love in the time of money is a ...  positive   \n",
       "\n",
       "                                       review_tokens  \\\n",
       "0  [one, reviewers, mentioned, watching, 1, oz, e...   \n",
       "1  [wonderful, little, production, filming, techn...   \n",
       "2  [thought, wonderful, way, spend, time, hot, su...   \n",
       "3  [basically, theres, family, little, boy, jake,...   \n",
       "4  [petter, matteis, love, time, money, visually,...   \n",
       "\n",
       "                                         review_stem  \\\n",
       "0  [one, review, mention, watch, 1, oz, episod, y...   \n",
       "1  [wonder, littl, product, film, techniqu, unass...   \n",
       "2  [thought, wonder, way, spend, time, hot, summe...   \n",
       "3  [basic, there, famili, littl, boy, jake, think...   \n",
       "4  [petter, mattei, love, time, money, visual, st...   \n",
       "\n",
       "                                         review_lemm  \\\n",
       "0  [one, reviewer, mentioned, watching, 1, oz, ep...   \n",
       "1  [wonderful, little, production, filming, techn...   \n",
       "2  [thought, wonderful, way, spend, time, hot, su...   \n",
       "3  [basically, there, family, little, boy, jake, ...   \n",
       "4  [petter, matteis, love, time, money, visually,...   \n",
       "\n",
       "                                                tags  \n",
       "0  [(one, CD), (reviewers, NNS), (mentioned, VBD)...  \n",
       "1  [(wonderful, JJ), (little, JJ), (production, N...  \n",
       "2  [(thought, VBN), (wonderful, JJ), (way, NN), (...  \n",
       "3  [(basically, RB), (theres, NNS), (family, NN),...  \n",
       "4  [(petter, NN), (matteis, RBS), (love, JJ), (ti...  "
      ]
     },
     "execution_count": 14,
     "metadata": {},
     "output_type": "execute_result"
    }
   ],
   "source": [
    "nltk.download('averaged_perceptron_tagger')\n",
    "\n",
    "df['tags'] = df.review_tokens.apply(lambda s: nltk.pos_tag(s))\n",
    "df.head()"
   ]
  },
  {
   "cell_type": "markdown",
   "id": "younger-passing",
   "metadata": {},
   "source": [
    "### N-Grams"
   ]
  },
  {
   "cell_type": "markdown",
   "id": "tough-lancaster",
   "metadata": {},
   "source": [
    "Combination of N-Words or characters together"
   ]
  },
  {
   "cell_type": "markdown",
   "id": "metropolitan-transcript",
   "metadata": {},
   "source": [
    "![Ngrams](https://cdn.analyticsvidhya.com/wp-content/uploads/2021/03/Screenshot-from-2021-03-23-11-42-12.png)"
   ]
  },
  {
   "cell_type": "code",
   "execution_count": 15,
   "id": "impressed-nurse",
   "metadata": {},
   "outputs": [
    {
     "data": {
      "text/html": [
       "<div>\n",
       "<style scoped>\n",
       "    .dataframe tbody tr th:only-of-type {\n",
       "        vertical-align: middle;\n",
       "    }\n",
       "\n",
       "    .dataframe tbody tr th {\n",
       "        vertical-align: top;\n",
       "    }\n",
       "\n",
       "    .dataframe thead th {\n",
       "        text-align: right;\n",
       "    }\n",
       "</style>\n",
       "<table border=\"1\" class=\"dataframe\">\n",
       "  <thead>\n",
       "    <tr style=\"text-align: right;\">\n",
       "      <th></th>\n",
       "      <th>review</th>\n",
       "      <th>sentiment</th>\n",
       "      <th>review_tokens</th>\n",
       "      <th>review_stem</th>\n",
       "      <th>review_lemm</th>\n",
       "      <th>tags</th>\n",
       "      <th>review_bigrams</th>\n",
       "      <th>review_trigrams</th>\n",
       "    </tr>\n",
       "  </thead>\n",
       "  <tbody>\n",
       "    <tr>\n",
       "      <th>0</th>\n",
       "      <td>one of the other reviewers has mentioned that ...</td>\n",
       "      <td>positive</td>\n",
       "      <td>[one, reviewers, mentioned, watching, 1, oz, e...</td>\n",
       "      <td>[one, review, mention, watch, 1, oz, episod, y...</td>\n",
       "      <td>[one, reviewer, mentioned, watching, 1, oz, ep...</td>\n",
       "      <td>[(one, CD), (reviewers, NNS), (mentioned, VBD)...</td>\n",
       "      <td>[(one, reviewers), (reviewers, mentioned), (me...</td>\n",
       "      <td>[(one, reviewers, mentioned), (reviewers, ment...</td>\n",
       "    </tr>\n",
       "    <tr>\n",
       "      <th>1</th>\n",
       "      <td>a wonderful little production the filming tech...</td>\n",
       "      <td>positive</td>\n",
       "      <td>[wonderful, little, production, filming, techn...</td>\n",
       "      <td>[wonder, littl, product, film, techniqu, unass...</td>\n",
       "      <td>[wonderful, little, production, filming, techn...</td>\n",
       "      <td>[(wonderful, JJ), (little, JJ), (production, N...</td>\n",
       "      <td>[(wonderful, little), (little, production), (p...</td>\n",
       "      <td>[(wonderful, little, production), (little, pro...</td>\n",
       "    </tr>\n",
       "    <tr>\n",
       "      <th>2</th>\n",
       "      <td>i thought this was a wonderful way to spend ti...</td>\n",
       "      <td>positive</td>\n",
       "      <td>[thought, wonderful, way, spend, time, hot, su...</td>\n",
       "      <td>[thought, wonder, way, spend, time, hot, summe...</td>\n",
       "      <td>[thought, wonderful, way, spend, time, hot, su...</td>\n",
       "      <td>[(thought, VBN), (wonderful, JJ), (way, NN), (...</td>\n",
       "      <td>[(thought, wonderful), (wonderful, way), (way,...</td>\n",
       "      <td>[(thought, wonderful, way), (wonderful, way, s...</td>\n",
       "    </tr>\n",
       "    <tr>\n",
       "      <th>3</th>\n",
       "      <td>basically theres a family where a little boy j...</td>\n",
       "      <td>negative</td>\n",
       "      <td>[basically, theres, family, little, boy, jake,...</td>\n",
       "      <td>[basic, there, famili, littl, boy, jake, think...</td>\n",
       "      <td>[basically, there, family, little, boy, jake, ...</td>\n",
       "      <td>[(basically, RB), (theres, NNS), (family, NN),...</td>\n",
       "      <td>[(basically, theres), (theres, family), (famil...</td>\n",
       "      <td>[(basically, theres, family), (theres, family,...</td>\n",
       "    </tr>\n",
       "    <tr>\n",
       "      <th>4</th>\n",
       "      <td>petter matteis love in the time of money is a ...</td>\n",
       "      <td>positive</td>\n",
       "      <td>[petter, matteis, love, time, money, visually,...</td>\n",
       "      <td>[petter, mattei, love, time, money, visual, st...</td>\n",
       "      <td>[petter, matteis, love, time, money, visually,...</td>\n",
       "      <td>[(petter, NN), (matteis, RBS), (love, JJ), (ti...</td>\n",
       "      <td>[(petter, matteis), (matteis, love), (love, ti...</td>\n",
       "      <td>[(petter, matteis, love), (matteis, love, time...</td>\n",
       "    </tr>\n",
       "  </tbody>\n",
       "</table>\n",
       "</div>"
      ],
      "text/plain": [
       "                                              review sentiment  \\\n",
       "0  one of the other reviewers has mentioned that ...  positive   \n",
       "1  a wonderful little production the filming tech...  positive   \n",
       "2  i thought this was a wonderful way to spend ti...  positive   \n",
       "3  basically theres a family where a little boy j...  negative   \n",
       "4  petter matteis love in the time of money is a ...  positive   \n",
       "\n",
       "                                       review_tokens  \\\n",
       "0  [one, reviewers, mentioned, watching, 1, oz, e...   \n",
       "1  [wonderful, little, production, filming, techn...   \n",
       "2  [thought, wonderful, way, spend, time, hot, su...   \n",
       "3  [basically, theres, family, little, boy, jake,...   \n",
       "4  [petter, matteis, love, time, money, visually,...   \n",
       "\n",
       "                                         review_stem  \\\n",
       "0  [one, review, mention, watch, 1, oz, episod, y...   \n",
       "1  [wonder, littl, product, film, techniqu, unass...   \n",
       "2  [thought, wonder, way, spend, time, hot, summe...   \n",
       "3  [basic, there, famili, littl, boy, jake, think...   \n",
       "4  [petter, mattei, love, time, money, visual, st...   \n",
       "\n",
       "                                         review_lemm  \\\n",
       "0  [one, reviewer, mentioned, watching, 1, oz, ep...   \n",
       "1  [wonderful, little, production, filming, techn...   \n",
       "2  [thought, wonderful, way, spend, time, hot, su...   \n",
       "3  [basically, there, family, little, boy, jake, ...   \n",
       "4  [petter, matteis, love, time, money, visually,...   \n",
       "\n",
       "                                                tags  \\\n",
       "0  [(one, CD), (reviewers, NNS), (mentioned, VBD)...   \n",
       "1  [(wonderful, JJ), (little, JJ), (production, N...   \n",
       "2  [(thought, VBN), (wonderful, JJ), (way, NN), (...   \n",
       "3  [(basically, RB), (theres, NNS), (family, NN),...   \n",
       "4  [(petter, NN), (matteis, RBS), (love, JJ), (ti...   \n",
       "\n",
       "                                      review_bigrams  \\\n",
       "0  [(one, reviewers), (reviewers, mentioned), (me...   \n",
       "1  [(wonderful, little), (little, production), (p...   \n",
       "2  [(thought, wonderful), (wonderful, way), (way,...   \n",
       "3  [(basically, theres), (theres, family), (famil...   \n",
       "4  [(petter, matteis), (matteis, love), (love, ti...   \n",
       "\n",
       "                                     review_trigrams  \n",
       "0  [(one, reviewers, mentioned), (reviewers, ment...  \n",
       "1  [(wonderful, little, production), (little, pro...  \n",
       "2  [(thought, wonderful, way), (wonderful, way, s...  \n",
       "3  [(basically, theres, family), (theres, family,...  \n",
       "4  [(petter, matteis, love), (matteis, love, time...  "
      ]
     },
     "execution_count": 15,
     "metadata": {},
     "output_type": "execute_result"
    }
   ],
   "source": [
    "df['review_bigrams'] = df.review_tokens.apply(lambda s: list(nltk.bigrams(s)))\n",
    "df['review_trigrams'] = df.review_tokens.apply(lambda s: list(nltk.ngrams(s, 3)))\n",
    "\n",
    "df.head()"
   ]
  },
  {
   "cell_type": "markdown",
   "id": "weird-active",
   "metadata": {},
   "source": [
    "## Text encoding"
   ]
  },
  {
   "cell_type": "markdown",
   "id": "vertical-deposit",
   "metadata": {},
   "source": [
    "Converting text into number/vectors for machines, with preserving the context and relationship between words and sentences"
   ]
  },
  {
   "cell_type": "markdown",
   "id": "expanded-entry",
   "metadata": {},
   "source": [
    "### One-hot encoding"
   ]
  },
  {
   "cell_type": "markdown",
   "id": "engaging-fashion",
   "metadata": {},
   "source": [
    "We create a set of all the words in the document collection, and the determine the presence or absence of a given word in particular document."
   ]
  },
  {
   "cell_type": "markdown",
   "id": "touched-lancaster",
   "metadata": {},
   "source": [
    "![onehot](https://miro.medium.com/max/2400/1*vmGi5tdY4fVKVBTtynaw7A.png)"
   ]
  },
  {
   "cell_type": "code",
   "execution_count": 16,
   "id": "magnetic-roots",
   "metadata": {},
   "outputs": [
    {
     "ename": "ValueError",
     "evalue": "invalid literal for int() with base 10: 'i thought this was a wonderful way to spend time on a too hot summer weekend sitting in the air conditioned theater and watching a lighthearted comedy the plot is simplistic but the dialogue is witty",
     "output_type": "error",
     "traceback": [
      "\u001b[1;31m---------------------------------------------------------------------------\u001b[0m",
      "\u001b[1;31mValueError\u001b[0m                                Traceback (most recent call last)",
      "\u001b[1;32m<ipython-input-16-b9bf8cf2151d>\u001b[0m in \u001b[0;36m<module>\u001b[1;34m\u001b[0m\n\u001b[0;32m      1\u001b[0m \u001b[1;32mfrom\u001b[0m \u001b[0mtensorflow\u001b[0m\u001b[1;33m.\u001b[0m\u001b[0mkeras\u001b[0m\u001b[1;33m.\u001b[0m\u001b[0mutils\u001b[0m \u001b[1;32mimport\u001b[0m \u001b[0mto_categorical\u001b[0m\u001b[1;33m\u001b[0m\u001b[1;33m\u001b[0m\u001b[0m\n\u001b[0;32m      2\u001b[0m \u001b[1;33m\u001b[0m\u001b[0m\n\u001b[1;32m----> 3\u001b[1;33m \u001b[0mencoded\u001b[0m \u001b[1;33m=\u001b[0m \u001b[0mto_categorical\u001b[0m\u001b[1;33m(\u001b[0m\u001b[0mdf\u001b[0m\u001b[1;33m.\u001b[0m\u001b[0mreview\u001b[0m\u001b[1;33m[\u001b[0m\u001b[1;36m2\u001b[0m\u001b[1;33m]\u001b[0m\u001b[1;33m)\u001b[0m\u001b[1;33m\u001b[0m\u001b[1;33m\u001b[0m\u001b[0m\n\u001b[0m",
      "\u001b[1;32m~\\AppData\\Roaming\\Python\\Python38\\site-packages\\tensorflow\\python\\keras\\utils\\np_utils.py\u001b[0m in \u001b[0;36mto_categorical\u001b[1;34m(y, num_classes, dtype)\u001b[0m\n\u001b[0;32m     67\u001b[0m \u001b[1;33m\u001b[0m\u001b[0m\n\u001b[0;32m     68\u001b[0m   \"\"\"\n\u001b[1;32m---> 69\u001b[1;33m   \u001b[0my\u001b[0m \u001b[1;33m=\u001b[0m \u001b[0mnp\u001b[0m\u001b[1;33m.\u001b[0m\u001b[0marray\u001b[0m\u001b[1;33m(\u001b[0m\u001b[0my\u001b[0m\u001b[1;33m,\u001b[0m \u001b[0mdtype\u001b[0m\u001b[1;33m=\u001b[0m\u001b[1;34m'int'\u001b[0m\u001b[1;33m)\u001b[0m\u001b[1;33m\u001b[0m\u001b[1;33m\u001b[0m\u001b[0m\n\u001b[0m\u001b[0;32m     70\u001b[0m   \u001b[0minput_shape\u001b[0m \u001b[1;33m=\u001b[0m \u001b[0my\u001b[0m\u001b[1;33m.\u001b[0m\u001b[0mshape\u001b[0m\u001b[1;33m\u001b[0m\u001b[1;33m\u001b[0m\u001b[0m\n\u001b[0;32m     71\u001b[0m   \u001b[1;32mif\u001b[0m \u001b[0minput_shape\u001b[0m \u001b[1;32mand\u001b[0m \u001b[0minput_shape\u001b[0m\u001b[1;33m[\u001b[0m\u001b[1;33m-\u001b[0m\u001b[1;36m1\u001b[0m\u001b[1;33m]\u001b[0m \u001b[1;33m==\u001b[0m \u001b[1;36m1\u001b[0m \u001b[1;32mand\u001b[0m \u001b[0mlen\u001b[0m\u001b[1;33m(\u001b[0m\u001b[0minput_shape\u001b[0m\u001b[1;33m)\u001b[0m \u001b[1;33m>\u001b[0m \u001b[1;36m1\u001b[0m\u001b[1;33m:\u001b[0m\u001b[1;33m\u001b[0m\u001b[1;33m\u001b[0m\u001b[0m\n",
      "\u001b[1;31mValueError\u001b[0m: invalid literal for int() with base 10: 'i thought this was a wonderful way to spend time on a too hot summer weekend sitting in the air conditioned theater and watching a lighthearted comedy the plot is simplistic but the dialogue is witty"
     ]
    }
   ],
   "source": [
    "from tensorflow.keras.utils import to_categorical\n",
    "\n",
    "encoded = to_categorical(df.review[2])"
   ]
  },
  {
   "cell_type": "markdown",
   "id": "received-queens",
   "metadata": {},
   "source": [
    "### Frequency encoding"
   ]
  },
  {
   "cell_type": "markdown",
   "id": "bigger-courtesy",
   "metadata": {},
   "source": [
    "Similar to one-hot, with added count of how many particular word appeared in one document."
   ]
  },
  {
   "cell_type": "markdown",
   "id": "hollywood-jerusalem",
   "metadata": {},
   "source": [
    "![frequency](https://miro.medium.com/max/2400/1*iLaVNRfJZYCGmOKdyUzp8w.png)"
   ]
  },
  {
   "cell_type": "code",
   "execution_count": 19,
   "id": "democratic-north",
   "metadata": {},
   "outputs": [
    {
     "name": "stdout",
     "output_type": "stream",
     "text": [
      "['thought', 'wonderful', 'way', 'spend', 'time', 'hot', 'summer', 'weekend', 'sitting', 'air', 'conditioned', 'theater', 'watching', 'lighthearted', 'comedy', 'plot', 'simplistic', 'dialogue', 'witty', 'characters', 'likable', 'even', 'well', 'bread', 'suspected', 'serial', 'killer', 'may', 'disappointed', 'realize', 'match', 'point', '2', 'risk', 'addiction', 'thought', 'proof', 'woody', 'allen', 'still', 'fully', 'control', 'style', 'many', 'us', 'grown', 'lovethis', 'id', 'laughed', 'one', 'woodys', 'comedies', 'years', 'dare', 'say', 'decade', 'ive', 'never', 'impressed', 'scarlet', 'johanson', 'managed', 'tone', 'sexy', 'image', 'jumped', 'right', 'average', 'spirited', 'young', 'womanthis', 'may', 'crown', 'jewel', 'career', 'wittier', 'devil', 'wears', 'prada', 'interesting', 'superman', 'great', 'comedy', 'go', 'see', 'friends']\n"
     ]
    },
    {
     "data": {
      "text/html": [
       "<div>\n",
       "<style scoped>\n",
       "    .dataframe tbody tr th:only-of-type {\n",
       "        vertical-align: middle;\n",
       "    }\n",
       "\n",
       "    .dataframe tbody tr th {\n",
       "        vertical-align: top;\n",
       "    }\n",
       "\n",
       "    .dataframe thead th {\n",
       "        text-align: right;\n",
       "    }\n",
       "</style>\n",
       "<table border=\"1\" class=\"dataframe\">\n",
       "  <thead>\n",
       "    <tr style=\"text-align: right;\">\n",
       "      <th></th>\n",
       "      <th>Word</th>\n",
       "      <th>Frequency</th>\n",
       "    </tr>\n",
       "  </thead>\n",
       "  <tbody>\n",
       "    <tr>\n",
       "      <th>0</th>\n",
       "      <td>thought</td>\n",
       "      <td>2</td>\n",
       "    </tr>\n",
       "    <tr>\n",
       "      <th>1</th>\n",
       "      <td>wonderful</td>\n",
       "      <td>1</td>\n",
       "    </tr>\n",
       "    <tr>\n",
       "      <th>2</th>\n",
       "      <td>way</td>\n",
       "      <td>1</td>\n",
       "    </tr>\n",
       "    <tr>\n",
       "      <th>3</th>\n",
       "      <td>spend</td>\n",
       "      <td>1</td>\n",
       "    </tr>\n",
       "    <tr>\n",
       "      <th>4</th>\n",
       "      <td>time</td>\n",
       "      <td>1</td>\n",
       "    </tr>\n",
       "    <tr>\n",
       "      <th>...</th>\n",
       "      <td>...</td>\n",
       "      <td>...</td>\n",
       "    </tr>\n",
       "    <tr>\n",
       "      <th>78</th>\n",
       "      <td>superman</td>\n",
       "      <td>1</td>\n",
       "    </tr>\n",
       "    <tr>\n",
       "      <th>79</th>\n",
       "      <td>great</td>\n",
       "      <td>1</td>\n",
       "    </tr>\n",
       "    <tr>\n",
       "      <th>80</th>\n",
       "      <td>go</td>\n",
       "      <td>1</td>\n",
       "    </tr>\n",
       "    <tr>\n",
       "      <th>81</th>\n",
       "      <td>see</td>\n",
       "      <td>1</td>\n",
       "    </tr>\n",
       "    <tr>\n",
       "      <th>82</th>\n",
       "      <td>friends</td>\n",
       "      <td>1</td>\n",
       "    </tr>\n",
       "  </tbody>\n",
       "</table>\n",
       "<p>83 rows × 2 columns</p>\n",
       "</div>"
      ],
      "text/plain": [
       "         Word  Frequency\n",
       "0     thought          2\n",
       "1   wonderful          1\n",
       "2         way          1\n",
       "3       spend          1\n",
       "4        time          1\n",
       "..        ...        ...\n",
       "78   superman          1\n",
       "79      great          1\n",
       "80         go          1\n",
       "81        see          1\n",
       "82    friends          1\n",
       "\n",
       "[83 rows x 2 columns]"
      ]
     },
     "execution_count": 19,
     "metadata": {},
     "output_type": "execute_result"
    }
   ],
   "source": [
    "print(df.review_tokens[2])\n",
    "\n",
    "freq = nltk.FreqDist(df.review_tokens[2])\n",
    "\n",
    "pd.DataFrame(list(freq.items()), columns = [\"Word\",\"Frequency\"]) "
   ]
  },
  {
   "cell_type": "markdown",
   "id": "frequent-rebound",
   "metadata": {},
   "source": [
    "### TF-IDF - Term Frequency — Inverse Document Frequency"
   ]
  },
  {
   "cell_type": "markdown",
   "id": "compact-bench",
   "metadata": {},
   "source": [
    "Defines how important a word is for a single document, while taking into account relation of all documents"
   ]
  },
  {
   "cell_type": "code",
   "execution_count": 20,
   "id": "ruled-giant",
   "metadata": {},
   "outputs": [
    {
     "data": {
      "text/html": [
       "<div>\n",
       "<style scoped>\n",
       "    .dataframe tbody tr th:only-of-type {\n",
       "        vertical-align: middle;\n",
       "    }\n",
       "\n",
       "    .dataframe tbody tr th {\n",
       "        vertical-align: top;\n",
       "    }\n",
       "\n",
       "    .dataframe thead th {\n",
       "        text-align: right;\n",
       "    }\n",
       "</style>\n",
       "<table border=\"1\" class=\"dataframe\">\n",
       "  <thead>\n",
       "    <tr style=\"text-align: right;\">\n",
       "      <th></th>\n",
       "      <th>review</th>\n",
       "      <th>sentiment</th>\n",
       "      <th>review_tokens</th>\n",
       "      <th>review_stem</th>\n",
       "      <th>review_lemm</th>\n",
       "      <th>tags</th>\n",
       "      <th>review_bigrams</th>\n",
       "      <th>review_trigrams</th>\n",
       "    </tr>\n",
       "  </thead>\n",
       "  <tbody>\n",
       "    <tr>\n",
       "      <th>0</th>\n",
       "      <td>one of the other reviewers has mentioned that ...</td>\n",
       "      <td>positive</td>\n",
       "      <td>[one, reviewers, mentioned, watching, 1, oz, e...</td>\n",
       "      <td>[one, review, mention, watch, 1, oz, episod, y...</td>\n",
       "      <td>[one, reviewer, mentioned, watching, 1, oz, ep...</td>\n",
       "      <td>[(one, CD), (reviewers, NNS), (mentioned, VBD)...</td>\n",
       "      <td>[(one, reviewers), (reviewers, mentioned), (me...</td>\n",
       "      <td>[(one, reviewers, mentioned), (reviewers, ment...</td>\n",
       "    </tr>\n",
       "    <tr>\n",
       "      <th>1</th>\n",
       "      <td>a wonderful little production the filming tech...</td>\n",
       "      <td>positive</td>\n",
       "      <td>[wonderful, little, production, filming, techn...</td>\n",
       "      <td>[wonder, littl, product, film, techniqu, unass...</td>\n",
       "      <td>[wonderful, little, production, filming, techn...</td>\n",
       "      <td>[(wonderful, JJ), (little, JJ), (production, N...</td>\n",
       "      <td>[(wonderful, little), (little, production), (p...</td>\n",
       "      <td>[(wonderful, little, production), (little, pro...</td>\n",
       "    </tr>\n",
       "    <tr>\n",
       "      <th>2</th>\n",
       "      <td>i thought this was a wonderful way to spend ti...</td>\n",
       "      <td>positive</td>\n",
       "      <td>[thought, wonderful, way, spend, time, hot, su...</td>\n",
       "      <td>[thought, wonder, way, spend, time, hot, summe...</td>\n",
       "      <td>[thought, wonderful, way, spend, time, hot, su...</td>\n",
       "      <td>[(thought, VBN), (wonderful, JJ), (way, NN), (...</td>\n",
       "      <td>[(thought, wonderful), (wonderful, way), (way,...</td>\n",
       "      <td>[(thought, wonderful, way), (wonderful, way, s...</td>\n",
       "    </tr>\n",
       "    <tr>\n",
       "      <th>3</th>\n",
       "      <td>basically theres a family where a little boy j...</td>\n",
       "      <td>negative</td>\n",
       "      <td>[basically, theres, family, little, boy, jake,...</td>\n",
       "      <td>[basic, there, famili, littl, boy, jake, think...</td>\n",
       "      <td>[basically, there, family, little, boy, jake, ...</td>\n",
       "      <td>[(basically, RB), (theres, NNS), (family, NN),...</td>\n",
       "      <td>[(basically, theres), (theres, family), (famil...</td>\n",
       "      <td>[(basically, theres, family), (theres, family,...</td>\n",
       "    </tr>\n",
       "    <tr>\n",
       "      <th>4</th>\n",
       "      <td>petter matteis love in the time of money is a ...</td>\n",
       "      <td>positive</td>\n",
       "      <td>[petter, matteis, love, time, money, visually,...</td>\n",
       "      <td>[petter, mattei, love, time, money, visual, st...</td>\n",
       "      <td>[petter, matteis, love, time, money, visually,...</td>\n",
       "      <td>[(petter, NN), (matteis, RBS), (love, JJ), (ti...</td>\n",
       "      <td>[(petter, matteis), (matteis, love), (love, ti...</td>\n",
       "      <td>[(petter, matteis, love), (matteis, love, time...</td>\n",
       "    </tr>\n",
       "  </tbody>\n",
       "</table>\n",
       "</div>"
      ],
      "text/plain": [
       "                                              review sentiment  \\\n",
       "0  one of the other reviewers has mentioned that ...  positive   \n",
       "1  a wonderful little production the filming tech...  positive   \n",
       "2  i thought this was a wonderful way to spend ti...  positive   \n",
       "3  basically theres a family where a little boy j...  negative   \n",
       "4  petter matteis love in the time of money is a ...  positive   \n",
       "\n",
       "                                       review_tokens  \\\n",
       "0  [one, reviewers, mentioned, watching, 1, oz, e...   \n",
       "1  [wonderful, little, production, filming, techn...   \n",
       "2  [thought, wonderful, way, spend, time, hot, su...   \n",
       "3  [basically, theres, family, little, boy, jake,...   \n",
       "4  [petter, matteis, love, time, money, visually,...   \n",
       "\n",
       "                                         review_stem  \\\n",
       "0  [one, review, mention, watch, 1, oz, episod, y...   \n",
       "1  [wonder, littl, product, film, techniqu, unass...   \n",
       "2  [thought, wonder, way, spend, time, hot, summe...   \n",
       "3  [basic, there, famili, littl, boy, jake, think...   \n",
       "4  [petter, mattei, love, time, money, visual, st...   \n",
       "\n",
       "                                         review_lemm  \\\n",
       "0  [one, reviewer, mentioned, watching, 1, oz, ep...   \n",
       "1  [wonderful, little, production, filming, techn...   \n",
       "2  [thought, wonderful, way, spend, time, hot, su...   \n",
       "3  [basically, there, family, little, boy, jake, ...   \n",
       "4  [petter, matteis, love, time, money, visually,...   \n",
       "\n",
       "                                                tags  \\\n",
       "0  [(one, CD), (reviewers, NNS), (mentioned, VBD)...   \n",
       "1  [(wonderful, JJ), (little, JJ), (production, N...   \n",
       "2  [(thought, VBN), (wonderful, JJ), (way, NN), (...   \n",
       "3  [(basically, RB), (theres, NNS), (family, NN),...   \n",
       "4  [(petter, NN), (matteis, RBS), (love, JJ), (ti...   \n",
       "\n",
       "                                      review_bigrams  \\\n",
       "0  [(one, reviewers), (reviewers, mentioned), (me...   \n",
       "1  [(wonderful, little), (little, production), (p...   \n",
       "2  [(thought, wonderful), (wonderful, way), (way,...   \n",
       "3  [(basically, theres), (theres, family), (famil...   \n",
       "4  [(petter, matteis), (matteis, love), (love, ti...   \n",
       "\n",
       "                                     review_trigrams  \n",
       "0  [(one, reviewers, mentioned), (reviewers, ment...  \n",
       "1  [(wonderful, little, production), (little, pro...  \n",
       "2  [(thought, wonderful, way), (wonderful, way, s...  \n",
       "3  [(basically, theres, family), (theres, family,...  \n",
       "4  [(petter, matteis, love), (matteis, love, time...  "
      ]
     },
     "execution_count": 20,
     "metadata": {},
     "output_type": "execute_result"
    }
   ],
   "source": [
    "df.head()"
   ]
  },
  {
   "cell_type": "code",
   "execution_count": 21,
   "id": "amateur-appliance",
   "metadata": {},
   "outputs": [
    {
     "name": "stdout",
     "output_type": "stream",
     "text": [
      "['one', 'reviewer', 'mentioned', 'watching', '1', 'oz', 'episode', 'youll', 'hooked', 'right', 'exactly', 'happened', 'methe', 'first', 'thing', 'struck', 'oz', 'brutality', 'unflinching', 'scene', 'violence', 'set', 'right', 'word', 'go', 'trust', 'show', 'faint', 'hearted', 'timid', 'show', 'pull', 'punch', 'regard', 'drug', 'sex', 'violence', 'hardcore', 'classic', 'use', 'wordit', 'called', 'oz', 'nickname', 'given', 'oswald', 'maximum', 'security', 'state', 'penitentary', 'focus', 'mainly', 'emerald', 'city', 'experimental', 'section', 'prison', 'cell', 'glass', 'front', 'face', 'inwards', 'privacy', 'high', 'agenda', 'em', 'city', 'home', 'manyaryans', 'muslim', 'gangsta', 'latino', 'christian', 'italian', 'irish', 'moreso', 'scuffle', 'death', 'stare', 'dodgy', 'dealing', 'shady', 'agreement', 'never', 'far', 'awayi', 'would', 'say', 'main', 'appeal', 'show', 'due', 'fact', 'go', 'show', 'wouldnt', 'dare', 'forget', 'pretty', 'picture', 'painted', 'mainstream', 'audience', 'forget', 'charm', 'forget', 'romanceoz', 'doesnt', 'mess', 'around', 'first', 'episode', 'ever', 'saw', 'struck', 'nasty', 'surreal', 'couldnt', 'say', 'ready', 'watched', 'developed', 'taste', 'oz', 'got', 'accustomed', 'high', 'level', 'graphic', 'violence', 'violence', 'injustice', 'crooked', 'guard', 'wholl', 'sold', 'nickel', 'inmate', 'wholl', 'kill', 'order', 'get', 'away', 'well', 'mannered', 'middle', 'class', 'inmate', 'turned', 'prison', 'bitch', 'due', 'lack', 'street', 'skill', 'prison', 'experience', 'watching', 'oz', 'may', 'become', 'comfortable', 'uncomfortable', 'viewingthats', 'get', 'touch', 'darker', 'side']\n"
     ]
    }
   ],
   "source": [
    "print(df.review_lemm[0])"
   ]
  },
  {
   "cell_type": "code",
   "execution_count": 22,
   "id": "committed-passport",
   "metadata": {},
   "outputs": [],
   "source": [
    "v = TfidfVectorizer()\n",
    "x = v.fit_transform(df['review'])"
   ]
  },
  {
   "cell_type": "code",
   "execution_count": 23,
   "id": "working-moderator",
   "metadata": {},
   "outputs": [
    {
     "data": {
      "text/html": [
       "<div>\n",
       "<style scoped>\n",
       "    .dataframe tbody tr th:only-of-type {\n",
       "        vertical-align: middle;\n",
       "    }\n",
       "\n",
       "    .dataframe tbody tr th {\n",
       "        vertical-align: top;\n",
       "    }\n",
       "\n",
       "    .dataframe thead th {\n",
       "        text-align: right;\n",
       "    }\n",
       "</style>\n",
       "<table border=\"1\" class=\"dataframe\">\n",
       "  <thead>\n",
       "    <tr style=\"text-align: right;\">\n",
       "      <th></th>\n",
       "      <th>TF-IDF</th>\n",
       "    </tr>\n",
       "  </thead>\n",
       "  <tbody>\n",
       "    <tr>\n",
       "      <th>oz</th>\n",
       "      <td>0.351949</td>\n",
       "    </tr>\n",
       "    <tr>\n",
       "      <th>violence</th>\n",
       "      <td>0.186586</td>\n",
       "    </tr>\n",
       "    <tr>\n",
       "      <th>wholl</th>\n",
       "      <td>0.174524</td>\n",
       "    </tr>\n",
       "    <tr>\n",
       "      <th>prison</th>\n",
       "      <td>0.171228</td>\n",
       "    </tr>\n",
       "    <tr>\n",
       "      <th>the</th>\n",
       "      <td>0.159295</td>\n",
       "    </tr>\n",
       "    <tr>\n",
       "      <th>inmates</th>\n",
       "      <td>0.157322</td>\n",
       "    </tr>\n",
       "    <tr>\n",
       "      <th>forget</th>\n",
       "      <td>0.146599</td>\n",
       "    </tr>\n",
       "    <tr>\n",
       "      <th>struck</th>\n",
       "      <td>0.131714</td>\n",
       "    </tr>\n",
       "    <tr>\n",
       "      <th>manyaryans</th>\n",
       "      <td>0.117072</td>\n",
       "    </tr>\n",
       "    <tr>\n",
       "      <th>romanceoz</th>\n",
       "      <td>0.117072</td>\n",
       "    </tr>\n",
       "    <tr>\n",
       "      <th>viewingthats</th>\n",
       "      <td>0.117072</td>\n",
       "    </tr>\n",
       "    <tr>\n",
       "      <th>scuffles</th>\n",
       "      <td>0.112806</td>\n",
       "    </tr>\n",
       "    <tr>\n",
       "      <th>inwards</th>\n",
       "      <td>0.112806</td>\n",
       "    </tr>\n",
       "    <tr>\n",
       "      <th>penitentary</th>\n",
       "      <td>0.112806</td>\n",
       "    </tr>\n",
       "    <tr>\n",
       "      <th>wordit</th>\n",
       "      <td>0.112806</td>\n",
       "    </tr>\n",
       "    <tr>\n",
       "      <th>gangstas</th>\n",
       "      <td>0.105513</td>\n",
       "    </tr>\n",
       "    <tr>\n",
       "      <th>is</th>\n",
       "      <td>0.105345</td>\n",
       "    </tr>\n",
       "    <tr>\n",
       "      <th>agreements</th>\n",
       "      <td>0.102486</td>\n",
       "    </tr>\n",
       "    <tr>\n",
       "      <th>nickel</th>\n",
       "      <td>0.101247</td>\n",
       "    </tr>\n",
       "    <tr>\n",
       "      <th>emerald</th>\n",
       "      <td>0.097378</td>\n",
       "    </tr>\n",
       "    <tr>\n",
       "      <th>show</th>\n",
       "      <td>0.095991</td>\n",
       "    </tr>\n",
       "    <tr>\n",
       "      <th>awayi</th>\n",
       "      <td>0.093954</td>\n",
       "    </tr>\n",
       "    <tr>\n",
       "      <th>bitches</th>\n",
       "      <td>0.093385</td>\n",
       "    </tr>\n",
       "    <tr>\n",
       "      <th>due</th>\n",
       "      <td>0.093163</td>\n",
       "    </tr>\n",
       "    <tr>\n",
       "      <th>city</th>\n",
       "      <td>0.092803</td>\n",
       "    </tr>\n",
       "  </tbody>\n",
       "</table>\n",
       "</div>"
      ],
      "text/plain": [
       "                TF-IDF\n",
       "oz            0.351949\n",
       "violence      0.186586\n",
       "wholl         0.174524\n",
       "prison        0.171228\n",
       "the           0.159295\n",
       "inmates       0.157322\n",
       "forget        0.146599\n",
       "struck        0.131714\n",
       "manyaryans    0.117072\n",
       "romanceoz     0.117072\n",
       "viewingthats  0.117072\n",
       "scuffles      0.112806\n",
       "inwards       0.112806\n",
       "penitentary   0.112806\n",
       "wordit        0.112806\n",
       "gangstas      0.105513\n",
       "is            0.105345\n",
       "agreements    0.102486\n",
       "nickel        0.101247\n",
       "emerald       0.097378\n",
       "show          0.095991\n",
       "awayi         0.093954\n",
       "bitches       0.093385\n",
       "due           0.093163\n",
       "city          0.092803"
      ]
     },
     "execution_count": 23,
     "metadata": {},
     "output_type": "execute_result"
    }
   ],
   "source": [
    "d = pd.DataFrame(x[0].T.todense(), index=v.get_feature_names(), columns=[\"TF-IDF\"])\n",
    "d = d.sort_values('TF-IDF', ascending=False)\n",
    "d.head(25)"
   ]
  },
  {
   "cell_type": "markdown",
   "id": "terminal-penguin",
   "metadata": {},
   "source": [
    "### Continous word representation"
   ]
  },
  {
   "cell_type": "code",
   "execution_count": null,
   "id": "concerned-question",
   "metadata": {},
   "outputs": [],
   "source": []
  },
  {
   "cell_type": "markdown",
   "id": "sudden-spring",
   "metadata": {},
   "source": [
    "## Word embeddings"
   ]
  },
  {
   "cell_type": "markdown",
   "id": "sweet-version",
   "metadata": {},
   "source": [
    "### Word2Vec"
   ]
  },
  {
   "cell_type": "markdown",
   "id": "artificial-nevada",
   "metadata": {},
   "source": [
    "Transforms documents into numeric form while capturing their meaning"
   ]
  },
  {
   "cell_type": "code",
   "execution_count": 24,
   "id": "infectious-relative",
   "metadata": {},
   "outputs": [],
   "source": [
    "bigrams = Phrases(sentences=df.review_lemm)\n",
    "trigrams = Phrases(sentences=bigrams[df.review_lemm])"
   ]
  },
  {
   "cell_type": "code",
   "execution_count": 36,
   "id": "found-bidder",
   "metadata": {},
   "outputs": [
    {
     "name": "stdout",
     "output_type": "stream",
     "text": [
      "Wall time: 2min 50s\n"
     ]
    }
   ],
   "source": [
    "%%time\n",
    "\n",
    "embedding_vector_size = 256\n",
    "\n",
    "word2vec_model = Word2Vec(\n",
    "    sentences = trigrams[bigrams[df.review_lemm]],\n",
    "    vector_size = embedding_vector_size,\n",
    "    min_count=3, window=5, workers=4)\n",
    "\n",
    "model.save(\"word2vec.model\")"
   ]
  },
  {
   "cell_type": "code",
   "execution_count": 37,
   "id": "compact-compiler",
   "metadata": {},
   "outputs": [
    {
     "name": "stdout",
     "output_type": "stream",
     "text": [
      "Vocabulary size: 80483\n"
     ]
    }
   ],
   "source": [
    "print(\"Vocabulary size:\", len(word2vec_model.wv.key_to_index))"
   ]
  },
  {
   "cell_type": "code",
   "execution_count": 38,
   "id": "corresponding-static",
   "metadata": {},
   "outputs": [
    {
     "data": {
      "text/plain": [
       "[('ridiculous', 0.9112862348556519),\n",
       " ('inane', 0.9032710790634155),\n",
       " ('ludicrous', 0.8931168913841248),\n",
       " ('pathetic', 0.8929818272590637),\n",
       " ('unbelievable', 0.8838924169540405),\n",
       " ('useless', 0.8831961750984192),\n",
       " ('lame', 0.8814136981964111),\n",
       " ('illogical', 0.8803940415382385),\n",
       " ('laughable', 0.8796074986457825),\n",
       " ('moronic', 0.8705781102180481)]"
      ]
     },
     "execution_count": 38,
     "metadata": {},
     "output_type": "execute_result"
    }
   ],
   "source": [
    "word2vec_model.wv.most_similar('idiotic')"
   ]
  },
  {
   "cell_type": "markdown",
   "id": "handmade-irish",
   "metadata": {},
   "source": [
    "### Glove"
   ]
  },
  {
   "cell_type": "markdown",
   "id": "killing-rapid",
   "metadata": {},
   "source": [
    "GloVe is an unsupervised learning algorithm for obtaining vector representations for words. Training is performed on aggregated global word-word co-occurrence statistics from a corpus, and the resulting representations showcase interesting linear substructures of the word vector space."
   ]
  },
  {
   "cell_type": "markdown",
   "id": "controlling-nursing",
   "metadata": {},
   "source": [
    "# Text classification - Sentiment"
   ]
  },
  {
   "cell_type": "code",
   "execution_count": 49,
   "id": "according-housing",
   "metadata": {},
   "outputs": [],
   "source": [
    "lb = LabelBinarizer()\n",
    "sentiment = lb.fit_transform(df.sentiment)"
   ]
  },
  {
   "cell_type": "code",
   "execution_count": 55,
   "id": "civilian-southwest",
   "metadata": {},
   "outputs": [],
   "source": [
    "keys = list(word2vec_model.wv.key_to_index.keys())\n",
    "filter_none = lambda w: word2vec_model.wv.key_to_index.get(w, None) is not None\n",
    "encode = lambda r: list(map(keys.index, filter(filter_none, r)))"
   ]
  },
  {
   "cell_type": "code",
   "execution_count": 82,
   "id": "personalized-traveler",
   "metadata": {},
   "outputs": [],
   "source": [
    "input_length = 150"
   ]
  },
  {
   "cell_type": "code",
   "execution_count": 85,
   "id": "indonesian-valuation",
   "metadata": {},
   "outputs": [
    {
     "name": "stdout",
     "output_type": "stream",
     "text": [
      "Wall time: 19min 48s\n"
     ]
    }
   ],
   "source": [
    "%%time\n",
    "padded = pad_sequences(\n",
    "    sequences = list(map(encode, trigrams[bigrams[df.review_lemm]])),\n",
    "    maxlen = input_length,\n",
    "    padding = 'pre')"
   ]
  },
  {
   "cell_type": "code",
   "execution_count": 135,
   "id": "prescribed-target",
   "metadata": {},
   "outputs": [],
   "source": [
    "X_train, X_test, y_train, y_test = train_test_split(\n",
    "    padded,\n",
    "    sentiment,\n",
    "    test_size=0.2,\n",
    "    shuffle=True)"
   ]
  },
  {
   "cell_type": "code",
   "execution_count": 144,
   "id": "crude-carry",
   "metadata": {},
   "outputs": [
    {
     "name": "stdout",
     "output_type": "stream",
     "text": [
      "Model: \"sequential_17\"\n",
      "_________________________________________________________________\n",
      "Layer (type)                 Output Shape              Param #   \n",
      "=================================================================\n",
      "embedding_17 (Embedding)     (None, 150, 256)          20603648  \n",
      "_________________________________________________________________\n",
      "lstm_17 (LSTM)               (None, 64)                82176     \n",
      "_________________________________________________________________\n",
      "dropout_17 (Dropout)         (None, 64)                0         \n",
      "_________________________________________________________________\n",
      "dense_17 (Dense)             (None, 32)                2080      \n",
      "_________________________________________________________________\n",
      "dropout_18 (Dropout)         (None, 32)                0         \n",
      "_________________________________________________________________\n",
      "dense_18 (Dense)             (None, 1)                 33        \n",
      "=================================================================\n",
      "Total params: 20,687,937\n",
      "Trainable params: 84,289\n",
      "Non-trainable params: 20,603,648\n",
      "_________________________________________________________________\n"
     ]
    }
   ],
   "source": [
    "model = Sequential()\n",
    "\n",
    "model.add(layers.Embedding(\n",
    "    input_dim = word2vec_model.wv.vectors.shape[0],\n",
    "    output_dim = word2vec_model.wv.vectors.shape[1], \n",
    "    input_length = input_length,\n",
    "    weights = [word2vec_model.wv.vectors],\n",
    "    trainable=False))\n",
    "model.add(LSTM(64, activation=\"tanh\", recurrent_dropout=0))\n",
    "model.add(Dropout(0.5))\n",
    "model.add(Dense(32))\n",
    "model.add(Dropout(0.5))\n",
    "model.add(Dense(1, activation='sigmoid'))\n",
    "\n",
    "model.summary()"
   ]
  },
  {
   "cell_type": "code",
   "execution_count": 145,
   "id": "adapted-suggestion",
   "metadata": {},
   "outputs": [],
   "source": [
    "model.compile(\n",
    "    loss = \"binary_crossentropy\",\n",
    "    optimizer = 'adam',\n",
    "    metrics = ['accuracy'])"
   ]
  },
  {
   "cell_type": "code",
   "execution_count": 146,
   "id": "preceding-civilization",
   "metadata": {},
   "outputs": [],
   "source": [
    "batch_size = 512\n",
    "epochs = 50"
   ]
  },
  {
   "cell_type": "code",
   "execution_count": 147,
   "id": "pediatric-azerbaijan",
   "metadata": {
    "scrolled": false
   },
   "outputs": [
    {
     "name": "stdout",
     "output_type": "stream",
     "text": [
      "Epoch 1/50\n",
      "79/79 [==============================] - 5s 38ms/step - loss: 0.5781 - accuracy: 0.6839 - val_loss: 0.3735 - val_accuracy: 0.8409\n",
      "Epoch 2/50\n",
      "79/79 [==============================] - 3s 33ms/step - loss: 0.3931 - accuracy: 0.8392 - val_loss: 0.3493 - val_accuracy: 0.8496\n",
      "Epoch 3/50\n",
      "79/79 [==============================] - 3s 33ms/step - loss: 0.3483 - accuracy: 0.8535 - val_loss: 0.3241 - val_accuracy: 0.8611\n",
      "Epoch 4/50\n",
      "79/79 [==============================] - 3s 33ms/step - loss: 0.3258 - accuracy: 0.8642 - val_loss: 0.3283 - val_accuracy: 0.8651\n",
      "Epoch 5/50\n",
      "79/79 [==============================] - 3s 33ms/step - loss: 0.3132 - accuracy: 0.8687 - val_loss: 0.3111 - val_accuracy: 0.8661\n",
      "Epoch 6/50\n",
      "79/79 [==============================] - 3s 34ms/step - loss: 0.3008 - accuracy: 0.8738 - val_loss: 0.3058 - val_accuracy: 0.8705\n",
      "Epoch 7/50\n",
      "79/79 [==============================] - 3s 33ms/step - loss: 0.2922 - accuracy: 0.8804 - val_loss: 0.2942 - val_accuracy: 0.8741\n",
      "Epoch 8/50\n",
      "79/79 [==============================] - 3s 33ms/step - loss: 0.2901 - accuracy: 0.8791 - val_loss: 0.2916 - val_accuracy: 0.8756\n",
      "Epoch 9/50\n",
      "79/79 [==============================] - 3s 34ms/step - loss: 0.2765 - accuracy: 0.8870 - val_loss: 0.2965 - val_accuracy: 0.8755\n",
      "Epoch 10/50\n",
      "79/79 [==============================] - 3s 33ms/step - loss: 0.2721 - accuracy: 0.8877 - val_loss: 0.2942 - val_accuracy: 0.8788\n",
      "Epoch 11/50\n",
      "79/79 [==============================] - 3s 33ms/step - loss: 0.2693 - accuracy: 0.8910 - val_loss: 0.2927 - val_accuracy: 0.8820\n",
      "Epoch 12/50\n",
      "79/79 [==============================] - 3s 33ms/step - loss: 0.2600 - accuracy: 0.8952 - val_loss: 0.3246 - val_accuracy: 0.8748\n",
      "Epoch 13/50\n",
      "79/79 [==============================] - 3s 33ms/step - loss: 0.2610 - accuracy: 0.8934 - val_loss: 0.3013 - val_accuracy: 0.8768\n",
      "Epoch 14/50\n",
      "79/79 [==============================] - 3s 33ms/step - loss: 0.2575 - accuracy: 0.8958 - val_loss: 0.2895 - val_accuracy: 0.8788\n",
      "Epoch 15/50\n",
      "79/79 [==============================] - 3s 35ms/step - loss: 0.2424 - accuracy: 0.9032 - val_loss: 0.2948 - val_accuracy: 0.8837\n",
      "Epoch 16/50\n",
      "79/79 [==============================] - 3s 33ms/step - loss: 0.2353 - accuracy: 0.9058 - val_loss: 0.2883 - val_accuracy: 0.8839\n",
      "Epoch 17/50\n",
      "79/79 [==============================] - 3s 33ms/step - loss: 0.2345 - accuracy: 0.9071 - val_loss: 0.2970 - val_accuracy: 0.8805\n",
      "Epoch 18/50\n",
      "79/79 [==============================] - 3s 33ms/step - loss: 0.2332 - accuracy: 0.9059 - val_loss: 0.3004 - val_accuracy: 0.8793\n",
      "Epoch 19/50\n",
      "79/79 [==============================] - 3s 33ms/step - loss: 0.2142 - accuracy: 0.9157 - val_loss: 0.2891 - val_accuracy: 0.8839\n",
      "Epoch 20/50\n",
      "79/79 [==============================] - 3s 34ms/step - loss: 0.2104 - accuracy: 0.9167 - val_loss: 0.2910 - val_accuracy: 0.8842\n",
      "Epoch 21/50\n",
      "79/79 [==============================] - 3s 35ms/step - loss: 0.2106 - accuracy: 0.9180 - val_loss: 0.3294 - val_accuracy: 0.8847\n",
      "Epoch 22/50\n",
      "79/79 [==============================] - 3s 33ms/step - loss: 0.2102 - accuracy: 0.9177 - val_loss: 0.3658 - val_accuracy: 0.8752\n",
      "Epoch 23/50\n",
      "79/79 [==============================] - 3s 33ms/step - loss: 0.2125 - accuracy: 0.9172 - val_loss: 0.3455 - val_accuracy: 0.8799\n",
      "Epoch 24/50\n",
      "79/79 [==============================] - 3s 34ms/step - loss: 0.2008 - accuracy: 0.9216 - val_loss: 0.3128 - val_accuracy: 0.8778\n",
      "Epoch 25/50\n",
      "79/79 [==============================] - 3s 34ms/step - loss: 0.1917 - accuracy: 0.9235 - val_loss: 0.3061 - val_accuracy: 0.8799\n",
      "Epoch 26/50\n",
      "79/79 [==============================] - 3s 34ms/step - loss: 0.1825 - accuracy: 0.9292 - val_loss: 0.3271 - val_accuracy: 0.8794\n",
      "Epoch 27/50\n",
      "79/79 [==============================] - 3s 34ms/step - loss: 0.2011 - accuracy: 0.9206 - val_loss: 0.3436 - val_accuracy: 0.8803\n",
      "Epoch 28/50\n",
      "79/79 [==============================] - 3s 34ms/step - loss: 0.1760 - accuracy: 0.9318 - val_loss: 0.3273 - val_accuracy: 0.8797\n",
      "Epoch 29/50\n",
      "79/79 [==============================] - 3s 33ms/step - loss: 0.1691 - accuracy: 0.9349 - val_loss: 0.3423 - val_accuracy: 0.8785\n",
      "Epoch 30/50\n",
      "79/79 [==============================] - 3s 33ms/step - loss: 0.1556 - accuracy: 0.9411 - val_loss: 0.3297 - val_accuracy: 0.8716\n",
      "Epoch 31/50\n",
      "79/79 [==============================] - 3s 34ms/step - loss: 0.1613 - accuracy: 0.9376 - val_loss: 0.3703 - val_accuracy: 0.8771\n",
      "Epoch 32/50\n",
      "79/79 [==============================] - 3s 33ms/step - loss: 0.1570 - accuracy: 0.9407 - val_loss: 0.3576 - val_accuracy: 0.8732\n",
      "Epoch 33/50\n",
      "79/79 [==============================] - 3s 34ms/step - loss: 0.1527 - accuracy: 0.9419 - val_loss: 0.3699 - val_accuracy: 0.8793\n",
      "Epoch 34/50\n",
      "79/79 [==============================] - 3s 33ms/step - loss: 0.1436 - accuracy: 0.9461 - val_loss: 0.3963 - val_accuracy: 0.8688\n",
      "Epoch 35/50\n",
      "79/79 [==============================] - 3s 33ms/step - loss: 0.1532 - accuracy: 0.9415 - val_loss: 0.4176 - val_accuracy: 0.8746\n",
      "Epoch 36/50\n",
      "79/79 [==============================] - 3s 34ms/step - loss: 0.1391 - accuracy: 0.9461 - val_loss: 0.4036 - val_accuracy: 0.8776\n",
      "Epoch 37/50\n",
      "79/79 [==============================] - 3s 33ms/step - loss: 0.1242 - accuracy: 0.9525 - val_loss: 0.3906 - val_accuracy: 0.8737\n",
      "Epoch 38/50\n",
      "79/79 [==============================] - 3s 33ms/step - loss: 0.1209 - accuracy: 0.9567 - val_loss: 0.3745 - val_accuracy: 0.8689\n",
      "Epoch 39/50\n",
      "79/79 [==============================] - 3s 34ms/step - loss: 0.1193 - accuracy: 0.9553 - val_loss: 0.4112 - val_accuracy: 0.8708\n",
      "Epoch 40/50\n",
      "79/79 [==============================] - 3s 34ms/step - loss: 0.1208 - accuracy: 0.9547 - val_loss: 0.4033 - val_accuracy: 0.8692\n",
      "Epoch 41/50\n",
      "79/79 [==============================] - 3s 34ms/step - loss: 0.1102 - accuracy: 0.9607 - val_loss: 0.4115 - val_accuracy: 0.8723\n",
      "Epoch 42/50\n",
      "79/79 [==============================] - 3s 35ms/step - loss: 0.1074 - accuracy: 0.9598 - val_loss: 0.4511 - val_accuracy: 0.8677\n",
      "Epoch 43/50\n",
      "79/79 [==============================] - 3s 35ms/step - loss: 0.1057 - accuracy: 0.9630 - val_loss: 0.4778 - val_accuracy: 0.8685\n",
      "Epoch 44/50\n",
      "79/79 [==============================] - 3s 34ms/step - loss: 0.1035 - accuracy: 0.9627 - val_loss: 0.4732 - val_accuracy: 0.8708\n",
      "Epoch 45/50\n",
      "79/79 [==============================] - 3s 35ms/step - loss: 0.1076 - accuracy: 0.9604 - val_loss: 0.4584 - val_accuracy: 0.8722\n",
      "Epoch 46/50\n",
      "79/79 [==============================] - 3s 34ms/step - loss: 0.1039 - accuracy: 0.9610 - val_loss: 0.5034 - val_accuracy: 0.8659\n",
      "Epoch 47/50\n",
      "79/79 [==============================] - 3s 36ms/step - loss: 0.1074 - accuracy: 0.9625 - val_loss: 0.4872 - val_accuracy: 0.8564\n",
      "Epoch 48/50\n",
      "79/79 [==============================] - 3s 35ms/step - loss: 0.1383 - accuracy: 0.9495 - val_loss: 0.4902 - val_accuracy: 0.8682\n",
      "Epoch 49/50\n",
      "79/79 [==============================] - 3s 35ms/step - loss: 0.0885 - accuracy: 0.9695 - val_loss: 0.4464 - val_accuracy: 0.8694\n",
      "Epoch 50/50\n",
      "79/79 [==============================] - 3s 34ms/step - loss: 0.0959 - accuracy: 0.9664 - val_loss: 0.5346 - val_accuracy: 0.8714\n"
     ]
    }
   ],
   "source": [
    "earlystop = EarlyStopping(monitor = 'val_loss', \n",
    "                          min_delta = 0, \n",
    "                          patience = 3,\n",
    "                          verbose = 1,\n",
    "                          restore_best_weights = True)\n",
    "\n",
    "history = model.fit(\n",
    "    x=X_train,\n",
    "    y=y_train,\n",
    "    validation_data=(X_test, y_test),\n",
    "    batch_size=batch_size,\n",
    "    epochs=epochs)"
   ]
  },
  {
   "cell_type": "code",
   "execution_count": null,
   "id": "municipal-musician",
   "metadata": {},
   "outputs": [],
   "source": [
    "def plot_loss(his):\n",
    "    loss_values = his['loss']\n",
    "    val_loss_values = his['val_loss']\n",
    "    epochs = range(1, len(loss_values) + 1)\n",
    "\n",
    "    line1 = plt.plot(epochs, val_loss_values, label='Validation/Test Loss')\n",
    "    line2 = plt.plot(epochs, loss_values, label='Training Loss')\n",
    "    plt.setp(line1, linewidth=2.0, marker = '+', markersize=10.0)\n",
    "    plt.setp(line2, linewidth=2.0, marker = '4', markersize=10.0)\n",
    "    plt.xlabel('Epochs') \n",
    "    plt.ylabel('Loss')\n",
    "    plt.grid(True)\n",
    "    plt.legend()\n",
    "    plt.show()\n",
    "    \n",
    "def plot_acc(his):\n",
    "    acc_values = his['accuracy']\n",
    "    acc_loss_values = his['val_accuracy']\n",
    "    epochs = range(1, len(acc_values) + 1)\n",
    "\n",
    "    line1 = plt.plot(epochs, acc_loss_values, label='Validation/Test Accuracy')\n",
    "    line2 = plt.plot(epochs, acc_values, label='Training Accuracy')\n",
    "    plt.setp(line1, linewidth=2.0, marker = '+', markersize=10.0)\n",
    "    plt.setp(line2, linewidth=2.0, marker = '4', markersize=10.0)\n",
    "    plt.xlabel('Epochs') \n",
    "    plt.ylabel('Accuracy')\n",
    "    plt.grid(True)\n",
    "    plt.legend()\n",
    "    plt.show()"
   ]
  },
  {
   "cell_type": "code",
   "execution_count": 148,
   "id": "altered-arthur",
   "metadata": {},
   "outputs": [
    {
     "data": {
      "image/png": "[encoded data removed]",
      "text/plain": [
       "<Figure size 432x288 with 1 Axes>"
      ]
     },
     "metadata": {
      "needs_background": "light"
     },
     "output_type": "display_data"
    }
   ],
   "source": [
    "plot_acc(history.history)"
   ]
  },
  {
   "cell_type": "code",
   "execution_count": 149,
   "id": "geological-producer",
   "metadata": {},
   "outputs": [
    {
     "data": {
      "image/png": "[encoded data removed]",
      "text/plain": [
       "<Figure size 432x288 with 1 Axes>"
      ]
     },
     "metadata": {
      "needs_background": "light"
     },
     "output_type": "display_data"
    }
   ],
   "source": [
    "plot_loss(history.history)"
   ]
  },
  {
   "cell_type": "code",
   "execution_count": 150,
   "id": "floral-northwest",
   "metadata": {},
   "outputs": [
    {
     "name": "stdout",
     "output_type": "stream",
     "text": [
      "313/313 [==============================] - 2s 5ms/step - loss: 0.5346 - accuracy: 0.8714\n"
     ]
    }
   ],
   "source": [
    "loss, accuracy = model.evaluate(X_test, y_test)"
   ]
  },
  {
   "cell_type": "markdown",
   "id": "intended-filling",
   "metadata": {},
   "source": [
    "# Time function"
   ]
  },
  {
   "cell_type": "markdown",
   "id": "vanilla-synthesis",
   "metadata": {},
   "source": [
    "# Generating text"
   ]
  },
  {
   "cell_type": "markdown",
   "id": "immune-mozambique",
   "metadata": {},
   "source": [
    "# Translating text"
   ]
  },
  {
   "cell_type": "code",
   "execution_count": null,
   "id": "peaceful-montana",
   "metadata": {},
   "outputs": [],
   "source": []
  }
 ],
 "metadata": {
  "kernelspec": {
   "display_name": "Python 3",
   "language": "python",
   "name": "python3"
  },
  "language_info": {
   "codemirror_mode": {
    "name": "ipython",
    "version": 3
   },
   "file_extension": ".py",
   "mimetype": "text/x-python",
   "name": "python",
   "nbconvert_exporter": "python",
   "pygments_lexer": "ipython3",
   "version": "3.8.8"
  }
 },
 "nbformat": 4,
 "nbformat_minor": 5
}
