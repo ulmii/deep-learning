{
 "cells": [
  {
   "cell_type": "code",
   "execution_count": 1,
   "id": "dedicated-conflict",
   "metadata": {},
   "outputs": [],
   "source": [
    "import torch\n",
    "import math\n",
    "from matplotlib import pyplot as plt\n",
    "import numpy as np\n",
    "import tensorflow as tf"
   ]
  },
  {
   "cell_type": "markdown",
   "id": "aboriginal-member",
   "metadata": {},
   "source": [
    "# Tensors"
   ]
  },
  {
   "cell_type": "markdown",
   "id": "devoted-growth",
   "metadata": {},
   "source": [
    "Tensor is a multi-dimensional generalization of a matrix, allowing us to have multidimensional arrays of structured data. We can do mathematical operations on them without knowing what each of the dimensions represents semantically."
   ]
  },
  {
   "cell_type": "markdown",
   "id": "allied-wagon",
   "metadata": {},
   "source": [
    "They can also be simpler structures like vectors."
   ]
  },
  {
   "cell_type": "markdown",
   "id": "beginning-fantasy",
   "metadata": {},
   "source": [
    "![Tensors](https://cdn-images-1.medium.com/max/2000/1*_D5ZvufDS38WkhK9rK32hQ.jpeg)"
   ]
  },
  {
   "cell_type": "markdown",
   "id": "processed-cliff",
   "metadata": {},
   "source": [
    "### Tensor operations"
   ]
  },
  {
   "cell_type": "markdown",
   "id": "executive-large",
   "metadata": {},
   "source": [
    "### Construction"
   ]
  },
  {
   "cell_type": "markdown",
   "id": "mineral-orientation",
   "metadata": {},
   "source": [
    "```python\n",
    "torch.tensor(data, *, dtype=None, device=None, requires_grad=False, pin_memory=False) → Tensor\n",
    "```\n",
    "\n",
    "Constructs a tensor with data."
   ]
  },
  {
   "cell_type": "markdown",
   "id": "permanent-moldova",
   "metadata": {},
   "source": [
    "Parameters:\n",
    "* data (array_like) – Initial data for the tensor. Can be a list, tuple, NumPy ndarray, scalar, and other types."
   ]
  },
  {
   "cell_type": "markdown",
   "id": "accomplished-uncle",
   "metadata": {},
   "source": [
    "Keyword arguments:\n",
    "* dtype (torch.dtype, optional) – the desired data type of returned tensor. Default: if None, infers data type from data.\n",
    "\n",
    "* device (torch.device, optional) – the desired device of returned tensor. Default: if None, uses the current device for the default tensor type (see torch.set_default_tensor_type()). device will be the CPU for CPU tensor types and the current CUDA device for CUDA tensor types.\n",
    "\n",
    "* requires_grad (bool, optional) – If autograd should record operations on the returned tensor. Default: False.\n",
    "\n",
    "* pin_memory (bool, optional) – If set, returned tensor would be allocated in the pinned memory. Works only for CPU tensors. Default: False."
   ]
  },
  {
   "cell_type": "code",
   "execution_count": 2,
   "id": "fuzzy-talent",
   "metadata": {},
   "outputs": [
    {
     "data": {
      "text/plain": [
       "tensor([[0.1000, 1.2000],\n",
       "        [2.2000, 3.1000],\n",
       "        [4.9000, 5.2000]])"
      ]
     },
     "execution_count": 2,
     "metadata": {},
     "output_type": "execute_result"
    }
   ],
   "source": [
    "torch.tensor([[0.1, 1.2], [2.2, 3.1], [4.9, 5.2]])"
   ]
  },
  {
   "cell_type": "code",
   "execution_count": 3,
   "id": "piano-chicago",
   "metadata": {},
   "outputs": [
    {
     "data": {
      "text/plain": [
       "tensor([0, 1])"
      ]
     },
     "execution_count": 3,
     "metadata": {},
     "output_type": "execute_result"
    }
   ],
   "source": [
    "torch.tensor([0, 1])"
   ]
  },
  {
   "cell_type": "code",
   "execution_count": 4,
   "id": "compact-petroleum",
   "metadata": {},
   "outputs": [
    {
     "data": {
      "text/plain": [
       "tensor([[0.1111, 0.2222, 0.3333]], device='cuda:0', dtype=torch.float64)"
      ]
     },
     "execution_count": 4,
     "metadata": {},
     "output_type": "execute_result"
    }
   ],
   "source": [
    "torch.tensor([[0.11111, 0.222222, 0.3333333]],\n",
    "    dtype=torch.float64,\n",
    "    device=torch.device('cuda:0'))"
   ]
  },
  {
   "cell_type": "code",
   "execution_count": 5,
   "id": "dependent-surfing",
   "metadata": {},
   "outputs": [
    {
     "data": {
      "text/plain": [
       "tensor(3.1416)"
      ]
     },
     "execution_count": 5,
     "metadata": {},
     "output_type": "execute_result"
    }
   ],
   "source": [
    "torch.tensor(3.14159)"
   ]
  },
  {
   "cell_type": "code",
   "execution_count": 6,
   "id": "alpha-berry",
   "metadata": {},
   "outputs": [
    {
     "data": {
      "text/plain": [
       "tensor([])"
      ]
     },
     "execution_count": 6,
     "metadata": {},
     "output_type": "execute_result"
    }
   ],
   "source": [
    "torch.tensor([])"
   ]
  },
  {
   "cell_type": "code",
   "execution_count": 7,
   "id": "extreme-copying",
   "metadata": {},
   "outputs": [
    {
     "data": {
      "text/plain": [
       "tensor([0.2500, 0.2500, 0.2500, 0.2500])"
      ]
     },
     "execution_count": 7,
     "metadata": {},
     "output_type": "execute_result"
    }
   ],
   "source": [
    "x = torch.tensor([1,2,3,4],dtype=torch.float32)\n",
    "x.requires_grad_(requires_grad=True)\n",
    "y = torch.tensor([1, 1, 1, 1],dtype=torch.float32,requires_grad=True) # tensor y \n",
    "z = x * y\n",
    "z = z.mean()\n",
    "z.backward() \n",
    "x.grad"
   ]
  },
  {
   "cell_type": "markdown",
   "id": "formal-parts",
   "metadata": {},
   "source": [
    "### Concatenation"
   ]
  },
  {
   "cell_type": "markdown",
   "id": "efficient-computer",
   "metadata": {},
   "source": [
    "```python\n",
    "torch.cat(tensors, dim=0, *, out=None) → Tensor\n",
    "```\n",
    "\n",
    "Concatenates the given sequence of seq tensors in the given dimension. All tensors must either have the same shape (except in the concatenating dimension) or be empty.\n"
   ]
  },
  {
   "cell_type": "markdown",
   "id": "bulgarian-clearance",
   "metadata": {},
   "source": [
    "Parameters:\n",
    "* tensors (sequence of Tensors) – any python sequence of tensors of the same type. Non-empty tensors provided must have the same shape, except in the cat dimension.\n",
    "\n",
    "* dim (int, optional) – the dimension over which the tensors are concatenated"
   ]
  },
  {
   "cell_type": "markdown",
   "id": "exciting-thought",
   "metadata": {},
   "source": [
    "Keyword arguments:\n",
    "* out (Tensor, optional) – the output tensor."
   ]
  },
  {
   "cell_type": "code",
   "execution_count": 8,
   "id": "proud-scene",
   "metadata": {},
   "outputs": [
    {
     "data": {
      "text/plain": [
       "tensor([[-1.8170, -0.4447, -0.3502],\n",
       "        [ 0.6858, -0.8373, -0.1601]])"
      ]
     },
     "execution_count": 8,
     "metadata": {},
     "output_type": "execute_result"
    }
   ],
   "source": [
    "x = torch.randn(2, 3)\n",
    "x"
   ]
  },
  {
   "cell_type": "code",
   "execution_count": 9,
   "id": "employed-fever",
   "metadata": {},
   "outputs": [
    {
     "data": {
      "text/plain": [
       "tensor([[-1.8170, -0.4447, -0.3502],\n",
       "        [ 0.6858, -0.8373, -0.1601],\n",
       "        [-1.8170, -0.4447, -0.3502],\n",
       "        [ 0.6858, -0.8373, -0.1601],\n",
       "        [-1.8170, -0.4447, -0.3502],\n",
       "        [ 0.6858, -0.8373, -0.1601]])"
      ]
     },
     "execution_count": 9,
     "metadata": {},
     "output_type": "execute_result"
    }
   ],
   "source": [
    "torch.cat((x, x, x), 0)"
   ]
  },
  {
   "cell_type": "code",
   "execution_count": 10,
   "id": "acute-express",
   "metadata": {
    "scrolled": true
   },
   "outputs": [
    {
     "data": {
      "text/plain": [
       "tensor([[1., 1.],\n",
       "        [1., 1.],\n",
       "        [0., 0.]])"
      ]
     },
     "execution_count": 10,
     "metadata": {},
     "output_type": "execute_result"
    }
   ],
   "source": [
    "a = torch.ones(2,2)\n",
    "b = torch.zeros(1,2)\n",
    "torch.cat((a, b))"
   ]
  },
  {
   "cell_type": "markdown",
   "id": "approved-heather",
   "metadata": {},
   "source": [
    "### Reshape"
   ]
  },
  {
   "cell_type": "markdown",
   "id": "afraid-tanzania",
   "metadata": {},
   "source": [
    "```python\n",
    "torch.reshape(input, shape) → Tensor\n",
    "```\n",
    "\n",
    "Returns a tensor with the same data and number of elements as input, but with the specified shape. When possible, the returned tensor will be a view of input. Otherwise, it will be a copy. Contiguous inputs and inputs with compatible strides can be reshaped without copying, but you should not depend on the copying vs. viewing behavior."
   ]
  },
  {
   "cell_type": "markdown",
   "id": "european-pricing",
   "metadata": {},
   "source": [
    "Parameters:\n",
    "* input (Tensor) – the tensor to be reshaped\n",
    "\n",
    "* shape (tuple of python:ints) – the new shape"
   ]
  },
  {
   "cell_type": "code",
   "execution_count": 11,
   "id": "crude-barbados",
   "metadata": {},
   "outputs": [
    {
     "data": {
      "text/plain": [
       "tensor([0., 1., 2., 3.])"
      ]
     },
     "execution_count": 11,
     "metadata": {},
     "output_type": "execute_result"
    }
   ],
   "source": [
    "a = torch.arange(4.)\n",
    "a"
   ]
  },
  {
   "cell_type": "code",
   "execution_count": 12,
   "id": "interesting-warrant",
   "metadata": {},
   "outputs": [
    {
     "data": {
      "text/plain": [
       "tensor([[0., 1.],\n",
       "        [2., 3.]])"
      ]
     },
     "execution_count": 12,
     "metadata": {},
     "output_type": "execute_result"
    }
   ],
   "source": [
    "torch.reshape(a, (2, 2))"
   ]
  },
  {
   "cell_type": "code",
   "execution_count": 13,
   "id": "nonprofit-daisy",
   "metadata": {},
   "outputs": [
    {
     "data": {
      "text/plain": [
       "tensor([0, 1, 2, 3])"
      ]
     },
     "execution_count": 13,
     "metadata": {},
     "output_type": "execute_result"
    }
   ],
   "source": [
    "b = torch.tensor([[0, 1], [2, 3]])\n",
    "torch.reshape(b, (-1,))"
   ]
  },
  {
   "cell_type": "markdown",
   "id": "vocal-chocolate",
   "metadata": {},
   "source": [
    "### Unbind"
   ]
  },
  {
   "cell_type": "markdown",
   "id": "sustained-version",
   "metadata": {},
   "source": [
    "```python\n",
    "torch.unbind(input, dim=0) → seq\n",
    "```\n",
    "\n",
    "Removes a tensor dimension."
   ]
  },
  {
   "cell_type": "markdown",
   "id": "metallic-poker",
   "metadata": {},
   "source": [
    "Parameters:\n",
    "* input (Tensor) – the tensor to unbind\n",
    "* dim (int) – dimension to remove"
   ]
  },
  {
   "cell_type": "code",
   "execution_count": 14,
   "id": "associate-sodium",
   "metadata": {},
   "outputs": [
    {
     "data": {
      "text/plain": [
       "(tensor([1, 2, 3]), tensor([4, 5, 6]), tensor([7, 8, 9]))"
      ]
     },
     "execution_count": 14,
     "metadata": {},
     "output_type": "execute_result"
    }
   ],
   "source": [
    "torch.unbind(torch.tensor([[1, 2, 3],\n",
    "                           [4, 5, 6],\n",
    "                           [7, 8, 9]]))"
   ]
  },
  {
   "cell_type": "code",
   "execution_count": 15,
   "id": "valued-japanese",
   "metadata": {},
   "outputs": [
    {
     "data": {
      "text/plain": [
       "(tensor([1, 2, 3]), tensor([3, 4, 5]))"
      ]
     },
     "execution_count": 15,
     "metadata": {},
     "output_type": "execute_result"
    }
   ],
   "source": [
    "a, b = torch.unbind(torch.tensor([[1, 2, 3],[3,4,5]]))\n",
    "a, b"
   ]
  },
  {
   "cell_type": "markdown",
   "id": "eligible-crossing",
   "metadata": {},
   "source": [
    "### Clamp"
   ]
  },
  {
   "cell_type": "markdown",
   "id": "bound-makeup",
   "metadata": {},
   "source": [
    "```python\n",
    "torch.clamp(input, min=None, max=None, *, out=None) → Tensor\n",
    "```\n",
    "\n",
    "Clamps all elements in input into the range [ min, max ]. Letting min_value and max_value be min and max, respectively, this returns:\n",
    "\n",
    "$ y_i = min(max(x_i, min\\_value_i), max\\_value_i) $\n",
    "\n",
    "If min is None, there is no lower bound. Or, if max is None there is no upper bound."
   ]
  },
  {
   "cell_type": "markdown",
   "id": "random-diagram",
   "metadata": {},
   "source": [
    "Parameters:\n",
    "* input (Tensor) – the input tensor.\n",
    "* min (Number or Tensor, optional) – lower-bound of the range to be clamped to\n",
    "* max (Number or Tensor, optional) – upper-bound of the range to be clamped to"
   ]
  },
  {
   "cell_type": "markdown",
   "id": "regional-consciousness",
   "metadata": {},
   "source": [
    "Keyword arguments:\n",
    "* out (Tensor, optional) – the output tensor."
   ]
  },
  {
   "cell_type": "code",
   "execution_count": 16,
   "id": "exterior-belle",
   "metadata": {},
   "outputs": [
    {
     "data": {
      "text/plain": [
       "tensor([ 0.0277, -0.7408, -0.2570, -1.4136])"
      ]
     },
     "execution_count": 16,
     "metadata": {},
     "output_type": "execute_result"
    }
   ],
   "source": [
    "a = torch.randn(4)\n",
    "a"
   ]
  },
  {
   "cell_type": "code",
   "execution_count": 17,
   "id": "differential-spread",
   "metadata": {},
   "outputs": [
    {
     "data": {
      "text/plain": [
       "tensor([ 0.0277, -0.5000, -0.2570, -0.5000])"
      ]
     },
     "execution_count": 17,
     "metadata": {},
     "output_type": "execute_result"
    }
   ],
   "source": [
    "torch.clamp(a, min=-0.5, max=0.5)"
   ]
  },
  {
   "cell_type": "code",
   "execution_count": 18,
   "id": "durable-conflict",
   "metadata": {},
   "outputs": [
    {
     "data": {
      "text/plain": [
       "(tensor([-0.1906,  0.3853,  0.7816,  0.7831,  0.4048]),\n",
       " tensor([0.0000e+00, 0.0000e+00, 1.3494e-05, 1.0325e-08, 1.6783e-07]))"
      ]
     },
     "execution_count": 18,
     "metadata": {},
     "output_type": "execute_result"
    }
   ],
   "source": [
    "a = torch.randn(5)\n",
    "b = torch.empty_like(a)\n",
    "a, b"
   ]
  },
  {
   "cell_type": "code",
   "execution_count": 19,
   "id": "appropriate-meter",
   "metadata": {},
   "outputs": [
    {
     "data": {
      "text/plain": [
       "tensor([0.2000, 0.3853, 0.6000, 0.6000, 0.4048])"
      ]
     },
     "execution_count": 19,
     "metadata": {},
     "output_type": "execute_result"
    }
   ],
   "source": [
    "torch.clamp(a, 0.2, 0.6, out=b)\n",
    "b"
   ]
  },
  {
   "cell_type": "markdown",
   "id": "differential-venture",
   "metadata": {},
   "source": [
    "# Gradients"
   ]
  },
  {
   "cell_type": "markdown",
   "id": "bridal-circuit",
   "metadata": {},
   "source": [
    "Gradient is simply a vector listing the derivatives of a function with respect to each argument of the function."
   ]
  },
  {
   "cell_type": "markdown",
   "id": "adaptive-japan",
   "metadata": {},
   "source": [
    "On setting requires_grad = True, Tensors start forming a backward graph that tracks every operation applied on them to calculate the gradients using something called a dynamic computation graph."
   ]
  },
  {
   "cell_type": "markdown",
   "id": "medical-novelty",
   "metadata": {},
   "source": [
    "**Backpropagation:** used to calculate the gradients of the loss keeping the input weights to later update the weights and reduce loss."
   ]
  },
  {
   "cell_type": "markdown",
   "id": "continued-uzbekistan",
   "metadata": {},
   "source": [
    "Steps for training a neural network:\n",
    "* Choose architecture\n",
    "* Forward propagation\n",
    "* Calculate loss\n",
    "* Back propgation\n",
    "* Update weights"
   ]
  },
  {
   "cell_type": "markdown",
   "id": "apparent-sweden",
   "metadata": {},
   "source": [
    "The change in the loss for a small change in an input weight is called the gradient of that weight and is calculated using backpropagation. The gradient is then used to update the weight using a learning rate to overall reduce the loss and train the neural net.\n"
   ]
  },
  {
   "cell_type": "markdown",
   "id": "broken-fellow",
   "metadata": {},
   "source": [
    "![Cost function](https://github.com/rasbt/python-machine-learning-book/raw/master/faq/closed-form-vs-gd/ball.png)"
   ]
  },
  {
   "cell_type": "markdown",
   "id": "possible-dialogue",
   "metadata": {},
   "source": [
    "Slope of the angle of our cost function at our current location determines if we are adjusting correctly. A negative slope tells us we are headed downward, which is good because we want to find minima, while a positive slope says that our previous step has overshot our goal (moved beyond the optimal and back up the other side of the function)."
   ]
  },
  {
   "cell_type": "markdown",
   "id": "favorite-interference",
   "metadata": {},
   "source": [
    "Derivative is the rate of change of a function. Descent indicates going to the bottom of a cost function using these changing gradients. To obtain derivatives a process of differentiation is used."
   ]
  },
  {
   "cell_type": "markdown",
   "id": "daily-serial",
   "metadata": {},
   "source": [
    "PyTorch includes an automatic differentiation package, *autograd*."
   ]
  },
  {
   "cell_type": "markdown",
   "id": "written-johnston",
   "metadata": {},
   "source": [
    "**Autograd:** engine used to calculate derivatives. It records a graph of all the operations performed on a gradient enabled tensor and creates an acyclic graph called the dynamic computational graph."
   ]
  },
  {
   "cell_type": "code",
   "execution_count": 20,
   "id": "atmospheric-glucose",
   "metadata": {},
   "outputs": [],
   "source": [
    "dtype = torch.float"
   ]
  },
  {
   "cell_type": "code",
   "execution_count": 21,
   "id": "northern-sodium",
   "metadata": {},
   "outputs": [],
   "source": [
    "x = torch.linspace(-math.pi, math.pi, 2000, dtype=dtype)\n",
    "y = torch.sin(x)"
   ]
  },
  {
   "cell_type": "code",
   "execution_count": 22,
   "id": "mental-negotiation",
   "metadata": {},
   "outputs": [],
   "source": [
    "a = torch.randn((), dtype=dtype, requires_grad=True)\n",
    "b = torch.randn((), dtype=dtype, requires_grad=True)\n",
    "c = torch.randn((), dtype=dtype, requires_grad=True)\n",
    "d = torch.randn((), dtype=dtype, requires_grad=True)"
   ]
  },
  {
   "cell_type": "code",
   "execution_count": 23,
   "id": "racial-dimension",
   "metadata": {},
   "outputs": [
    {
     "name": "stdout",
     "output_type": "stream",
     "text": [
      "99 368.62701416015625\n",
      "199 246.89015197753906\n",
      "299 166.3495635986328\n",
      "399 113.06083679199219\n",
      "499 77.80162048339844\n",
      "599 54.47095489501953\n",
      "699 39.0324592590332\n",
      "799 28.815982818603516\n",
      "899 22.054767608642578\n",
      "999 17.579980850219727\n",
      "1099 14.618237495422363\n",
      "1199 12.657868385314941\n",
      "1299 11.360197067260742\n",
      "1399 10.501130104064941\n",
      "1499 9.932364463806152\n",
      "1599 9.555791854858398\n",
      "1699 9.306415557861328\n",
      "1799 9.141279220581055\n",
      "1899 9.031908988952637\n",
      "1999 8.959466934204102\n"
     ]
    }
   ],
   "source": [
    "learning_rate = 1e-6\n",
    "for t in range(2000):\n",
    "    # Forward pass: compute predicted y using operations on Tensors.\n",
    "    y_pred = a + b * x + c * x ** 2 + d * x ** 3\n",
    "\n",
    "    # Compute and print loss using operations on Tensors.\n",
    "    # Now loss is a Tensor of shape (1,)\n",
    "    # loss.item() gets the scalar value held in the loss.\n",
    "    loss = (y_pred - y).pow(2).sum()\n",
    "    if t % 100 == 99:\n",
    "        print(t, loss.item())\n",
    "\n",
    "    # Use autograd to compute the backward pass. This call will compute the\n",
    "    # gradient of loss with respect to all Tensors with requires_grad=True.\n",
    "    # After this call a.grad, b.grad. c.grad and d.grad will be Tensors holding\n",
    "    # the gradient of the loss with respect to a, b, c, d respectively.\n",
    "    loss.backward()\n",
    "\n",
    "    # Manually update weights using gradient descent. Wrap in torch.no_grad()\n",
    "    # because weights have requires_grad=True, but we don't need to track this\n",
    "    # in autograd.\n",
    "    with torch.no_grad():\n",
    "        a -= learning_rate * a.grad\n",
    "        b -= learning_rate * b.grad\n",
    "        c -= learning_rate * c.grad\n",
    "        d -= learning_rate * d.grad\n",
    "\n",
    "        # Manually zero the gradients after updating weights\n",
    "        a.grad = None\n",
    "        b.grad = None\n",
    "        c.grad = None\n",
    "        d.grad = None"
   ]
  },
  {
   "cell_type": "code",
   "execution_count": 24,
   "id": "black-sheet",
   "metadata": {
    "scrolled": true
   },
   "outputs": [
    {
     "data": {
      "text/plain": [
       "<matplotlib.legend.Legend at 0x2403559dd30>"
      ]
     },
     "execution_count": 24,
     "metadata": {},
     "output_type": "execute_result"
    },
    {
     "data": {
      "image/png": "[encoded data removed]",
      "text/plain": [
       "<Figure size 432x288 with 1 Axes>"
      ]
     },
     "metadata": {
      "needs_background": "light"
     },
     "output_type": "display_data"
    }
   ],
   "source": [
    "x = np.linspace(-math.pi, math.pi, 1000)\n",
    "y = np.sin(x)\n",
    "y_pred = a.item() + b.item()*x + c.item()*x**2 + d.item()*x**3\n",
    "\n",
    "plt.ylim(-2,2)\n",
    "plt.plot(x, y, \"-b\", label=\"sin(x)\")\n",
    "plt.plot(x, y_pred, \"-r\", label=\"y_pred(x)\")\n",
    "plt.xlabel(\"x\")\n",
    "plt.ylabel(\"y_pred(x), sin(x)\")\n",
    "plt.legend(loc=\"upper left\")"
   ]
  },
  {
   "cell_type": "markdown",
   "id": "legitimate-shark",
   "metadata": {},
   "source": [
    "# Neural network in Keras"
   ]
  },
  {
   "cell_type": "code",
   "execution_count": 34,
   "id": "secret-oasis",
   "metadata": {},
   "outputs": [],
   "source": [
    "from tensorflow.keras.layers import Input, Conv2D, Dense, Activation, Dropout, MaxPooling2D, AveragePooling2D, Flatten, concatenate\n",
    "from tensorflow.keras.models import Model, Sequential\n",
    "from tensorflow.keras.optimizers import Adam, SGD\n",
    "from tensorflow.keras.datasets import mnist, cifar10\n",
    "from sklearn.preprocessing import LabelBinarizer\n",
    "from sklearn.metrics import classification_report"
   ]
  },
  {
   "cell_type": "code",
   "execution_count": 26,
   "id": "aboriginal-burning",
   "metadata": {},
   "outputs": [
    {
     "name": "stdout",
     "output_type": "stream",
     "text": [
      "Device mapping:\n",
      "/job:localhost/replica:0/task:0/device:GPU:0 -> device: 0, name: NVIDIA GeForce GTX 1080 Ti, pci bus id: 0000:08:00.0, compute capability: 6.1\n",
      "\n"
     ]
    }
   ],
   "source": [
    "sess = tf.compat.v1.Session(config=tf.compat.v1.ConfigProto(log_device_placement=True))"
   ]
  },
  {
   "cell_type": "markdown",
   "id": "competent-oregon",
   "metadata": {},
   "source": [
    "## Model"
   ]
  },
  {
   "cell_type": "code",
   "execution_count": 27,
   "id": "material-vintage",
   "metadata": {},
   "outputs": [],
   "source": [
    "epochS=5\n",
    "batch=128\n",
    "lr0=1e-3"
   ]
  },
  {
   "cell_type": "code",
   "execution_count": 28,
   "id": "lined-going",
   "metadata": {},
   "outputs": [],
   "source": [
    "(trainX, trainY), (testX, testY) = cifar10.load_data()\n",
    "trainX = trainX.astype(\"float32\") / 255.0\n",
    "testX = testX.astype(\"float32\") / 255.0\n",
    "\n",
    "lb = LabelBinarizer()\n",
    "trainY = lb.fit_transform(trainY)\n",
    "testY = lb.transform(testY)"
   ]
  },
  {
   "cell_type": "code",
   "execution_count": 29,
   "id": "correct-percentage",
   "metadata": {},
   "outputs": [],
   "source": [
    "shapeI=trainX.shape[1:4]\n",
    "ile_klas=trainY.shape[1]  #ile_klas\n",
    "\n",
    "#feature extraction\n",
    "model=Sequential()\n",
    "model.add(Input(shape=shapeI))\n",
    "model.add(Conv2D(32, (3,3), padding=\"same\"))\n",
    "model.add(Activation('relu'))\n",
    "\n",
    "#klasyfikator\n",
    "model.add(Flatten())\n",
    "model.add(Dense(ile_klas))\n",
    "model.add(Activation('softmax'))"
   ]
  },
  {
   "cell_type": "markdown",
   "id": "internal-wellington",
   "metadata": {},
   "source": [
    "## Kompilacja"
   ]
  },
  {
   "cell_type": "code",
   "execution_count": 30,
   "id": "ordinary-fluid",
   "metadata": {},
   "outputs": [],
   "source": [
    "opt = SGD(momentum=0.4, learning_rate=lr0)\n",
    "model.compile(optimizer=opt, loss='categorical_crossentropy', metrics=['accuracy'])"
   ]
  },
  {
   "cell_type": "markdown",
   "id": "violent-suspension",
   "metadata": {},
   "source": [
    "## Fitowanie"
   ]
  },
  {
   "cell_type": "code",
   "execution_count": 31,
   "id": "angry-stopping",
   "metadata": {},
   "outputs": [
    {
     "name": "stdout",
     "output_type": "stream",
     "text": [
      "Epoch 1/5\n",
      "391/391 [==============================] - 6s 5ms/step - loss: 2.2154 - accuracy: 0.1940\n",
      "Epoch 2/5\n",
      "391/391 [==============================] - 2s 5ms/step - loss: 1.9942 - accuracy: 0.3109\n",
      "Epoch 3/5\n",
      "391/391 [==============================] - 2s 5ms/step - loss: 1.9104 - accuracy: 0.3398\n",
      "Epoch 4/5\n",
      "391/391 [==============================] - 2s 5ms/step - loss: 1.8687 - accuracy: 0.3563\n",
      "Epoch 5/5\n",
      "391/391 [==============================] - 2s 5ms/step - loss: 1.8398 - accuracy: 0.3677\n"
     ]
    }
   ],
   "source": [
    "h3 = model.fit(trainX, trainY, batch_size=batch, epochs=epochS)"
   ]
  },
  {
   "cell_type": "markdown",
   "id": "genetic-opera",
   "metadata": {},
   "source": [
    "## Testowanie"
   ]
  },
  {
   "cell_type": "code",
   "execution_count": 32,
   "id": "filled-blogger",
   "metadata": {},
   "outputs": [
    {
     "name": "stdout",
     "output_type": "stream",
     "text": [
      "313/313 [==============================] - 1s 3ms/step - loss: 1.8251 - accuracy: 0.3675\n"
     ]
    }
   ],
   "source": [
    "loss, accuracy = model.evaluate(testX, testY)"
   ]
  },
  {
   "cell_type": "markdown",
   "id": "invalid-channel",
   "metadata": {},
   "source": [
    "## Uzycie modelu (klasyfikacja: predykcja, regresja: liczby)"
   ]
  },
  {
   "cell_type": "code",
   "execution_count": 33,
   "id": "congressional-universal",
   "metadata": {},
   "outputs": [],
   "source": [
    "predictions = model.predict(testX)"
   ]
  },
  {
   "cell_type": "code",
   "execution_count": 36,
   "id": "dried-radius",
   "metadata": {},
   "outputs": [
    {
     "name": "stdout",
     "output_type": "stream",
     "text": [
      "              precision    recall  f1-score   support\n",
      "\n",
      "    airplane       0.46      0.45      0.46      1000\n",
      "  automobile       0.35      0.49      0.41      1000\n",
      "        bird       0.27      0.24      0.25      1000\n",
      "         cat       0.30      0.06      0.10      1000\n",
      "        deer       0.34      0.30      0.32      1000\n",
      "         dog       0.28      0.44      0.34      1000\n",
      "        frog       0.35      0.52      0.42      1000\n",
      "       horse       0.44      0.33      0.38      1000\n",
      "        ship       0.45      0.46      0.46      1000\n",
      "       truck       0.45      0.39      0.42      1000\n",
      "\n",
      "    accuracy                           0.37     10000\n",
      "   macro avg       0.37      0.37      0.36     10000\n",
      "weighted avg       0.37      0.37      0.36     10000\n",
      "\n"
     ]
    }
   ],
   "source": [
    "nazwy = [\"airplane\", \"automobile\", \"bird\", \"cat\", \"deer\", \"dog\", \"frog\", \"horse\", \"ship\", \"truck\"]\n",
    "print(classification_report(testY.argmax(axis=1), predictions.argmax(axis=1), target_names=nazwy))"
   ]
  },
  {
   "cell_type": "code",
   "execution_count": 39,
   "id": "governing-connecticut",
   "metadata": {},
   "outputs": [
    {
     "data": {
      "image/png": "[encoded data removed]",
      "text/plain": [
       "<Figure size 432x288 with 1 Axes>"
      ]
     },
     "metadata": {
      "needs_background": "light"
     },
     "output_type": "display_data"
    }
   ],
   "source": [
    "N = np.arange(0, epochS)\n",
    "title = \"CIFAR-10: uczenie\"\n",
    "plt.figure()\n",
    "plt.plot(N, h3.history[\"loss\"], label=\"train_loss\")\n",
    "plt.plot(N, h3.history[\"accuracy\"], label=\"train_acc\")\n",
    "plt.title(title)\n",
    "plt.xlabel(\"Epoch #\")\n",
    "plt.ylabel(\"Loss/Accuracy\")\n",
    "plt.legend()\n",
    "plt.show()"
   ]
  },
  {
   "cell_type": "markdown",
   "id": "empty-burden",
   "metadata": {},
   "source": [
    "# Neural network in PyTorch"
   ]
  },
  {
   "cell_type": "code",
   "execution_count": null,
   "id": "administrative-facial",
   "metadata": {},
   "outputs": [],
   "source": []
  }
 ],
 "metadata": {
  "kernelspec": {
   "display_name": "Python 3",
   "language": "python",
   "name": "python3"
  },
  "language_info": {
   "codemirror_mode": {
    "name": "ipython",
    "version": 3
   },
   "file_extension": ".py",
   "mimetype": "text/x-python",
   "name": "python",
   "nbconvert_exporter": "python",
   "pygments_lexer": "ipython3",
   "version": "3.8.8"
  }
 },
 "nbformat": 4,
 "nbformat_minor": 5
}
