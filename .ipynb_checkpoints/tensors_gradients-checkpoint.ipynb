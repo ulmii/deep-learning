{
 "cells": [
  {
   "cell_type": "code",
   "execution_count": 35,
   "id": "dedicated-conflict",
   "metadata": {},
   "outputs": [],
   "source": [
    "import torch\n",
    "import math\n",
    "from matplotlib import pyplot as plt\n",
    "import numpy as np"
   ]
  },
  {
   "cell_type": "markdown",
   "id": "aboriginal-member",
   "metadata": {},
   "source": [
    "# Tensors"
   ]
  },
  {
   "cell_type": "markdown",
   "id": "devoted-growth",
   "metadata": {},
   "source": [
    "Tensor is a multi-dimensional generalization of a matrix, allowing us to have multidimensional arrays of structured data. We can do mathematical operations on them without knowing what each of the dimensions represents semantically."
   ]
  },
  {
   "cell_type": "markdown",
   "id": "allied-wagon",
   "metadata": {},
   "source": [
    "They can also be simpler structures like vectors."
   ]
  },
  {
   "cell_type": "markdown",
   "id": "beginning-fantasy",
   "metadata": {},
   "source": [
    "![Tensors](https://cdn-images-1.medium.com/max/2000/1*_D5ZvufDS38WkhK9rK32hQ.jpeg)"
   ]
  },
  {
   "cell_type": "markdown",
   "id": "processed-cliff",
   "metadata": {},
   "source": [
    "### Tensor operations"
   ]
  },
  {
   "cell_type": "markdown",
   "id": "executive-large",
   "metadata": {},
   "source": [
    "### Construction"
   ]
  },
  {
   "cell_type": "markdown",
   "id": "mineral-orientation",
   "metadata": {},
   "source": [
    "```python\n",
    "torch.tensor(data, *, dtype=None, device=None, requires_grad=False, pin_memory=False) → Tensor\n",
    "```\n",
    "\n",
    "Constructs a tensor with data."
   ]
  },
  {
   "cell_type": "markdown",
   "id": "permanent-moldova",
   "metadata": {},
   "source": [
    "Parameters:\n",
    "* data (array_like) – Initial data for the tensor. Can be a list, tuple, NumPy ndarray, scalar, and other types."
   ]
  },
  {
   "cell_type": "markdown",
   "id": "accomplished-uncle",
   "metadata": {},
   "source": [
    "Keyword arguments:\n",
    "* dtype (torch.dtype, optional) – the desired data type of returned tensor. Default: if None, infers data type from data.\n",
    "\n",
    "* device (torch.device, optional) – the desired device of returned tensor. Default: if None, uses the current device for the default tensor type (see torch.set_default_tensor_type()). device will be the CPU for CPU tensor types and the current CUDA device for CUDA tensor types.\n",
    "\n",
    "* requires_grad (bool, optional) – If autograd should record operations on the returned tensor. Default: False.\n",
    "\n",
    "* pin_memory (bool, optional) – If set, returned tensor would be allocated in the pinned memory. Works only for CPU tensors. Default: False."
   ]
  },
  {
   "cell_type": "code",
   "execution_count": 6,
   "id": "fuzzy-talent",
   "metadata": {},
   "outputs": [
    {
     "data": {
      "text/plain": [
       "tensor([[0.1000, 1.2000],\n",
       "        [2.2000, 3.1000],\n",
       "        [4.9000, 5.2000]])"
      ]
     },
     "execution_count": 6,
     "metadata": {},
     "output_type": "execute_result"
    }
   ],
   "source": [
    "torch.tensor([[0.1, 1.2], [2.2, 3.1], [4.9, 5.2]])"
   ]
  },
  {
   "cell_type": "code",
   "execution_count": 7,
   "id": "piano-chicago",
   "metadata": {},
   "outputs": [
    {
     "data": {
      "text/plain": [
       "tensor([0, 1])"
      ]
     },
     "execution_count": 7,
     "metadata": {},
     "output_type": "execute_result"
    }
   ],
   "source": [
    "torch.tensor([0, 1])"
   ]
  },
  {
   "cell_type": "code",
   "execution_count": 8,
   "id": "compact-petroleum",
   "metadata": {},
   "outputs": [
    {
     "data": {
      "text/plain": [
       "tensor([[0.1111, 0.2222, 0.3333]], device='cuda:0', dtype=torch.float64)"
      ]
     },
     "execution_count": 8,
     "metadata": {},
     "output_type": "execute_result"
    }
   ],
   "source": [
    "torch.tensor([[0.11111, 0.222222, 0.3333333]],\n",
    "    dtype=torch.float64,\n",
    "    device=torch.device('cuda:0'))"
   ]
  },
  {
   "cell_type": "code",
   "execution_count": 9,
   "id": "dependent-surfing",
   "metadata": {},
   "outputs": [
    {
     "data": {
      "text/plain": [
       "tensor(3.1416)"
      ]
     },
     "execution_count": 9,
     "metadata": {},
     "output_type": "execute_result"
    }
   ],
   "source": [
    "torch.tensor(3.14159)"
   ]
  },
  {
   "cell_type": "code",
   "execution_count": 10,
   "id": "alpha-berry",
   "metadata": {},
   "outputs": [
    {
     "data": {
      "text/plain": [
       "tensor([])"
      ]
     },
     "execution_count": 10,
     "metadata": {},
     "output_type": "execute_result"
    }
   ],
   "source": [
    "torch.tensor([])"
   ]
  },
  {
   "cell_type": "code",
   "execution_count": 11,
   "id": "extreme-copying",
   "metadata": {},
   "outputs": [
    {
     "data": {
      "text/plain": [
       "tensor([0.2500, 0.2500, 0.2500, 0.2500])"
      ]
     },
     "execution_count": 11,
     "metadata": {},
     "output_type": "execute_result"
    }
   ],
   "source": [
    "x = torch.tensor([1,2,3,4],dtype=torch.float32)\n",
    "x.requires_grad_(requires_grad=True)\n",
    "y = torch.tensor([1, 1, 1, 1],dtype=torch.float32,requires_grad=True) # tensor y \n",
    "z = x * y\n",
    "z = z.mean()\n",
    "z.backward() \n",
    "x.grad"
   ]
  },
  {
   "cell_type": "markdown",
   "id": "formal-parts",
   "metadata": {},
   "source": [
    "### Concatenation"
   ]
  },
  {
   "cell_type": "markdown",
   "id": "efficient-computer",
   "metadata": {},
   "source": [
    "```python\n",
    "torch.cat(tensors, dim=0, *, out=None) → Tensor\n",
    "```\n",
    "\n",
    "Concatenates the given sequence of seq tensors in the given dimension. All tensors must either have the same shape (except in the concatenating dimension) or be empty.\n"
   ]
  },
  {
   "cell_type": "markdown",
   "id": "bulgarian-clearance",
   "metadata": {},
   "source": [
    "Parameters:\n",
    "* tensors (sequence of Tensors) – any python sequence of tensors of the same type. Non-empty tensors provided must have the same shape, except in the cat dimension.\n",
    "\n",
    "* dim (int, optional) – the dimension over which the tensors are concatenated"
   ]
  },
  {
   "cell_type": "markdown",
   "id": "exciting-thought",
   "metadata": {},
   "source": [
    "Keyword arguments:\n",
    "* out (Tensor, optional) – the output tensor."
   ]
  },
  {
   "cell_type": "code",
   "execution_count": 12,
   "id": "proud-scene",
   "metadata": {},
   "outputs": [
    {
     "data": {
      "text/plain": [
       "tensor([[-0.5269, -1.2687,  0.0649],\n",
       "        [-0.0261, -1.0561, -0.1661]])"
      ]
     },
     "execution_count": 12,
     "metadata": {},
     "output_type": "execute_result"
    }
   ],
   "source": [
    "x = torch.randn(2, 3)\n",
    "x"
   ]
  },
  {
   "cell_type": "code",
   "execution_count": 13,
   "id": "employed-fever",
   "metadata": {},
   "outputs": [
    {
     "data": {
      "text/plain": [
       "tensor([[-0.5269, -1.2687,  0.0649],\n",
       "        [-0.0261, -1.0561, -0.1661],\n",
       "        [-0.5269, -1.2687,  0.0649],\n",
       "        [-0.0261, -1.0561, -0.1661],\n",
       "        [-0.5269, -1.2687,  0.0649],\n",
       "        [-0.0261, -1.0561, -0.1661]])"
      ]
     },
     "execution_count": 13,
     "metadata": {},
     "output_type": "execute_result"
    }
   ],
   "source": [
    "torch.cat((x, x, x), 0)"
   ]
  },
  {
   "cell_type": "code",
   "execution_count": 14,
   "id": "acute-express",
   "metadata": {
    "scrolled": true
   },
   "outputs": [
    {
     "data": {
      "text/plain": [
       "tensor([[1., 1.],\n",
       "        [1., 1.],\n",
       "        [0., 0.]])"
      ]
     },
     "execution_count": 14,
     "metadata": {},
     "output_type": "execute_result"
    }
   ],
   "source": [
    "a = torch.ones(2,2)\n",
    "b = torch.zeros(1,2)\n",
    "torch.cat((a, b))"
   ]
  },
  {
   "cell_type": "markdown",
   "id": "approved-heather",
   "metadata": {},
   "source": [
    "### Reshape"
   ]
  },
  {
   "cell_type": "markdown",
   "id": "afraid-tanzania",
   "metadata": {},
   "source": [
    "```python\n",
    "torch.reshape(input, shape) → Tensor\n",
    "```\n",
    "\n",
    "Returns a tensor with the same data and number of elements as input, but with the specified shape. When possible, the returned tensor will be a view of input. Otherwise, it will be a copy. Contiguous inputs and inputs with compatible strides can be reshaped without copying, but you should not depend on the copying vs. viewing behavior."
   ]
  },
  {
   "cell_type": "markdown",
   "id": "european-pricing",
   "metadata": {},
   "source": [
    "Parameters:\n",
    "* input (Tensor) – the tensor to be reshaped\n",
    "\n",
    "* shape (tuple of python:ints) – the new shape"
   ]
  },
  {
   "cell_type": "code",
   "execution_count": 15,
   "id": "crude-barbados",
   "metadata": {},
   "outputs": [
    {
     "data": {
      "text/plain": [
       "tensor([0., 1., 2., 3.])"
      ]
     },
     "execution_count": 15,
     "metadata": {},
     "output_type": "execute_result"
    }
   ],
   "source": [
    "a = torch.arange(4.)\n",
    "a"
   ]
  },
  {
   "cell_type": "code",
   "execution_count": 16,
   "id": "interesting-warrant",
   "metadata": {},
   "outputs": [
    {
     "data": {
      "text/plain": [
       "tensor([[0., 1.],\n",
       "        [2., 3.]])"
      ]
     },
     "execution_count": 16,
     "metadata": {},
     "output_type": "execute_result"
    }
   ],
   "source": [
    "torch.reshape(a, (2, 2))"
   ]
  },
  {
   "cell_type": "code",
   "execution_count": 17,
   "id": "nonprofit-daisy",
   "metadata": {},
   "outputs": [
    {
     "data": {
      "text/plain": [
       "tensor([0, 1, 2, 3])"
      ]
     },
     "execution_count": 17,
     "metadata": {},
     "output_type": "execute_result"
    }
   ],
   "source": [
    "b = torch.tensor([[0, 1], [2, 3]])\n",
    "torch.reshape(b, (-1,))"
   ]
  },
  {
   "cell_type": "markdown",
   "id": "vocal-chocolate",
   "metadata": {},
   "source": [
    "### Unbind"
   ]
  },
  {
   "cell_type": "markdown",
   "id": "sustained-version",
   "metadata": {},
   "source": [
    "```python\n",
    "torch.unbind(input, dim=0) → seq\n",
    "```\n",
    "\n",
    "Removes a tensor dimension."
   ]
  },
  {
   "cell_type": "markdown",
   "id": "metallic-poker",
   "metadata": {},
   "source": [
    "Parameters:\n",
    "* input (Tensor) – the tensor to unbind\n",
    "* dim (int) – dimension to remove"
   ]
  },
  {
   "cell_type": "code",
   "execution_count": 18,
   "id": "associate-sodium",
   "metadata": {},
   "outputs": [
    {
     "data": {
      "text/plain": [
       "(tensor([1, 2, 3]), tensor([4, 5, 6]), tensor([7, 8, 9]))"
      ]
     },
     "execution_count": 18,
     "metadata": {},
     "output_type": "execute_result"
    }
   ],
   "source": [
    "torch.unbind(torch.tensor([[1, 2, 3],\n",
    "                           [4, 5, 6],\n",
    "                           [7, 8, 9]]))"
   ]
  },
  {
   "cell_type": "code",
   "execution_count": 19,
   "id": "valued-japanese",
   "metadata": {},
   "outputs": [
    {
     "data": {
      "text/plain": [
       "(tensor([1, 2, 3]), tensor([3, 4, 5]))"
      ]
     },
     "execution_count": 19,
     "metadata": {},
     "output_type": "execute_result"
    }
   ],
   "source": [
    "a, b = torch.unbind(torch.tensor([[1, 2, 3],[3,4,5]]))\n",
    "a, b"
   ]
  },
  {
   "cell_type": "markdown",
   "id": "eligible-crossing",
   "metadata": {},
   "source": [
    "### Clamp"
   ]
  },
  {
   "cell_type": "markdown",
   "id": "bound-makeup",
   "metadata": {},
   "source": [
    "```python\n",
    "torch.clamp(input, min=None, max=None, *, out=None) → Tensor\n",
    "```\n",
    "\n",
    "Clamps all elements in input into the range [ min, max ]. Letting min_value and max_value be min and max, respectively, this returns:\n",
    "\n",
    "$ y_i = min(max(x_i, min\\_value_i), max\\_value_i) $\n",
    "\n",
    "If min is None, there is no lower bound. Or, if max is None there is no upper bound."
   ]
  },
  {
   "cell_type": "markdown",
   "id": "random-diagram",
   "metadata": {},
   "source": [
    "Parameters:\n",
    "* input (Tensor) – the input tensor.\n",
    "* min (Number or Tensor, optional) – lower-bound of the range to be clamped to\n",
    "* max (Number or Tensor, optional) – upper-bound of the range to be clamped to"
   ]
  },
  {
   "cell_type": "markdown",
   "id": "regional-consciousness",
   "metadata": {},
   "source": [
    "Keyword arguments:\n",
    "* out (Tensor, optional) – the output tensor."
   ]
  },
  {
   "cell_type": "code",
   "execution_count": 20,
   "id": "exterior-belle",
   "metadata": {},
   "outputs": [
    {
     "data": {
      "text/plain": [
       "tensor([0.5706, 1.0321, 0.9313, 0.6703])"
      ]
     },
     "execution_count": 20,
     "metadata": {},
     "output_type": "execute_result"
    }
   ],
   "source": [
    "a = torch.randn(4)\n",
    "a"
   ]
  },
  {
   "cell_type": "code",
   "execution_count": 21,
   "id": "differential-spread",
   "metadata": {},
   "outputs": [
    {
     "data": {
      "text/plain": [
       "tensor([0.5000, 0.5000, 0.5000, 0.5000])"
      ]
     },
     "execution_count": 21,
     "metadata": {},
     "output_type": "execute_result"
    }
   ],
   "source": [
    "torch.clamp(a, min=-0.5, max=0.5)"
   ]
  },
  {
   "cell_type": "code",
   "execution_count": 22,
   "id": "durable-conflict",
   "metadata": {},
   "outputs": [
    {
     "data": {
      "text/plain": [
       "(tensor([-1.9345,  0.7367, -0.4161, -0.1425, -1.3405]),\n",
       " tensor([0., 0., 0., 0., 0.]))"
      ]
     },
     "execution_count": 22,
     "metadata": {},
     "output_type": "execute_result"
    }
   ],
   "source": [
    "a = torch.randn(5)\n",
    "b = torch.empty_like(a)\n",
    "a, b"
   ]
  },
  {
   "cell_type": "code",
   "execution_count": 23,
   "id": "appropriate-meter",
   "metadata": {},
   "outputs": [
    {
     "data": {
      "text/plain": [
       "tensor([0.2000, 0.6000, 0.2000, 0.2000, 0.2000])"
      ]
     },
     "execution_count": 23,
     "metadata": {},
     "output_type": "execute_result"
    }
   ],
   "source": [
    "torch.clamp(a, 0.2, 0.6, out=b)\n",
    "b"
   ]
  },
  {
   "cell_type": "markdown",
   "id": "differential-venture",
   "metadata": {},
   "source": [
    "# Gradients"
   ]
  },
  {
   "cell_type": "markdown",
   "id": "regular-interview",
   "metadata": {},
   "source": [
    "Gradient is simply a vector listing the derivatives of a function with respect to each argument of the function."
   ]
  },
  {
   "cell_type": "markdown",
   "id": "assigned-carnival",
   "metadata": {},
   "source": [
    "On setting requires_grad = True, Tensors start forming a backward graph that tracks every operation applied on them to calculate the gradients using something called a dynamic computation graph."
   ]
  },
  {
   "cell_type": "markdown",
   "id": "acting-round",
   "metadata": {},
   "source": [
    "**Backpropagation:** used to calculate the gradients of the loss keeping the input weights to later update the weights and reduce loss."
   ]
  },
  {
   "cell_type": "markdown",
   "id": "nutritional-forward",
   "metadata": {},
   "source": [
    "Steps for training a neural network:\n",
    "* Choose architecture\n",
    "* Forward propagation\n",
    "* Calculate loss\n",
    "* Back propgation\n",
    "* Update weights"
   ]
  },
  {
   "cell_type": "markdown",
   "id": "scientific-mumbai",
   "metadata": {},
   "source": [
    "The change in the loss for a small change in an input weight is called the gradient of that weight and is calculated using backpropagation. The gradient is then used to update the weight using a learning rate to overall reduce the loss and train the neural net.\n"
   ]
  },
  {
   "cell_type": "markdown",
   "id": "lonely-aquatic",
   "metadata": {},
   "source": [
    "![Cost function](https://github.com/rasbt/python-machine-learning-book/raw/master/faq/closed-form-vs-gd/ball.png)"
   ]
  },
  {
   "cell_type": "markdown",
   "id": "matched-stadium",
   "metadata": {},
   "source": [
    "Slope of the angle of our cost function at our current location determines if we are adjusting correctly. A negative slope tells us we are headed downward, which is good because we want to find minima, while a positive slope says that our previous step has overshot our goal (moved beyond the optimal and back up the other side of the function)."
   ]
  },
  {
   "cell_type": "markdown",
   "id": "expired-sensitivity",
   "metadata": {},
   "source": [
    "Derivative is the rate of change of a function. Descent indicates going to the bottom of a cost function using these changing gradients. To obtain derivatives a process of differentiation is used."
   ]
  },
  {
   "cell_type": "markdown",
   "id": "welcome-terror",
   "metadata": {},
   "source": [
    "PyTorch includes an automatic differentiation package, *autograd*."
   ]
  },
  {
   "cell_type": "markdown",
   "id": "retained-feedback",
   "metadata": {},
   "source": [
    "**Autograd:** engine used to calculate derivatives. It records a graph of all the operations performed on a gradient enabled tensor and creates an acyclic graph called the dynamic computational graph."
   ]
  },
  {
   "cell_type": "code",
   "execution_count": 28,
   "id": "secure-indonesia",
   "metadata": {},
   "outputs": [],
   "source": [
    "dtype = torch.float"
   ]
  },
  {
   "cell_type": "code",
   "execution_count": 30,
   "id": "dramatic-machinery",
   "metadata": {},
   "outputs": [],
   "source": [
    "x = torch.linspace(-math.pi, math.pi, 2000, dtype=dtype)\n",
    "y = torch.sin(x)"
   ]
  },
  {
   "cell_type": "code",
   "execution_count": 32,
   "id": "future-cement",
   "metadata": {},
   "outputs": [],
   "source": [
    "a = torch.randn((), dtype=dtype, requires_grad=True)\n",
    "b = torch.randn((), dtype=dtype, requires_grad=True)\n",
    "c = torch.randn((), dtype=dtype, requires_grad=True)\n",
    "d = torch.randn((), dtype=dtype, requires_grad=True)"
   ]
  },
  {
   "cell_type": "code",
   "execution_count": 33,
   "id": "subtle-engineering",
   "metadata": {},
   "outputs": [
    {
     "name": "stdout",
     "output_type": "stream",
     "text": [
      "99 173.02902221679688\n",
      "199 118.72099304199219\n",
      "299 82.42598724365234\n",
      "399 58.15302276611328\n",
      "499 41.90865707397461\n",
      "599 31.03040313720703\n",
      "699 23.740243911743164\n",
      "799 18.851055145263672\n",
      "899 15.5695219039917\n",
      "999 13.365300178527832\n",
      "1099 11.883432388305664\n",
      "1199 10.886346817016602\n",
      "1299 10.214866638183594\n",
      "1399 9.762250900268555\n",
      "1499 9.456851959228516\n",
      "1599 9.25059700012207\n",
      "1699 9.111154556274414\n",
      "1799 9.016794204711914\n",
      "1899 8.952869415283203\n",
      "1999 8.909517288208008\n"
     ]
    }
   ],
   "source": [
    "learning_rate = 1e-6\n",
    "for t in range(2000):\n",
    "    # Forward pass: compute predicted y using operations on Tensors.\n",
    "    y_pred = a + b * x + c * x ** 2 + d * x ** 3\n",
    "\n",
    "    # Compute and print loss using operations on Tensors.\n",
    "    # Now loss is a Tensor of shape (1,)\n",
    "    # loss.item() gets the scalar value held in the loss.\n",
    "    loss = (y_pred - y).pow(2).sum()\n",
    "    if t % 100 == 99:\n",
    "        print(t, loss.item())\n",
    "\n",
    "    # Use autograd to compute the backward pass. This call will compute the\n",
    "    # gradient of loss with respect to all Tensors with requires_grad=True.\n",
    "    # After this call a.grad, b.grad. c.grad and d.grad will be Tensors holding\n",
    "    # the gradient of the loss with respect to a, b, c, d respectively.\n",
    "    loss.backward()\n",
    "\n",
    "    # Manually update weights using gradient descent. Wrap in torch.no_grad()\n",
    "    # because weights have requires_grad=True, but we don't need to track this\n",
    "    # in autograd.\n",
    "    with torch.no_grad():\n",
    "        a -= learning_rate * a.grad\n",
    "        b -= learning_rate * b.grad\n",
    "        c -= learning_rate * c.grad\n",
    "        d -= learning_rate * d.grad\n",
    "\n",
    "        # Manually zero the gradients after updating weights\n",
    "        a.grad = None\n",
    "        b.grad = None\n",
    "        c.grad = None\n",
    "        d.grad = None"
   ]
  },
  {
   "cell_type": "code",
   "execution_count": 37,
   "id": "generic-haven",
   "metadata": {
    "scrolled": true
   },
   "outputs": [
    {
     "data": {
      "text/plain": [
       "<matplotlib.legend.Legend at 0x28a3f73f550>"
      ]
     },
     "execution_count": 37,
     "metadata": {},
     "output_type": "execute_result"
    },
    {
     "data": {
      "image/png": "[encoded data removed]",
      "text/plain": [
       "<Figure size 432x288 with 1 Axes>"
      ]
     },
     "metadata": {
      "needs_background": "light"
     },
     "output_type": "display_data"
    }
   ],
   "source": [
    "x = np.linspace(-math.pi, math.pi, 1000)\n",
    "y = np.sin(x)\n",
    "y_pred = a.item() + b.item()*x + c.item()*x**2 + d.item()*x**3\n",
    "\n",
    "plt.ylim(-2,2)\n",
    "plt.plot(x, y, \"-b\", label=\"sin(x)\")\n",
    "plt.plot(x, y_pred, \"-r\", label=\"y_pred(x)\")\n",
    "plt.xlabel(\"x\")\n",
    "plt.ylabel(\"y_pred(x), sin(x)\")\n",
    "plt.legend(loc=\"upper left\")"
   ]
  },
  {
   "cell_type": "markdown",
   "id": "periodic-collins",
   "metadata": {},
   "source": [
    "# Neural network in Keras"
   ]
  },
  {
   "cell_type": "code",
   "execution_count": null,
   "id": "cooperative-mineral",
   "metadata": {},
   "outputs": [],
   "source": []
  },
  {
   "cell_type": "markdown",
   "id": "ultimate-surgery",
   "metadata": {},
   "source": [
    "# Neural network in PyTorch"
   ]
  },
  {
   "cell_type": "code",
   "execution_count": null,
   "id": "statewide-country",
   "metadata": {},
   "outputs": [],
   "source": []
  }
 ],
 "metadata": {
  "kernelspec": {
   "display_name": "Python 3",
   "language": "python",
   "name": "python3"
  },
  "language_info": {
   "codemirror_mode": {
    "name": "ipython",
    "version": 3
   },
   "file_extension": ".py",
   "mimetype": "text/x-python",
   "name": "python",
   "nbconvert_exporter": "python",
   "pygments_lexer": "ipython3",
   "version": "3.8.8"
  }
 },
 "nbformat": 4,
 "nbformat_minor": 5
}
