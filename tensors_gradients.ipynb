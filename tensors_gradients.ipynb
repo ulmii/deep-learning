{
 "cells": [
  {
   "cell_type": "code",
   "execution_count": 1,
   "id": "dedicated-conflict",
   "metadata": {},
   "outputs": [],
   "source": [
    "import torch"
   ]
  },
  {
   "cell_type": "markdown",
   "id": "aboriginal-member",
   "metadata": {},
   "source": [
    "# Tensors"
   ]
  },
  {
   "cell_type": "markdown",
   "id": "devoted-growth",
   "metadata": {},
   "source": [
    "Tensor is a multi-dimensional generalization of a matrix, allowing us to have multidimensional arrays of structured data. We can do mathematical operations on them without knowing what each of the dimensions represents semantically."
   ]
  },
  {
   "cell_type": "markdown",
   "id": "allied-wagon",
   "metadata": {},
   "source": [
    "They can also be simpler structures like vectors."
   ]
  },
  {
   "cell_type": "markdown",
   "id": "beginning-fantasy",
   "metadata": {},
   "source": [
    "![Tensors](https://cdn-images-1.medium.com/max/2000/1*_D5ZvufDS38WkhK9rK32hQ.jpeg)"
   ]
  },
  {
   "cell_type": "markdown",
   "id": "processed-cliff",
   "metadata": {},
   "source": [
    "### Tensor operations"
   ]
  },
  {
   "cell_type": "markdown",
   "id": "executive-large",
   "metadata": {},
   "source": [
    "### Construction"
   ]
  },
  {
   "cell_type": "markdown",
   "id": "mineral-orientation",
   "metadata": {},
   "source": [
    "```python\n",
    "torch.tensor(data, *, dtype=None, device=None, requires_grad=False, pin_memory=False) → Tensor\n",
    "```\n",
    "\n",
    "Constructs a tensor with data."
   ]
  },
  {
   "cell_type": "markdown",
   "id": "permanent-moldova",
   "metadata": {},
   "source": [
    "Parameters:\n",
    "* data (array_like) – Initial data for the tensor. Can be a list, tuple, NumPy ndarray, scalar, and other types."
   ]
  },
  {
   "cell_type": "markdown",
   "id": "accomplished-uncle",
   "metadata": {},
   "source": [
    "Keyword arguments:\n",
    "* dtype (torch.dtype, optional) – the desired data type of returned tensor. Default: if None, infers data type from data.\n",
    "\n",
    "* device (torch.device, optional) – the desired device of returned tensor. Default: if None, uses the current device for the default tensor type (see torch.set_default_tensor_type()). device will be the CPU for CPU tensor types and the current CUDA device for CUDA tensor types.\n",
    "\n",
    "* requires_grad (bool, optional) – If autograd should record operations on the returned tensor. Default: False.\n",
    "\n",
    "* pin_memory (bool, optional) – If set, returned tensor would be allocated in the pinned memory. Works only for CPU tensors. Default: False."
   ]
  },
  {
   "cell_type": "code",
   "execution_count": 2,
   "id": "fuzzy-talent",
   "metadata": {},
   "outputs": [
    {
     "data": {
      "text/plain": [
       "tensor([[0.1000, 1.2000],\n",
       "        [2.2000, 3.1000],\n",
       "        [4.9000, 5.2000]])"
      ]
     },
     "execution_count": 2,
     "metadata": {},
     "output_type": "execute_result"
    }
   ],
   "source": [
    "torch.tensor([[0.1, 1.2], [2.2, 3.1], [4.9, 5.2]])"
   ]
  },
  {
   "cell_type": "code",
   "execution_count": 3,
   "id": "piano-chicago",
   "metadata": {},
   "outputs": [
    {
     "data": {
      "text/plain": [
       "tensor([0, 1])"
      ]
     },
     "execution_count": 3,
     "metadata": {},
     "output_type": "execute_result"
    }
   ],
   "source": [
    "torch.tensor([0, 1])"
   ]
  },
  {
   "cell_type": "code",
   "execution_count": 4,
   "id": "compact-petroleum",
   "metadata": {},
   "outputs": [
    {
     "data": {
      "text/plain": [
       "tensor([[0.1111, 0.2222, 0.3333]], device='cuda:0', dtype=torch.float64)"
      ]
     },
     "execution_count": 4,
     "metadata": {},
     "output_type": "execute_result"
    }
   ],
   "source": [
    "torch.tensor([[0.11111, 0.222222, 0.3333333]],\n",
    "    dtype=torch.float64,\n",
    "    device=torch.device('cuda:0'))"
   ]
  },
  {
   "cell_type": "code",
   "execution_count": 5,
   "id": "dependent-surfing",
   "metadata": {},
   "outputs": [
    {
     "data": {
      "text/plain": [
       "tensor(3.1416)"
      ]
     },
     "execution_count": 5,
     "metadata": {},
     "output_type": "execute_result"
    }
   ],
   "source": [
    "torch.tensor(3.14159)"
   ]
  },
  {
   "cell_type": "code",
   "execution_count": 6,
   "id": "alpha-berry",
   "metadata": {},
   "outputs": [
    {
     "data": {
      "text/plain": [
       "tensor([])"
      ]
     },
     "execution_count": 6,
     "metadata": {},
     "output_type": "execute_result"
    }
   ],
   "source": [
    "torch.tensor([])"
   ]
  },
  {
   "cell_type": "code",
   "execution_count": 7,
   "id": "extreme-copying",
   "metadata": {},
   "outputs": [
    {
     "data": {
      "text/plain": [
       "tensor([0.2500, 0.2500, 0.2500, 0.2500])"
      ]
     },
     "execution_count": 7,
     "metadata": {},
     "output_type": "execute_result"
    }
   ],
   "source": [
    "x = torch.tensor([1,2,3,4],dtype=torch.float32)\n",
    "x.requires_grad_(requires_grad=True)\n",
    "y = torch.tensor([1, 1, 1, 1],dtype=torch.float32,requires_grad=True) # tensor y \n",
    "z = x * y\n",
    "z = z.mean()\n",
    "z.backward() \n",
    "x.grad"
   ]
  },
  {
   "cell_type": "markdown",
   "id": "formal-parts",
   "metadata": {},
   "source": [
    "### Concatenation"
   ]
  },
  {
   "cell_type": "markdown",
   "id": "efficient-computer",
   "metadata": {},
   "source": [
    "```python\n",
    "torch.cat(tensors, dim=0, *, out=None) → Tensor\n",
    "```\n",
    "\n",
    "Concatenates the given sequence of seq tensors in the given dimension. All tensors must either have the same shape (except in the concatenating dimension) or be empty.\n"
   ]
  },
  {
   "cell_type": "markdown",
   "id": "bulgarian-clearance",
   "metadata": {},
   "source": [
    "Parameters:\n",
    "* tensors (sequence of Tensors) – any python sequence of tensors of the same type. Non-empty tensors provided must have the same shape, except in the cat dimension.\n",
    "\n",
    "* dim (int, optional) – the dimension over which the tensors are concatenated"
   ]
  },
  {
   "cell_type": "markdown",
   "id": "exciting-thought",
   "metadata": {},
   "source": [
    "Keyword arguments:\n",
    "* out (Tensor, optional) – the output tensor."
   ]
  },
  {
   "cell_type": "code",
   "execution_count": 8,
   "id": "proud-scene",
   "metadata": {},
   "outputs": [
    {
     "data": {
      "text/plain": [
       "tensor([[ 0.3933,  0.3489, -0.1641],\n",
       "        [-1.3551, -0.8775, -0.1454]])"
      ]
     },
     "execution_count": 8,
     "metadata": {},
     "output_type": "execute_result"
    }
   ],
   "source": [
    "x = torch.randn(2, 3)\n",
    "x"
   ]
  },
  {
   "cell_type": "code",
   "execution_count": 9,
   "id": "employed-fever",
   "metadata": {},
   "outputs": [
    {
     "data": {
      "text/plain": [
       "tensor([[ 0.3933,  0.3489, -0.1641],\n",
       "        [-1.3551, -0.8775, -0.1454],\n",
       "        [ 0.3933,  0.3489, -0.1641],\n",
       "        [-1.3551, -0.8775, -0.1454],\n",
       "        [ 0.3933,  0.3489, -0.1641],\n",
       "        [-1.3551, -0.8775, -0.1454]])"
      ]
     },
     "execution_count": 9,
     "metadata": {},
     "output_type": "execute_result"
    }
   ],
   "source": [
    "torch.cat((x, x, x), 0)"
   ]
  },
  {
   "cell_type": "code",
   "execution_count": 10,
   "id": "acute-express",
   "metadata": {
    "scrolled": true
   },
   "outputs": [
    {
     "data": {
      "text/plain": [
       "tensor([[1., 1.],\n",
       "        [1., 1.],\n",
       "        [0., 0.]])"
      ]
     },
     "execution_count": 10,
     "metadata": {},
     "output_type": "execute_result"
    }
   ],
   "source": [
    "a = torch.ones(2,2)\n",
    "b = torch.zeros(1,2)\n",
    "torch.cat((a, b))"
   ]
  },
  {
   "cell_type": "markdown",
   "id": "approved-heather",
   "metadata": {},
   "source": [
    "### Reshape"
   ]
  },
  {
   "cell_type": "markdown",
   "id": "afraid-tanzania",
   "metadata": {},
   "source": [
    "```python\n",
    "torch.reshape(input, shape) → Tensor\n",
    "```\n",
    "\n",
    "Returns a tensor with the same data and number of elements as input, but with the specified shape. When possible, the returned tensor will be a view of input. Otherwise, it will be a copy. Contiguous inputs and inputs with compatible strides can be reshaped without copying, but you should not depend on the copying vs. viewing behavior."
   ]
  },
  {
   "cell_type": "markdown",
   "id": "european-pricing",
   "metadata": {},
   "source": [
    "Parameters:\n",
    "* input (Tensor) – the tensor to be reshaped\n",
    "\n",
    "* shape (tuple of python:ints) – the new shape"
   ]
  },
  {
   "cell_type": "code",
   "execution_count": 11,
   "id": "crude-barbados",
   "metadata": {},
   "outputs": [
    {
     "data": {
      "text/plain": [
       "tensor([0., 1., 2., 3.])"
      ]
     },
     "execution_count": 11,
     "metadata": {},
     "output_type": "execute_result"
    }
   ],
   "source": [
    "a = torch.arange(4.)\n",
    "a"
   ]
  },
  {
   "cell_type": "code",
   "execution_count": 12,
   "id": "interesting-warrant",
   "metadata": {},
   "outputs": [
    {
     "data": {
      "text/plain": [
       "tensor([[0., 1.],\n",
       "        [2., 3.]])"
      ]
     },
     "execution_count": 12,
     "metadata": {},
     "output_type": "execute_result"
    }
   ],
   "source": [
    "torch.reshape(a, (2, 2))"
   ]
  },
  {
   "cell_type": "code",
   "execution_count": 13,
   "id": "nonprofit-daisy",
   "metadata": {},
   "outputs": [
    {
     "data": {
      "text/plain": [
       "tensor([0, 1, 2, 3])"
      ]
     },
     "execution_count": 13,
     "metadata": {},
     "output_type": "execute_result"
    }
   ],
   "source": [
    "b = torch.tensor([[0, 1], [2, 3]])\n",
    "torch.reshape(b, (-1,))"
   ]
  },
  {
   "cell_type": "markdown",
   "id": "vocal-chocolate",
   "metadata": {},
   "source": [
    "### Unbind"
   ]
  },
  {
   "cell_type": "markdown",
   "id": "sustained-version",
   "metadata": {},
   "source": [
    "```python\n",
    "torch.unbind(input, dim=0) → seq\n",
    "```\n",
    "\n",
    "Removes a tensor dimension."
   ]
  },
  {
   "cell_type": "markdown",
   "id": "metallic-poker",
   "metadata": {},
   "source": [
    "Parameters:\n",
    "* input (Tensor) – the tensor to unbind\n",
    "* dim (int) – dimension to remove"
   ]
  },
  {
   "cell_type": "code",
   "execution_count": 14,
   "id": "associate-sodium",
   "metadata": {},
   "outputs": [
    {
     "data": {
      "text/plain": [
       "(tensor([1, 2, 3]), tensor([4, 5, 6]), tensor([7, 8, 9]))"
      ]
     },
     "execution_count": 14,
     "metadata": {},
     "output_type": "execute_result"
    }
   ],
   "source": [
    "torch.unbind(torch.tensor([[1, 2, 3],\n",
    "                           [4, 5, 6],\n",
    "                           [7, 8, 9]]))"
   ]
  },
  {
   "cell_type": "code",
   "execution_count": 15,
   "id": "valued-japanese",
   "metadata": {},
   "outputs": [
    {
     "data": {
      "text/plain": [
       "(tensor([1, 2, 3]), tensor([3, 4, 5]))"
      ]
     },
     "execution_count": 15,
     "metadata": {},
     "output_type": "execute_result"
    }
   ],
   "source": [
    "a, b = torch.unbind(torch.tensor([[1, 2, 3],[3,4,5]]))\n",
    "a, b"
   ]
  },
  {
   "cell_type": "markdown",
   "id": "eligible-crossing",
   "metadata": {},
   "source": [
    "### Clamp"
   ]
  },
  {
   "cell_type": "markdown",
   "id": "bound-makeup",
   "metadata": {},
   "source": [
    "```python\n",
    "torch.clamp(input, min=None, max=None, *, out=None) → Tensor\n",
    "```\n",
    "\n",
    "Clamps all elements in input into the range [ min, max ]. Letting min_value and max_value be min and max, respectively, this returns:\n",
    "\n",
    "$ y_i = min(max(x_i, min\\_value_i), max\\_value_i) $\n",
    "\n",
    "If min is None, there is no lower bound. Or, if max is None there is no upper bound."
   ]
  },
  {
   "cell_type": "markdown",
   "id": "random-diagram",
   "metadata": {},
   "source": [
    "Parameters:\n",
    "* input (Tensor) – the input tensor.\n",
    "* min (Number or Tensor, optional) – lower-bound of the range to be clamped to\n",
    "* max (Number or Tensor, optional) – upper-bound of the range to be clamped to"
   ]
  },
  {
   "cell_type": "markdown",
   "id": "regional-consciousness",
   "metadata": {},
   "source": [
    "Keyword arguments:\n",
    "* out (Tensor, optional) – the output tensor."
   ]
  },
  {
   "cell_type": "code",
   "execution_count": 16,
   "id": "exterior-belle",
   "metadata": {},
   "outputs": [
    {
     "data": {
      "text/plain": [
       "tensor([-0.4108, -1.7801, -0.2086, -0.3729])"
      ]
     },
     "execution_count": 16,
     "metadata": {},
     "output_type": "execute_result"
    }
   ],
   "source": [
    "a = torch.randn(4)\n",
    "a"
   ]
  },
  {
   "cell_type": "code",
   "execution_count": 17,
   "id": "differential-spread",
   "metadata": {},
   "outputs": [
    {
     "data": {
      "text/plain": [
       "tensor([-0.4108, -0.5000, -0.2086, -0.3729])"
      ]
     },
     "execution_count": 17,
     "metadata": {},
     "output_type": "execute_result"
    }
   ],
   "source": [
    "torch.clamp(a, min=-0.5, max=0.5)"
   ]
  },
  {
   "cell_type": "code",
   "execution_count": 18,
   "id": "durable-conflict",
   "metadata": {},
   "outputs": [
    {
     "data": {
      "text/plain": [
       "(tensor([-0.0610, -2.2499,  0.9637, -0.5109, -2.9252]),\n",
       " tensor([0., 0., 0., 0., 0.]))"
      ]
     },
     "execution_count": 18,
     "metadata": {},
     "output_type": "execute_result"
    }
   ],
   "source": [
    "a = torch.randn(5)\n",
    "b = torch.empty_like(a)\n",
    "a, b"
   ]
  },
  {
   "cell_type": "code",
   "execution_count": 19,
   "id": "appropriate-meter",
   "metadata": {},
   "outputs": [
    {
     "data": {
      "text/plain": [
       "tensor([0.2000, 0.2000, 0.6000, 0.2000, 0.2000])"
      ]
     },
     "execution_count": 19,
     "metadata": {},
     "output_type": "execute_result"
    }
   ],
   "source": [
    "torch.clamp(a, 0.2, 0.6, out=b)\n",
    "b"
   ]
  }
 ],
 "metadata": {
  "kernelspec": {
   "display_name": "Python 3",
   "language": "python",
   "name": "python3"
  },
  "language_info": {
   "codemirror_mode": {
    "name": "ipython",
    "version": 3
   },
   "file_extension": ".py",
   "mimetype": "text/x-python",
   "name": "python",
   "nbconvert_exporter": "python",
   "pygments_lexer": "ipython3",
   "version": "3.8.8"
  }
 },
 "nbformat": 4,
 "nbformat_minor": 5
}
